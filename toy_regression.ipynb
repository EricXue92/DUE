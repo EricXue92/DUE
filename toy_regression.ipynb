{
 "cells": [
  {
   "cell_type": "code",
   "execution_count": 1,
   "metadata": {},
   "outputs": [],
   "source": [
    "import numpy as np\n",
    "import torch\n",
    "import torch.nn as nn\n",
    "import torch.nn.functional as F\n",
    "\n",
    "from ignite.engine import Events, Engine\n",
    "from ignite.metrics import Average, Loss\n",
    "from ignite.contrib.handlers import ProgressBar\n",
    "\n",
    "import gpytorch\n",
    "from gpytorch.mlls import VariationalELBO\n",
    "from gpytorch.likelihoods import GaussianLikelihood\n",
    "\n",
    "from due.dkl import DKL, GP, initial_values\n",
    "from due.sngp import Laplace\n",
    "from due.fc_resnet import FCResNet\n",
    "\n",
    "import matplotlib.pyplot as plt\n",
    "import seaborn as sns\n",
    "\n",
    "sns.set()\n",
    "sns.set_palette(\"colorblind\")\n"
   ]
  },
  {
   "cell_type": "code",
   "execution_count": 2,
   "metadata": {},
   "outputs": [],
   "source": [
    "def make_data(n_samples, noise=0.05, seed=2):\n",
    "    \n",
    "    # make some random sines & cosines\n",
    "    np.random.seed(seed)\n",
    "    n_samples = int(n_samples)\n",
    "    \n",
    "    W = np.random.randn(30, 1)\n",
    "    b = np.random.rand(30, 1) * 2 * np.pi\n",
    "    \n",
    "    x = 5 * np.sign(np.random.randn(n_samples)) + np.random.randn(n_samples).clip(-2, 2) # x.shape -> (1000, )\n",
    "    y = np.cos(W * x + b).sum(0) + noise * np.random.randn(n_samples)\n",
    "    \n",
    "    # x[..., None] we add a new axis to the array \n",
    "    # (1000,1)\n",
    "    return x[..., None], y"
   ]
  },
  {
   "cell_type": "code",
   "execution_count": 3,
   "metadata": {},
   "outputs": [
    {
     "data": {
      "text/plain": [
       "<matplotlib.collections.PathCollection at 0x7fcf4f0f7b00>"
      ]
     },
     "execution_count": 3,
     "metadata": {},
     "output_type": "execute_result"
    },
    {
     "data": {
      "image/png": "[encoded data removed]",
      "text/plain": [
       "<Figure size 640x480 with 1 Axes>"
      ]
     },
     "metadata": {},
     "output_type": "display_data"
    }
   ],
   "source": [
    "n_samples = 1e3\n",
    "# n_samples = 1e6\n",
    "domain = 15\n",
    "x, y = make_data(n_samples)\n",
    "plt.scatter(x, y)"
   ]
  },
  {
   "cell_type": "code",
   "execution_count": 4,
   "metadata": {},
   "outputs": [],
   "source": [
    "# 数据准备\n",
    "np.random.seed(0)\n",
    "torch.manual_seed(0)\n",
    "\n",
    "batch_size = 128\n",
    "\n",
    "X_train, y_train = make_data(n_samples)\n",
    "X_test, y_test = X_train, y_train\n",
    "\n",
    "#### 组合 X_train, y_train 成一个 TensorDataset \n",
    "\n",
    "# torch.from_numpy: Converts NumPy arrays to PyTorch tensors.\n",
    "# TensorDataset: Combines X_tensor and y_tensor into a dataset.\n",
    "ds_train = torch.utils.data.TensorDataset(torch.from_numpy(X_train).float(), torch.from_numpy(y_train).float())\n",
    "dl_train = torch.utils.data.DataLoader(ds_train, batch_size = batch_size, shuffle = True, drop_last = True)\n",
    "\n",
    "# DataLoader: Loads data in batches and allows shuffling.\n",
    "ds_test = torch.utils.data.TensorDataset( torch.from_numpy(X_test).float(), torch.from_numpy(y_test).float() )\n",
    "dl_test = torch.utils.data.DataLoader( ds_test, batch_size=512, shuffle=False )"
   ]
  },
  {
   "cell_type": "code",
   "execution_count": 5,
   "metadata": {
    "scrolled": false
   },
   "outputs": [
    {
     "name": "stdout",
     "output_type": "stream",
     "text": [
      "Training with 1000.0 datapoints for 715.0 epochs\n"
     ]
    },
    {
     "name": "stderr",
     "output_type": "stream",
     "text": [
      "/home/xuelong/.conda/envs/xuelong-torch/lib/python3.12/site-packages/ignite/handlers/tqdm_logger.py:127: TqdmExperimentalWarning: Using `tqdm.autonotebook.tqdm` in notebook mode. Use `tqdm.tqdm` instead to force console mode (e.g. in jupyter console)\n",
      "  from tqdm.autonotebook import tqdm\n"
     ]
    }
   ],
   "source": [
    "steps = 5e3\n",
    "epochs = steps // len(dl_train) + 1\n",
    "print(f\"Training with {n_samples} datapoints for {epochs} epochs\")\n",
    "\n",
    "# Change this boolean to False for SNGP\n",
    "DUE = True\n",
    "\n",
    "input_dim = 1 \n",
    "features = 128 # 转化特征维度\n",
    "depth = 4 # 神经网络层数\n",
    "num_outputs = 1 # regression with 1D output\n",
    "spectral_normalization = True\n",
    "coeff = 0.95\n",
    "n_power_iterations = 1\n",
    "dropout_rate = 0.01\n",
    "\n",
    "# 神经网络特征转换方法 包括spectral normalization\n",
    "feature_extractor = FCResNet(\n",
    "    input_dim = input_dim, \n",
    "    features = features, \n",
    "    depth = depth, \n",
    "    spectral_normalization = spectral_normalization, \n",
    "    coeff = coeff, \n",
    "    n_power_iterations = n_power_iterations,\n",
    "    dropout_rate = dropout_rate\n",
    ")\n",
    "\n",
    "if DUE:\n",
    "    n_inducing_points = 20\n",
    "    kernel = \"RBF\"\n",
    "    \n",
    "    # 初始化 inducing points的位置 和 形状参数\n",
    "    # initial_values函数的 输入是 训练数据，特征转换方法 和 inducing points的数量\n",
    "    initial_inducing_points, initial_lengthscale = initial_values(\n",
    "            ds_train, feature_extractor, n_inducing_points\n",
    "    )\n",
    "    \n",
    "    # Gaussian Process model using variational inference\n",
    "    gp = GP(\n",
    "        num_outputs = num_outputs,\n",
    "        initial_lengthscale = initial_lengthscale,\n",
    "        initial_inducing_points = initial_inducing_points,\n",
    "        kernel=kernel,\n",
    "    )\n",
    "    \n",
    "    # Integrate deep learning with Gaussian Processes \n",
    "    # allows the GP to operate on features extracted by a neural network\n",
    "    model = DKL(feature_extractor, gp)\n",
    "    # return model = self.gp(feature_extractor)\n",
    "\n",
    "    likelihood = GaussianLikelihood()\n",
    "    \n",
    "    #  Set up Variational ELBO\n",
    "    elbo_fn = VariationalELBO( likelihood, model.gp,  num_data = len(ds_train))\n",
    "    loss_fn = lambda x, y: -elbo_fn(x, y)\n",
    "    \n",
    "else:\n",
    "    num_gp_features = 128\n",
    "    num_random_features = 1024\n",
    "    normalize_gp_features = True\n",
    "    feature_scale = 2\n",
    "    ridge_penalty = 1\n",
    "    \n",
    "    model = Laplace(feature_extractor,\n",
    "                    features,\n",
    "                    num_gp_features,\n",
    "                    normalize_gp_features,\n",
    "                    num_random_features,\n",
    "                    num_outputs,\n",
    "                    len(ds_train),\n",
    "                    batch_size,\n",
    "                    ridge_penalty=ridge_penalty,\n",
    "                    feature_scale=feature_scale\n",
    "                )\n",
    "\n",
    "    loss_fn = F.mse_loss\n",
    "\n",
    "if torch.cuda.is_available():\n",
    "    model = model.cuda()\n",
    "    \n",
    "    if DUE:\n",
    "        likelihood = likelihood.cuda()\n",
    "    \n",
    "lr = 1e-3\n",
    "\n",
    "parameters = [\n",
    "    {\"params\": model.parameters(), \"lr\": lr},\n",
    "]\n",
    "\n",
    "if DUE:\n",
    "    parameters.append({\"params\": likelihood.parameters(), \"lr\": lr})\n",
    "    \n",
    "    \n",
    "optimizer = torch.optim.Adam(parameters)\n",
    "pbar = ProgressBar()\n",
    "\n",
    "\n",
    "def step(engine, batch):\n",
    "    model.train()\n",
    "    if DUE:\n",
    "        likelihood.train()\n",
    "    optimizer.zero_grad()\n",
    "    x, y = batch\n",
    "    if torch.cuda.is_available():\n",
    "        x = x.cuda()\n",
    "        y = y.cuda()\n",
    "\n",
    "    y_pred = model(x)\n",
    "    \n",
    "    if not DUE:\n",
    "        y_pred.squeeze_()\n",
    "\n",
    "    loss = loss_fn(y_pred, y)\n",
    "    \n",
    "    loss.backward()\n",
    "    optimizer.step()\n",
    "    \n",
    "    return loss.item()\n",
    "\n",
    "\n",
    "def eval_step(engine, batch):\n",
    "    model.eval()\n",
    "    if DUE:\n",
    "        likelihood.eval()\n",
    "    \n",
    "    x, y = batch\n",
    "    if torch.cuda.is_available():\n",
    "        x = x.cuda()\n",
    "        y = y.cuda()\n",
    "\n",
    "    y_pred = model(x)\n",
    "            \n",
    "    return y_pred, y\n",
    "\n",
    "# \n",
    "trainer = Engine(step)\n",
    "evaluator = Engine(eval_step)\n",
    "\n",
    "metric = Average()\n",
    "metric.attach(trainer, \"loss\")\n",
    "pbar.attach(trainer)\n",
    "\n",
    "if DUE:\n",
    "    metric = Loss(lambda y_pred, y: - likelihood.expected_log_prob(y, y_pred).mean())\n",
    "    \n",
    "else:\n",
    "    metric = Loss(lambda y_pred, y: F.mse_loss(y_pred[0].squeeze(), y))\n",
    "\n",
    "\n",
    "metric.attach(evaluator, \"loss\")\n",
    "\n",
    "@trainer.on(Events.EPOCH_COMPLETED(every=int(epochs/10) + 1))\n",
    "def log_results(trainer):\n",
    "    evaluator.run(dl_test)\n",
    "    print(f\"Results - Epoch: {trainer.state.epoch} - \"\n",
    "        f\"Test Likelihood: {evaluator.state.metrics['loss']:.2f} - \"\n",
    "        f\"Loss: {trainer.state.metrics['loss']:.2f}\")\n",
    "\n",
    "    \n",
    "if not DUE:\n",
    "    @trainer.on(Events.EPOCH_STARTED)\n",
    "    def reset_precision_matrix(trainer):\n",
    "        model.reset_precision_matrix()"
   ]
  },
  {
   "cell_type": "code",
   "execution_count": 6,
   "metadata": {
    "scrolled": false
   },
   "outputs": [
    {
     "data": {
      "application/vnd.jupyter.widget-view+json": {
       "model_id": "efc133f635114fcd8ecd9ee76955d264",
       "version_major": 2,
       "version_minor": 0
      },
      "text/plain": [
       "[1/7]  14%|#4         [00:00<?]"
      ]
     },
     "metadata": {},
     "output_type": "display_data"
    },
    {
     "data": {
      "application/vnd.jupyter.widget-view+json": {
       "model_id": "49dfb53556c24e958c5f274486dfe80f",
       "version_major": 2,
       "version_minor": 0
      },
      "text/plain": [
       "[1/7]  14%|#4         [00:00<?]"
      ]
     },
     "metadata": {},
     "output_type": "display_data"
    },
    {
     "data": {
      "application/vnd.jupyter.widget-view+json": {
       "model_id": "8e4969fd9eaa4a68941204c5bff82da6",
       "version_major": 2,
       "version_minor": 0
      },
      "text/plain": [
       "[1/7]  14%|#4         [00:00<?]"
      ]
     },
     "metadata": {},
     "output_type": "display_data"
    },
    {
     "data": {
      "application/vnd.jupyter.widget-view+json": {
       "model_id": "cd11efa5230c4b0c9bdfb3153ee90f17",
       "version_major": 2,
       "version_minor": 0
      },
      "text/plain": [
       "[1/7]  14%|#4         [00:00<?]"
      ]
     },
     "metadata": {},
     "output_type": "display_data"
    },
    {
     "data": {
      "application/vnd.jupyter.widget-view+json": {
       "model_id": "85d705fa66fe47a0a898afbfa2d5a7f8",
       "version_major": 2,
       "version_minor": 0
      },
      "text/plain": [
       "[1/7]  14%|#4         [00:00<?]"
      ]
     },
     "metadata": {},
     "output_type": "display_data"
    },
    {
     "data": {
      "application/vnd.jupyter.widget-view+json": {
       "model_id": "892dfc0ff77c47fabd55a49957aa8602",
       "version_major": 2,
       "version_minor": 0
      },
      "text/plain": [
       "[1/7]  14%|#4         [00:00<?]"
      ]
     },
     "metadata": {},
     "output_type": "display_data"
    },
    {
     "data": {
      "application/vnd.jupyter.widget-view+json": {
       "model_id": "006afb33a79c4ceb827677b12774e4b9",
       "version_major": 2,
       "version_minor": 0
      },
      "text/plain": [
       "[1/7]  14%|#4         [00:00<?]"
      ]
     },
     "metadata": {},
     "output_type": "display_data"
    },
    {
     "data": {
      "application/vnd.jupyter.widget-view+json": {
       "model_id": "581a7ed826b94c428d7af7f83cdf6f57",
       "version_major": 2,
       "version_minor": 0
      },
      "text/plain": [
       "[1/7]  14%|#4         [00:00<?]"
      ]
     },
     "metadata": {},
     "output_type": "display_data"
    },
    {
     "data": {
      "application/vnd.jupyter.widget-view+json": {
       "model_id": "b19ea86ceece4697a3c3f5edd6656643",
       "version_major": 2,
       "version_minor": 0
      },
      "text/plain": [
       "[1/7]  14%|#4         [00:00<?]"
      ]
     },
     "metadata": {},
     "output_type": "display_data"
    },
    {
     "data": {
      "application/vnd.jupyter.widget-view+json": {
       "model_id": "8abbebfd09274b228501db84d8eeeb44",
       "version_major": 2,
       "version_minor": 0
      },
      "text/plain": [
       "[1/7]  14%|#4         [00:00<?]"
      ]
     },
     "metadata": {},
     "output_type": "display_data"
    },
    {
     "data": {
      "application/vnd.jupyter.widget-view+json": {
       "model_id": "3ec21d2c40704e4fb86c7fda40ae2e0e",
       "version_major": 2,
       "version_minor": 0
      },
      "text/plain": [
       "[1/7]  14%|#4         [00:00<?]"
      ]
     },
     "metadata": {},
     "output_type": "display_data"
    },
    {
     "data": {
      "application/vnd.jupyter.widget-view+json": {
       "model_id": "4f5c5b176aea4bf982dc1257da30e23a",
       "version_major": 2,
       "version_minor": 0
      },
      "text/plain": [
       "[1/7]  14%|#4         [00:00<?]"
      ]
     },
     "metadata": {},
     "output_type": "display_data"
    },
    {
     "data": {
      "application/vnd.jupyter.widget-view+json": {
       "model_id": "2cc397da8d51425c8ccac92e68ed3ac6",
       "version_major": 2,
       "version_minor": 0
      },
      "text/plain": [
       "[1/7]  14%|#4         [00:00<?]"
      ]
     },
     "metadata": {},
     "output_type": "display_data"
    },
    {
     "data": {
      "application/vnd.jupyter.widget-view+json": {
       "model_id": "37680013ce5c494ab50c11273236de11",
       "version_major": 2,
       "version_minor": 0
      },
      "text/plain": [
       "[1/7]  14%|#4         [00:00<?]"
      ]
     },
     "metadata": {},
     "output_type": "display_data"
    },
    {
     "data": {
      "application/vnd.jupyter.widget-view+json": {
       "model_id": "7306b4d00de74e1fb769721a08970ac3",
       "version_major": 2,
       "version_minor": 0
      },
      "text/plain": [
       "[1/7]  14%|#4         [00:00<?]"
      ]
     },
     "metadata": {},
     "output_type": "display_data"
    },
    {
     "data": {
      "application/vnd.jupyter.widget-view+json": {
       "model_id": "421cb327757c42d3b0a8be44d9b7446d",
       "version_major": 2,
       "version_minor": 0
      },
      "text/plain": [
       "[1/7]  14%|#4         [00:00<?]"
      ]
     },
     "metadata": {},
     "output_type": "display_data"
    },
    {
     "data": {
      "application/vnd.jupyter.widget-view+json": {
       "model_id": "e79b5f4e14464ba087999239c8d8cc33",
       "version_major": 2,
       "version_minor": 0
      },
      "text/plain": [
       "[1/7]  14%|#4         [00:00<?]"
      ]
     },
     "metadata": {},
     "output_type": "display_data"
    },
    {
     "data": {
      "application/vnd.jupyter.widget-view+json": {
       "model_id": "bb0fecbfeb514645abca725ccf910709",
       "version_major": 2,
       "version_minor": 0
      },
      "text/plain": [
       "[1/7]  14%|#4         [00:00<?]"
      ]
     },
     "metadata": {},
     "output_type": "display_data"
    },
    {
     "data": {
      "application/vnd.jupyter.widget-view+json": {
       "model_id": "36663aca95b648558a6a8ab683a8e6be",
       "version_major": 2,
       "version_minor": 0
      },
      "text/plain": [
       "[1/7]  14%|#4         [00:00<?]"
      ]
     },
     "metadata": {},
     "output_type": "display_data"
    },
    {
     "data": {
      "application/vnd.jupyter.widget-view+json": {
       "model_id": "e7137e2f17f645b0ac9b0f653cddd01e",
       "version_major": 2,
       "version_minor": 0
      },
      "text/plain": [
       "[1/7]  14%|#4         [00:00<?]"
      ]
     },
     "metadata": {},
     "output_type": "display_data"
    },
    {
     "data": {
      "application/vnd.jupyter.widget-view+json": {
       "model_id": "cfb145df72c6403f8e432d06f3a1cb77",
       "version_major": 2,
       "version_minor": 0
      },
      "text/plain": [
       "[1/7]  14%|#4         [00:00<?]"
      ]
     },
     "metadata": {},
     "output_type": "display_data"
    },
    {
     "data": {
      "application/vnd.jupyter.widget-view+json": {
       "model_id": "384c9b104fa44a56a7d78201b11e9402",
       "version_major": 2,
       "version_minor": 0
      },
      "text/plain": [
       "[1/7]  14%|#4         [00:00<?]"
      ]
     },
     "metadata": {},
     "output_type": "display_data"
    },
    {
     "data": {
      "application/vnd.jupyter.widget-view+json": {
       "model_id": "dc2319c40f744570a8c3cf853455e86d",
       "version_major": 2,
       "version_minor": 0
      },
      "text/plain": [
       "[1/7]  14%|#4         [00:00<?]"
      ]
     },
     "metadata": {},
     "output_type": "display_data"
    },
    {
     "data": {
      "application/vnd.jupyter.widget-view+json": {
       "model_id": "3ebae1a175b94302bcd9e429b7bd4d23",
       "version_major": 2,
       "version_minor": 0
      },
      "text/plain": [
       "[1/7]  14%|#4         [00:00<?]"
      ]
     },
     "metadata": {},
     "output_type": "display_data"
    },
    {
     "data": {
      "application/vnd.jupyter.widget-view+json": {
       "model_id": "be733d4a7a50473588e36f98be88ec7c",
       "version_major": 2,
       "version_minor": 0
      },
      "text/plain": [
       "[1/7]  14%|#4         [00:00<?]"
      ]
     },
     "metadata": {},
     "output_type": "display_data"
    },
    {
     "data": {
      "application/vnd.jupyter.widget-view+json": {
       "model_id": "e6057cded0c74d3990a4cc75dd0633a4",
       "version_major": 2,
       "version_minor": 0
      },
      "text/plain": [
       "[1/7]  14%|#4         [00:00<?]"
      ]
     },
     "metadata": {},
     "output_type": "display_data"
    },
    {
     "data": {
      "application/vnd.jupyter.widget-view+json": {
       "model_id": "b50aa8f2a4184f2e850cb3d6313587cc",
       "version_major": 2,
       "version_minor": 0
      },
      "text/plain": [
       "[1/7]  14%|#4         [00:00<?]"
      ]
     },
     "metadata": {},
     "output_type": "display_data"
    },
    {
     "data": {
      "application/vnd.jupyter.widget-view+json": {
       "model_id": "da7a2acd9e0b4acba3e5349e2a823097",
       "version_major": 2,
       "version_minor": 0
      },
      "text/plain": [
       "[1/7]  14%|#4         [00:00<?]"
      ]
     },
     "metadata": {},
     "output_type": "display_data"
    },
    {
     "data": {
      "application/vnd.jupyter.widget-view+json": {
       "model_id": "94806edece6f4c1481570c60c8e764ef",
       "version_major": 2,
       "version_minor": 0
      },
      "text/plain": [
       "[1/7]  14%|#4         [00:00<?]"
      ]
     },
     "metadata": {},
     "output_type": "display_data"
    },
    {
     "data": {
      "application/vnd.jupyter.widget-view+json": {
       "model_id": "05d2b4fbf6c64198b119fd6608965d83",
       "version_major": 2,
       "version_minor": 0
      },
      "text/plain": [
       "[1/7]  14%|#4         [00:00<?]"
      ]
     },
     "metadata": {},
     "output_type": "display_data"
    },
    {
     "data": {
      "application/vnd.jupyter.widget-view+json": {
       "model_id": "0e5c026ba0df4adea0bd7f45b5ad24aa",
       "version_major": 2,
       "version_minor": 0
      },
      "text/plain": [
       "[1/7]  14%|#4         [00:00<?]"
      ]
     },
     "metadata": {},
     "output_type": "display_data"
    },
    {
     "data": {
      "application/vnd.jupyter.widget-view+json": {
       "model_id": "e1f4098769f24c97a15feb4be306205e",
       "version_major": 2,
       "version_minor": 0
      },
      "text/plain": [
       "[1/7]  14%|#4         [00:00<?]"
      ]
     },
     "metadata": {},
     "output_type": "display_data"
    },
    {
     "data": {
      "application/vnd.jupyter.widget-view+json": {
       "model_id": "c141a9e1fa3441379b5b29ce18964c15",
       "version_major": 2,
       "version_minor": 0
      },
      "text/plain": [
       "[1/7]  14%|#4         [00:00<?]"
      ]
     },
     "metadata": {},
     "output_type": "display_data"
    },
    {
     "data": {
      "application/vnd.jupyter.widget-view+json": {
       "model_id": "7f39c2e8fa1d4c58824cf9ea72d6908e",
       "version_major": 2,
       "version_minor": 0
      },
      "text/plain": [
       "[1/7]  14%|#4         [00:00<?]"
      ]
     },
     "metadata": {},
     "output_type": "display_data"
    },
    {
     "data": {
      "application/vnd.jupyter.widget-view+json": {
       "model_id": "bc42c62f1bb14619a4e025a81f28d44b",
       "version_major": 2,
       "version_minor": 0
      },
      "text/plain": [
       "[1/7]  14%|#4         [00:00<?]"
      ]
     },
     "metadata": {},
     "output_type": "display_data"
    },
    {
     "data": {
      "application/vnd.jupyter.widget-view+json": {
       "model_id": "bbfb3770ca2f46f7aa11aa7f4a2e05db",
       "version_major": 2,
       "version_minor": 0
      },
      "text/plain": [
       "[1/7]  14%|#4         [00:00<?]"
      ]
     },
     "metadata": {},
     "output_type": "display_data"
    },
    {
     "data": {
      "application/vnd.jupyter.widget-view+json": {
       "model_id": "e8350a4f8d264bdfa0185cf0940a9325",
       "version_major": 2,
       "version_minor": 0
      },
      "text/plain": [
       "[1/7]  14%|#4         [00:00<?]"
      ]
     },
     "metadata": {},
     "output_type": "display_data"
    },
    {
     "data": {
      "application/vnd.jupyter.widget-view+json": {
       "model_id": "e62ac9c5efb34e289fd4d73eec2228be",
       "version_major": 2,
       "version_minor": 0
      },
      "text/plain": [
       "[1/7]  14%|#4         [00:00<?]"
      ]
     },
     "metadata": {},
     "output_type": "display_data"
    },
    {
     "data": {
      "application/vnd.jupyter.widget-view+json": {
       "model_id": "98cf95d3e8954424bb03d3170230c48c",
       "version_major": 2,
       "version_minor": 0
      },
      "text/plain": [
       "[1/7]  14%|#4         [00:00<?]"
      ]
     },
     "metadata": {},
     "output_type": "display_data"
    },
    {
     "data": {
      "application/vnd.jupyter.widget-view+json": {
       "model_id": "9fc409d1e51a4c90b3f8199f6c3cfb43",
       "version_major": 2,
       "version_minor": 0
      },
      "text/plain": [
       "[1/7]  14%|#4         [00:00<?]"
      ]
     },
     "metadata": {},
     "output_type": "display_data"
    },
    {
     "data": {
      "application/vnd.jupyter.widget-view+json": {
       "model_id": "9d2b205167404e46adca36bcfbbafc31",
       "version_major": 2,
       "version_minor": 0
      },
      "text/plain": [
       "[1/7]  14%|#4         [00:00<?]"
      ]
     },
     "metadata": {},
     "output_type": "display_data"
    },
    {
     "data": {
      "application/vnd.jupyter.widget-view+json": {
       "model_id": "65aa50baab894fcabed5ee6c7399a600",
       "version_major": 2,
       "version_minor": 0
      },
      "text/plain": [
       "[1/7]  14%|#4         [00:00<?]"
      ]
     },
     "metadata": {},
     "output_type": "display_data"
    },
    {
     "data": {
      "application/vnd.jupyter.widget-view+json": {
       "model_id": "b129886c4faf47279c5ffb95470d6683",
       "version_major": 2,
       "version_minor": 0
      },
      "text/plain": [
       "[1/7]  14%|#4         [00:00<?]"
      ]
     },
     "metadata": {},
     "output_type": "display_data"
    },
    {
     "data": {
      "application/vnd.jupyter.widget-view+json": {
       "model_id": "ed35e703720f4252b303404544f53ed4",
       "version_major": 2,
       "version_minor": 0
      },
      "text/plain": [
       "[1/7]  14%|#4         [00:00<?]"
      ]
     },
     "metadata": {},
     "output_type": "display_data"
    },
    {
     "data": {
      "application/vnd.jupyter.widget-view+json": {
       "model_id": "cc2606221a24429388b9494f98902382",
       "version_major": 2,
       "version_minor": 0
      },
      "text/plain": [
       "[1/7]  14%|#4         [00:00<?]"
      ]
     },
     "metadata": {},
     "output_type": "display_data"
    },
    {
     "data": {
      "application/vnd.jupyter.widget-view+json": {
       "model_id": "5694188982484570969d8212ecb04f03",
       "version_major": 2,
       "version_minor": 0
      },
      "text/plain": [
       "[1/7]  14%|#4         [00:00<?]"
      ]
     },
     "metadata": {},
     "output_type": "display_data"
    },
    {
     "data": {
      "application/vnd.jupyter.widget-view+json": {
       "model_id": "00594c7353f04f2aa280f36d3d245f9d",
       "version_major": 2,
       "version_minor": 0
      },
      "text/plain": [
       "[1/7]  14%|#4         [00:00<?]"
      ]
     },
     "metadata": {},
     "output_type": "display_data"
    },
    {
     "data": {
      "application/vnd.jupyter.widget-view+json": {
       "model_id": "0ac08c4ee0e446d690eb4fe249c76c04",
       "version_major": 2,
       "version_minor": 0
      },
      "text/plain": [
       "[1/7]  14%|#4         [00:00<?]"
      ]
     },
     "metadata": {},
     "output_type": "display_data"
    },
    {
     "data": {
      "application/vnd.jupyter.widget-view+json": {
       "model_id": "e80cb12203b84ba6aa55d58245a53013",
       "version_major": 2,
       "version_minor": 0
      },
      "text/plain": [
       "[1/7]  14%|#4         [00:00<?]"
      ]
     },
     "metadata": {},
     "output_type": "display_data"
    },
    {
     "data": {
      "application/vnd.jupyter.widget-view+json": {
       "model_id": "5f49518ab51d4829b2ba536013fb5820",
       "version_major": 2,
       "version_minor": 0
      },
      "text/plain": [
       "[1/7]  14%|#4         [00:00<?]"
      ]
     },
     "metadata": {},
     "output_type": "display_data"
    },
    {
     "data": {
      "application/vnd.jupyter.widget-view+json": {
       "model_id": "9896c24c36074a5b8b9f565ba00bd0d7",
       "version_major": 2,
       "version_minor": 0
      },
      "text/plain": [
       "[1/7]  14%|#4         [00:00<?]"
      ]
     },
     "metadata": {},
     "output_type": "display_data"
    },
    {
     "data": {
      "application/vnd.jupyter.widget-view+json": {
       "model_id": "86f7c00aaec04f808aa4be87f76e9199",
       "version_major": 2,
       "version_minor": 0
      },
      "text/plain": [
       "[1/7]  14%|#4         [00:00<?]"
      ]
     },
     "metadata": {},
     "output_type": "display_data"
    },
    {
     "data": {
      "application/vnd.jupyter.widget-view+json": {
       "model_id": "50297d20bdc14d5998d39c5872d1ac13",
       "version_major": 2,
       "version_minor": 0
      },
      "text/plain": [
       "[1/7]  14%|#4         [00:00<?]"
      ]
     },
     "metadata": {},
     "output_type": "display_data"
    },
    {
     "data": {
      "application/vnd.jupyter.widget-view+json": {
       "model_id": "dff68a9b31264397a9c956e56e9d2f92",
       "version_major": 2,
       "version_minor": 0
      },
      "text/plain": [
       "[1/7]  14%|#4         [00:00<?]"
      ]
     },
     "metadata": {},
     "output_type": "display_data"
    },
    {
     "data": {
      "application/vnd.jupyter.widget-view+json": {
       "model_id": "a71f8f526b2f45dd954f83053d6716e1",
       "version_major": 2,
       "version_minor": 0
      },
      "text/plain": [
       "[1/7]  14%|#4         [00:00<?]"
      ]
     },
     "metadata": {},
     "output_type": "display_data"
    },
    {
     "data": {
      "application/vnd.jupyter.widget-view+json": {
       "model_id": "85843452c2b24212906754b8d131da7b",
       "version_major": 2,
       "version_minor": 0
      },
      "text/plain": [
       "[1/7]  14%|#4         [00:00<?]"
      ]
     },
     "metadata": {},
     "output_type": "display_data"
    },
    {
     "data": {
      "application/vnd.jupyter.widget-view+json": {
       "model_id": "1bba1933c88549feb128a32260a5a7a9",
       "version_major": 2,
       "version_minor": 0
      },
      "text/plain": [
       "[1/7]  14%|#4         [00:00<?]"
      ]
     },
     "metadata": {},
     "output_type": "display_data"
    },
    {
     "data": {
      "application/vnd.jupyter.widget-view+json": {
       "model_id": "0697ff794931404e8b9952c6fd302c84",
       "version_major": 2,
       "version_minor": 0
      },
      "text/plain": [
       "[1/7]  14%|#4         [00:00<?]"
      ]
     },
     "metadata": {},
     "output_type": "display_data"
    },
    {
     "data": {
      "application/vnd.jupyter.widget-view+json": {
       "model_id": "6116b9ce19e24e338b037a7885f619b0",
       "version_major": 2,
       "version_minor": 0
      },
      "text/plain": [
       "[1/7]  14%|#4         [00:00<?]"
      ]
     },
     "metadata": {},
     "output_type": "display_data"
    },
    {
     "data": {
      "application/vnd.jupyter.widget-view+json": {
       "model_id": "c40118179aca49be80f2cf8ce0cdea5d",
       "version_major": 2,
       "version_minor": 0
      },
      "text/plain": [
       "[1/7]  14%|#4         [00:00<?]"
      ]
     },
     "metadata": {},
     "output_type": "display_data"
    },
    {
     "data": {
      "application/vnd.jupyter.widget-view+json": {
       "model_id": "328d898d4e5040b4b7a1eb0333fb8d23",
       "version_major": 2,
       "version_minor": 0
      },
      "text/plain": [
       "[1/7]  14%|#4         [00:00<?]"
      ]
     },
     "metadata": {},
     "output_type": "display_data"
    },
    {
     "data": {
      "application/vnd.jupyter.widget-view+json": {
       "model_id": "c6437821a81a44f9b947ca38dba44074",
       "version_major": 2,
       "version_minor": 0
      },
      "text/plain": [
       "[1/7]  14%|#4         [00:00<?]"
      ]
     },
     "metadata": {},
     "output_type": "display_data"
    },
    {
     "data": {
      "application/vnd.jupyter.widget-view+json": {
       "model_id": "68d122e331ca44c291876d7a65533ac8",
       "version_major": 2,
       "version_minor": 0
      },
      "text/plain": [
       "[1/7]  14%|#4         [00:00<?]"
      ]
     },
     "metadata": {},
     "output_type": "display_data"
    },
    {
     "data": {
      "application/vnd.jupyter.widget-view+json": {
       "model_id": "adb1747094384a1e848fe208cd592664",
       "version_major": 2,
       "version_minor": 0
      },
      "text/plain": [
       "[1/7]  14%|#4         [00:00<?]"
      ]
     },
     "metadata": {},
     "output_type": "display_data"
    },
    {
     "data": {
      "application/vnd.jupyter.widget-view+json": {
       "model_id": "da4ed6600cfb4847944696fdecaaa524",
       "version_major": 2,
       "version_minor": 0
      },
      "text/plain": [
       "[1/7]  14%|#4         [00:00<?]"
      ]
     },
     "metadata": {},
     "output_type": "display_data"
    },
    {
     "data": {
      "application/vnd.jupyter.widget-view+json": {
       "model_id": "33cbc0f58617403cba059ba184bca369",
       "version_major": 2,
       "version_minor": 0
      },
      "text/plain": [
       "[1/7]  14%|#4         [00:00<?]"
      ]
     },
     "metadata": {},
     "output_type": "display_data"
    },
    {
     "data": {
      "application/vnd.jupyter.widget-view+json": {
       "model_id": "663b185896fc4f7082d90d6261c1c014",
       "version_major": 2,
       "version_minor": 0
      },
      "text/plain": [
       "[1/7]  14%|#4         [00:00<?]"
      ]
     },
     "metadata": {},
     "output_type": "display_data"
    },
    {
     "data": {
      "application/vnd.jupyter.widget-view+json": {
       "model_id": "20edd4f700dc4204b7ecb0964b136fb9",
       "version_major": 2,
       "version_minor": 0
      },
      "text/plain": [
       "[1/7]  14%|#4         [00:00<?]"
      ]
     },
     "metadata": {},
     "output_type": "display_data"
    },
    {
     "data": {
      "application/vnd.jupyter.widget-view+json": {
       "model_id": "f5e35b063a494e27ba42c165eb225559",
       "version_major": 2,
       "version_minor": 0
      },
      "text/plain": [
       "[1/7]  14%|#4         [00:00<?]"
      ]
     },
     "metadata": {},
     "output_type": "display_data"
    },
    {
     "data": {
      "application/vnd.jupyter.widget-view+json": {
       "model_id": "80ea3a6f307548f7a539860a0f2a1292",
       "version_major": 2,
       "version_minor": 0
      },
      "text/plain": [
       "[1/7]  14%|#4         [00:00<?]"
      ]
     },
     "metadata": {},
     "output_type": "display_data"
    },
    {
     "data": {
      "application/vnd.jupyter.widget-view+json": {
       "model_id": "0191b8e81ef1410bbc15c6b66899fd30",
       "version_major": 2,
       "version_minor": 0
      },
      "text/plain": [
       "[1/7]  14%|#4         [00:00<?]"
      ]
     },
     "metadata": {},
     "output_type": "display_data"
    },
    {
     "data": {
      "application/vnd.jupyter.widget-view+json": {
       "model_id": "178dead226964c6c809436ef12bc8eb2",
       "version_major": 2,
       "version_minor": 0
      },
      "text/plain": [
       "[1/7]  14%|#4         [00:00<?]"
      ]
     },
     "metadata": {},
     "output_type": "display_data"
    },
    {
     "name": "stdout",
     "output_type": "stream",
     "text": [
      "Results - Epoch: 72 - Test Likelihood: 2.79 - Loss: 2.83\n"
     ]
    },
    {
     "data": {
      "application/vnd.jupyter.widget-view+json": {
       "model_id": "df145055c7184a6186cbad8b0965d5f0",
       "version_major": 2,
       "version_minor": 0
      },
      "text/plain": [
       "[1/7]  14%|#4         [00:00<?]"
      ]
     },
     "metadata": {},
     "output_type": "display_data"
    },
    {
     "data": {
      "application/vnd.jupyter.widget-view+json": {
       "model_id": "98cc094723744424b656e19255ba157c",
       "version_major": 2,
       "version_minor": 0
      },
      "text/plain": [
       "[1/7]  14%|#4         [00:00<?]"
      ]
     },
     "metadata": {},
     "output_type": "display_data"
    },
    {
     "data": {
      "application/vnd.jupyter.widget-view+json": {
       "model_id": "7dd64d90ae314721beeea9ff439bf2b0",
       "version_major": 2,
       "version_minor": 0
      },
      "text/plain": [
       "[1/7]  14%|#4         [00:00<?]"
      ]
     },
     "metadata": {},
     "output_type": "display_data"
    },
    {
     "data": {
      "application/vnd.jupyter.widget-view+json": {
       "model_id": "e21e0794a1744e4a86ae3527580afd27",
       "version_major": 2,
       "version_minor": 0
      },
      "text/plain": [
       "[1/7]  14%|#4         [00:00<?]"
      ]
     },
     "metadata": {},
     "output_type": "display_data"
    },
    {
     "data": {
      "application/vnd.jupyter.widget-view+json": {
       "model_id": "5e0836bf470f44ed88c22dcb65026415",
       "version_major": 2,
       "version_minor": 0
      },
      "text/plain": [
       "[1/7]  14%|#4         [00:00<?]"
      ]
     },
     "metadata": {},
     "output_type": "display_data"
    },
    {
     "data": {
      "application/vnd.jupyter.widget-view+json": {
       "model_id": "0d2741ee2dea44418f29fbc385f5b4a6",
       "version_major": 2,
       "version_minor": 0
      },
      "text/plain": [
       "[1/7]  14%|#4         [00:00<?]"
      ]
     },
     "metadata": {},
     "output_type": "display_data"
    },
    {
     "data": {
      "application/vnd.jupyter.widget-view+json": {
       "model_id": "1603889c2bb84ac5ab09212c3d3f3bf4",
       "version_major": 2,
       "version_minor": 0
      },
      "text/plain": [
       "[1/7]  14%|#4         [00:00<?]"
      ]
     },
     "metadata": {},
     "output_type": "display_data"
    },
    {
     "data": {
      "application/vnd.jupyter.widget-view+json": {
       "model_id": "b630721cda894bccbc3431dff6102595",
       "version_major": 2,
       "version_minor": 0
      },
      "text/plain": [
       "[1/7]  14%|#4         [00:00<?]"
      ]
     },
     "metadata": {},
     "output_type": "display_data"
    },
    {
     "data": {
      "application/vnd.jupyter.widget-view+json": {
       "model_id": "18981b208c874c75a99b0b53bcde350d",
       "version_major": 2,
       "version_minor": 0
      },
      "text/plain": [
       "[1/7]  14%|#4         [00:00<?]"
      ]
     },
     "metadata": {},
     "output_type": "display_data"
    },
    {
     "data": {
      "application/vnd.jupyter.widget-view+json": {
       "model_id": "c1cacbc0baa44d55a11308ee503f2059",
       "version_major": 2,
       "version_minor": 0
      },
      "text/plain": [
       "[1/7]  14%|#4         [00:00<?]"
      ]
     },
     "metadata": {},
     "output_type": "display_data"
    },
    {
     "data": {
      "application/vnd.jupyter.widget-view+json": {
       "model_id": "86475914a92440cf8186e75040effc07",
       "version_major": 2,
       "version_minor": 0
      },
      "text/plain": [
       "[1/7]  14%|#4         [00:00<?]"
      ]
     },
     "metadata": {},
     "output_type": "display_data"
    },
    {
     "data": {
      "application/vnd.jupyter.widget-view+json": {
       "model_id": "1ed9db29c44644ebbd621fdc7496faaf",
       "version_major": 2,
       "version_minor": 0
      },
      "text/plain": [
       "[1/7]  14%|#4         [00:00<?]"
      ]
     },
     "metadata": {},
     "output_type": "display_data"
    },
    {
     "data": {
      "application/vnd.jupyter.widget-view+json": {
       "model_id": "0a52b4a5e662474a9afa774f7e5d6338",
       "version_major": 2,
       "version_minor": 0
      },
      "text/plain": [
       "[1/7]  14%|#4         [00:00<?]"
      ]
     },
     "metadata": {},
     "output_type": "display_data"
    },
    {
     "data": {
      "application/vnd.jupyter.widget-view+json": {
       "model_id": "217f30ee33924d72aa5f38a495614644",
       "version_major": 2,
       "version_minor": 0
      },
      "text/plain": [
       "[1/7]  14%|#4         [00:00<?]"
      ]
     },
     "metadata": {},
     "output_type": "display_data"
    },
    {
     "data": {
      "application/vnd.jupyter.widget-view+json": {
       "model_id": "289e1910c61e43688261dd1ca3ff3508",
       "version_major": 2,
       "version_minor": 0
      },
      "text/plain": [
       "[1/7]  14%|#4         [00:00<?]"
      ]
     },
     "metadata": {},
     "output_type": "display_data"
    },
    {
     "data": {
      "application/vnd.jupyter.widget-view+json": {
       "model_id": "7c615ff9e7d748aba8ae957e8f23106b",
       "version_major": 2,
       "version_minor": 0
      },
      "text/plain": [
       "[1/7]  14%|#4         [00:00<?]"
      ]
     },
     "metadata": {},
     "output_type": "display_data"
    },
    {
     "data": {
      "application/vnd.jupyter.widget-view+json": {
       "model_id": "5dd080d377664e4cb5f020c411db9e00",
       "version_major": 2,
       "version_minor": 0
      },
      "text/plain": [
       "[1/7]  14%|#4         [00:00<?]"
      ]
     },
     "metadata": {},
     "output_type": "display_data"
    },
    {
     "data": {
      "application/vnd.jupyter.widget-view+json": {
       "model_id": "5016f3c6478847d0a1a21e338fefeb9f",
       "version_major": 2,
       "version_minor": 0
      },
      "text/plain": [
       "[1/7]  14%|#4         [00:00<?]"
      ]
     },
     "metadata": {},
     "output_type": "display_data"
    },
    {
     "data": {
      "application/vnd.jupyter.widget-view+json": {
       "model_id": "e56b6cfbbf054d849dd8137c3a0b1a40",
       "version_major": 2,
       "version_minor": 0
      },
      "text/plain": [
       "[1/7]  14%|#4         [00:00<?]"
      ]
     },
     "metadata": {},
     "output_type": "display_data"
    },
    {
     "data": {
      "application/vnd.jupyter.widget-view+json": {
       "model_id": "22901cd55de24626b5935035623256c0",
       "version_major": 2,
       "version_minor": 0
      },
      "text/plain": [
       "[1/7]  14%|#4         [00:00<?]"
      ]
     },
     "metadata": {},
     "output_type": "display_data"
    },
    {
     "data": {
      "application/vnd.jupyter.widget-view+json": {
       "model_id": "0e7c6bf9c0dd463aabe00f15be30f9aa",
       "version_major": 2,
       "version_minor": 0
      },
      "text/plain": [
       "[1/7]  14%|#4         [00:00<?]"
      ]
     },
     "metadata": {},
     "output_type": "display_data"
    },
    {
     "data": {
      "application/vnd.jupyter.widget-view+json": {
       "model_id": "573be5cfa86e4a61945afbc6ccbfbce8",
       "version_major": 2,
       "version_minor": 0
      },
      "text/plain": [
       "[1/7]  14%|#4         [00:00<?]"
      ]
     },
     "metadata": {},
     "output_type": "display_data"
    },
    {
     "data": {
      "application/vnd.jupyter.widget-view+json": {
       "model_id": "c0130ef193e144028cb05a6e49278d94",
       "version_major": 2,
       "version_minor": 0
      },
      "text/plain": [
       "[1/7]  14%|#4         [00:00<?]"
      ]
     },
     "metadata": {},
     "output_type": "display_data"
    },
    {
     "data": {
      "application/vnd.jupyter.widget-view+json": {
       "model_id": "83567ebdd17f4035b6e528b52f62088f",
       "version_major": 2,
       "version_minor": 0
      },
      "text/plain": [
       "[1/7]  14%|#4         [00:00<?]"
      ]
     },
     "metadata": {},
     "output_type": "display_data"
    },
    {
     "data": {
      "application/vnd.jupyter.widget-view+json": {
       "model_id": "d7de60de3d634fd7be7819084a899907",
       "version_major": 2,
       "version_minor": 0
      },
      "text/plain": [
       "[1/7]  14%|#4         [00:00<?]"
      ]
     },
     "metadata": {},
     "output_type": "display_data"
    },
    {
     "data": {
      "application/vnd.jupyter.widget-view+json": {
       "model_id": "eb0b39724b9a4d91aa9313abb8142ef8",
       "version_major": 2,
       "version_minor": 0
      },
      "text/plain": [
       "[1/7]  14%|#4         [00:00<?]"
      ]
     },
     "metadata": {},
     "output_type": "display_data"
    },
    {
     "data": {
      "application/vnd.jupyter.widget-view+json": {
       "model_id": "5cb5743940a34eb29b994ee4dbab7fe0",
       "version_major": 2,
       "version_minor": 0
      },
      "text/plain": [
       "[1/7]  14%|#4         [00:00<?]"
      ]
     },
     "metadata": {},
     "output_type": "display_data"
    },
    {
     "data": {
      "application/vnd.jupyter.widget-view+json": {
       "model_id": "85d554168cd0415f8fcc477b3b64def9",
       "version_major": 2,
       "version_minor": 0
      },
      "text/plain": [
       "[1/7]  14%|#4         [00:00<?]"
      ]
     },
     "metadata": {},
     "output_type": "display_data"
    },
    {
     "data": {
      "application/vnd.jupyter.widget-view+json": {
       "model_id": "0ef90403a9a34763a12fd5953fad97a3",
       "version_major": 2,
       "version_minor": 0
      },
      "text/plain": [
       "[1/7]  14%|#4         [00:00<?]"
      ]
     },
     "metadata": {},
     "output_type": "display_data"
    },
    {
     "data": {
      "application/vnd.jupyter.widget-view+json": {
       "model_id": "536718740b734f7c9317c9f5a9ec7283",
       "version_major": 2,
       "version_minor": 0
      },
      "text/plain": [
       "[1/7]  14%|#4         [00:00<?]"
      ]
     },
     "metadata": {},
     "output_type": "display_data"
    },
    {
     "data": {
      "application/vnd.jupyter.widget-view+json": {
       "model_id": "90fa23af233e4b658f4034c11a0b2883",
       "version_major": 2,
       "version_minor": 0
      },
      "text/plain": [
       "[1/7]  14%|#4         [00:00<?]"
      ]
     },
     "metadata": {},
     "output_type": "display_data"
    },
    {
     "data": {
      "application/vnd.jupyter.widget-view+json": {
       "model_id": "7033c561eb154a78b460579da879fb0b",
       "version_major": 2,
       "version_minor": 0
      },
      "text/plain": [
       "[1/7]  14%|#4         [00:00<?]"
      ]
     },
     "metadata": {},
     "output_type": "display_data"
    },
    {
     "data": {
      "application/vnd.jupyter.widget-view+json": {
       "model_id": "eca56733dc7a4194a91caafb23cf7a37",
       "version_major": 2,
       "version_minor": 0
      },
      "text/plain": [
       "[1/7]  14%|#4         [00:00<?]"
      ]
     },
     "metadata": {},
     "output_type": "display_data"
    },
    {
     "data": {
      "application/vnd.jupyter.widget-view+json": {
       "model_id": "2f0cda7d23c34c5298e9cde2d5865c36",
       "version_major": 2,
       "version_minor": 0
      },
      "text/plain": [
       "[1/7]  14%|#4         [00:00<?]"
      ]
     },
     "metadata": {},
     "output_type": "display_data"
    },
    {
     "data": {
      "application/vnd.jupyter.widget-view+json": {
       "model_id": "922e5bb6aac24a40b75e053a380e7d43",
       "version_major": 2,
       "version_minor": 0
      },
      "text/plain": [
       "[1/7]  14%|#4         [00:00<?]"
      ]
     },
     "metadata": {},
     "output_type": "display_data"
    },
    {
     "data": {
      "application/vnd.jupyter.widget-view+json": {
       "model_id": "603638f57a28470fb41852a2cc1300b7",
       "version_major": 2,
       "version_minor": 0
      },
      "text/plain": [
       "[1/7]  14%|#4         [00:00<?]"
      ]
     },
     "metadata": {},
     "output_type": "display_data"
    },
    {
     "data": {
      "application/vnd.jupyter.widget-view+json": {
       "model_id": "f58bb9bd176143b3adab35e62386df15",
       "version_major": 2,
       "version_minor": 0
      },
      "text/plain": [
       "[1/7]  14%|#4         [00:00<?]"
      ]
     },
     "metadata": {},
     "output_type": "display_data"
    },
    {
     "data": {
      "application/vnd.jupyter.widget-view+json": {
       "model_id": "3e5ea112842c49a7ba8ae79886cb7f30",
       "version_major": 2,
       "version_minor": 0
      },
      "text/plain": [
       "[1/7]  14%|#4         [00:00<?]"
      ]
     },
     "metadata": {},
     "output_type": "display_data"
    },
    {
     "data": {
      "application/vnd.jupyter.widget-view+json": {
       "model_id": "23036fa7d0cc41dea29125e7ce5537fa",
       "version_major": 2,
       "version_minor": 0
      },
      "text/plain": [
       "[1/7]  14%|#4         [00:00<?]"
      ]
     },
     "metadata": {},
     "output_type": "display_data"
    },
    {
     "data": {
      "application/vnd.jupyter.widget-view+json": {
       "model_id": "11ab44c828ca4ec1b90b9c312edac6c4",
       "version_major": 2,
       "version_minor": 0
      },
      "text/plain": [
       "[1/7]  14%|#4         [00:00<?]"
      ]
     },
     "metadata": {},
     "output_type": "display_data"
    },
    {
     "data": {
      "application/vnd.jupyter.widget-view+json": {
       "model_id": "951609ac8a924fb58db0abc186e74d7e",
       "version_major": 2,
       "version_minor": 0
      },
      "text/plain": [
       "[1/7]  14%|#4         [00:00<?]"
      ]
     },
     "metadata": {},
     "output_type": "display_data"
    },
    {
     "data": {
      "application/vnd.jupyter.widget-view+json": {
       "model_id": "e3f9e93760e24070abb086bd367482b7",
       "version_major": 2,
       "version_minor": 0
      },
      "text/plain": [
       "[1/7]  14%|#4         [00:00<?]"
      ]
     },
     "metadata": {},
     "output_type": "display_data"
    },
    {
     "data": {
      "application/vnd.jupyter.widget-view+json": {
       "model_id": "c0899d1489ad42e18adc2f9b95699598",
       "version_major": 2,
       "version_minor": 0
      },
      "text/plain": [
       "[1/7]  14%|#4         [00:00<?]"
      ]
     },
     "metadata": {},
     "output_type": "display_data"
    },
    {
     "data": {
      "application/vnd.jupyter.widget-view+json": {
       "model_id": "1e3ea8a9c6224908a7b8246c7cf5da05",
       "version_major": 2,
       "version_minor": 0
      },
      "text/plain": [
       "[1/7]  14%|#4         [00:00<?]"
      ]
     },
     "metadata": {},
     "output_type": "display_data"
    },
    {
     "data": {
      "application/vnd.jupyter.widget-view+json": {
       "model_id": "14713c6eee4d40e19c935774c7bf2906",
       "version_major": 2,
       "version_minor": 0
      },
      "text/plain": [
       "[1/7]  14%|#4         [00:00<?]"
      ]
     },
     "metadata": {},
     "output_type": "display_data"
    },
    {
     "data": {
      "application/vnd.jupyter.widget-view+json": {
       "model_id": "9016d0ff7b614036a8233bc18e307bca",
       "version_major": 2,
       "version_minor": 0
      },
      "text/plain": [
       "[1/7]  14%|#4         [00:00<?]"
      ]
     },
     "metadata": {},
     "output_type": "display_data"
    },
    {
     "data": {
      "application/vnd.jupyter.widget-view+json": {
       "model_id": "993c4d16b324426c8431f6aa69c336a4",
       "version_major": 2,
       "version_minor": 0
      },
      "text/plain": [
       "[1/7]  14%|#4         [00:00<?]"
      ]
     },
     "metadata": {},
     "output_type": "display_data"
    },
    {
     "data": {
      "application/vnd.jupyter.widget-view+json": {
       "model_id": "6a4565e931584d33ac472b2fa07414de",
       "version_major": 2,
       "version_minor": 0
      },
      "text/plain": [
       "[1/7]  14%|#4         [00:00<?]"
      ]
     },
     "metadata": {},
     "output_type": "display_data"
    },
    {
     "data": {
      "application/vnd.jupyter.widget-view+json": {
       "model_id": "91145eda392f45089fd2bbbacef8bd90",
       "version_major": 2,
       "version_minor": 0
      },
      "text/plain": [
       "[1/7]  14%|#4         [00:00<?]"
      ]
     },
     "metadata": {},
     "output_type": "display_data"
    },
    {
     "data": {
      "application/vnd.jupyter.widget-view+json": {
       "model_id": "e441a763a72a4e53a82e0864ee900b7f",
       "version_major": 2,
       "version_minor": 0
      },
      "text/plain": [
       "[1/7]  14%|#4         [00:00<?]"
      ]
     },
     "metadata": {},
     "output_type": "display_data"
    },
    {
     "data": {
      "application/vnd.jupyter.widget-view+json": {
       "model_id": "6f527a735bd54f5e96dec99bc8d952fd",
       "version_major": 2,
       "version_minor": 0
      },
      "text/plain": [
       "[1/7]  14%|#4         [00:00<?]"
      ]
     },
     "metadata": {},
     "output_type": "display_data"
    },
    {
     "data": {
      "application/vnd.jupyter.widget-view+json": {
       "model_id": "32e93c80a4d74779b2ca8366f35357f9",
       "version_major": 2,
       "version_minor": 0
      },
      "text/plain": [
       "[1/7]  14%|#4         [00:00<?]"
      ]
     },
     "metadata": {},
     "output_type": "display_data"
    },
    {
     "data": {
      "application/vnd.jupyter.widget-view+json": {
       "model_id": "01ce72db27ec4131831b803d38d470f0",
       "version_major": 2,
       "version_minor": 0
      },
      "text/plain": [
       "[1/7]  14%|#4         [00:00<?]"
      ]
     },
     "metadata": {},
     "output_type": "display_data"
    },
    {
     "data": {
      "application/vnd.jupyter.widget-view+json": {
       "model_id": "8d94c3ea596f4d6ebae50baab0290f6b",
       "version_major": 2,
       "version_minor": 0
      },
      "text/plain": [
       "[1/7]  14%|#4         [00:00<?]"
      ]
     },
     "metadata": {},
     "output_type": "display_data"
    },
    {
     "data": {
      "application/vnd.jupyter.widget-view+json": {
       "model_id": "c6274ff1042048e898aaeb4792914fcf",
       "version_major": 2,
       "version_minor": 0
      },
      "text/plain": [
       "[1/7]  14%|#4         [00:00<?]"
      ]
     },
     "metadata": {},
     "output_type": "display_data"
    },
    {
     "data": {
      "application/vnd.jupyter.widget-view+json": {
       "model_id": "5c08ca9734a2417e88e42034a32da4c3",
       "version_major": 2,
       "version_minor": 0
      },
      "text/plain": [
       "[1/7]  14%|#4         [00:00<?]"
      ]
     },
     "metadata": {},
     "output_type": "display_data"
    },
    {
     "data": {
      "application/vnd.jupyter.widget-view+json": {
       "model_id": "1a7b3eb86cf04662bee2d43893879ad5",
       "version_major": 2,
       "version_minor": 0
      },
      "text/plain": [
       "[1/7]  14%|#4         [00:00<?]"
      ]
     },
     "metadata": {},
     "output_type": "display_data"
    },
    {
     "data": {
      "application/vnd.jupyter.widget-view+json": {
       "model_id": "8e5c7824745a432783855c6f1a58fab9",
       "version_major": 2,
       "version_minor": 0
      },
      "text/plain": [
       "[1/7]  14%|#4         [00:00<?]"
      ]
     },
     "metadata": {},
     "output_type": "display_data"
    },
    {
     "data": {
      "application/vnd.jupyter.widget-view+json": {
       "model_id": "51742c516cf44f39b750e23564a6ae74",
       "version_major": 2,
       "version_minor": 0
      },
      "text/plain": [
       "[1/7]  14%|#4         [00:00<?]"
      ]
     },
     "metadata": {},
     "output_type": "display_data"
    },
    {
     "data": {
      "application/vnd.jupyter.widget-view+json": {
       "model_id": "ec25e461ea18477b895ab75735ef0843",
       "version_major": 2,
       "version_minor": 0
      },
      "text/plain": [
       "[1/7]  14%|#4         [00:00<?]"
      ]
     },
     "metadata": {},
     "output_type": "display_data"
    },
    {
     "data": {
      "application/vnd.jupyter.widget-view+json": {
       "model_id": "df835f0b926f48e99f32a6861fef52a8",
       "version_major": 2,
       "version_minor": 0
      },
      "text/plain": [
       "[1/7]  14%|#4         [00:00<?]"
      ]
     },
     "metadata": {},
     "output_type": "display_data"
    },
    {
     "data": {
      "application/vnd.jupyter.widget-view+json": {
       "model_id": "65a2c765c32a4e7399b910db448adece",
       "version_major": 2,
       "version_minor": 0
      },
      "text/plain": [
       "[1/7]  14%|#4         [00:00<?]"
      ]
     },
     "metadata": {},
     "output_type": "display_data"
    },
    {
     "data": {
      "application/vnd.jupyter.widget-view+json": {
       "model_id": "2045410500a6401f9e2cc2ef4cb1eaa3",
       "version_major": 2,
       "version_minor": 0
      },
      "text/plain": [
       "[1/7]  14%|#4         [00:00<?]"
      ]
     },
     "metadata": {},
     "output_type": "display_data"
    },
    {
     "data": {
      "application/vnd.jupyter.widget-view+json": {
       "model_id": "344ad48d2c644e26bd5861a2e828007e",
       "version_major": 2,
       "version_minor": 0
      },
      "text/plain": [
       "[1/7]  14%|#4         [00:00<?]"
      ]
     },
     "metadata": {},
     "output_type": "display_data"
    },
    {
     "data": {
      "application/vnd.jupyter.widget-view+json": {
       "model_id": "27908d56abc94ff69459cc3cda18d495",
       "version_major": 2,
       "version_minor": 0
      },
      "text/plain": [
       "[1/7]  14%|#4         [00:00<?]"
      ]
     },
     "metadata": {},
     "output_type": "display_data"
    },
    {
     "data": {
      "application/vnd.jupyter.widget-view+json": {
       "model_id": "558def602ab146dbbf83d8315a9b9907",
       "version_major": 2,
       "version_minor": 0
      },
      "text/plain": [
       "[1/7]  14%|#4         [00:00<?]"
      ]
     },
     "metadata": {},
     "output_type": "display_data"
    },
    {
     "data": {
      "application/vnd.jupyter.widget-view+json": {
       "model_id": "b2ba35037c6b4757b160be43d1db6948",
       "version_major": 2,
       "version_minor": 0
      },
      "text/plain": [
       "[1/7]  14%|#4         [00:00<?]"
      ]
     },
     "metadata": {},
     "output_type": "display_data"
    },
    {
     "data": {
      "application/vnd.jupyter.widget-view+json": {
       "model_id": "44e0a07ad70c452c9098f54413da0882",
       "version_major": 2,
       "version_minor": 0
      },
      "text/plain": [
       "[1/7]  14%|#4         [00:00<?]"
      ]
     },
     "metadata": {},
     "output_type": "display_data"
    },
    {
     "data": {
      "application/vnd.jupyter.widget-view+json": {
       "model_id": "779a472221484ac782dd5a5c9265043b",
       "version_major": 2,
       "version_minor": 0
      },
      "text/plain": [
       "[1/7]  14%|#4         [00:00<?]"
      ]
     },
     "metadata": {},
     "output_type": "display_data"
    },
    {
     "data": {
      "application/vnd.jupyter.widget-view+json": {
       "model_id": "dc7119b6b7554890a8d93942d8c14866",
       "version_major": 2,
       "version_minor": 0
      },
      "text/plain": [
       "[1/7]  14%|#4         [00:00<?]"
      ]
     },
     "metadata": {},
     "output_type": "display_data"
    },
    {
     "data": {
      "application/vnd.jupyter.widget-view+json": {
       "model_id": "6424093993aa4a2b979530af3a832f93",
       "version_major": 2,
       "version_minor": 0
      },
      "text/plain": [
       "[1/7]  14%|#4         [00:00<?]"
      ]
     },
     "metadata": {},
     "output_type": "display_data"
    },
    {
     "data": {
      "application/vnd.jupyter.widget-view+json": {
       "model_id": "d9fb4504aa5349e49a5bdb2d60db44da",
       "version_major": 2,
       "version_minor": 0
      },
      "text/plain": [
       "[1/7]  14%|#4         [00:00<?]"
      ]
     },
     "metadata": {},
     "output_type": "display_data"
    },
    {
     "name": "stdout",
     "output_type": "stream",
     "text": [
      "Results - Epoch: 144 - Test Likelihood: 1.72 - Loss: 1.75\n"
     ]
    },
    {
     "data": {
      "application/vnd.jupyter.widget-view+json": {
       "model_id": "10a7982664794e7d9578f3f8fd8b20eb",
       "version_major": 2,
       "version_minor": 0
      },
      "text/plain": [
       "[1/7]  14%|#4         [00:00<?]"
      ]
     },
     "metadata": {},
     "output_type": "display_data"
    },
    {
     "data": {
      "application/vnd.jupyter.widget-view+json": {
       "model_id": "112a6a04a8ea4713b9daa93237701ac1",
       "version_major": 2,
       "version_minor": 0
      },
      "text/plain": [
       "[1/7]  14%|#4         [00:00<?]"
      ]
     },
     "metadata": {},
     "output_type": "display_data"
    },
    {
     "data": {
      "application/vnd.jupyter.widget-view+json": {
       "model_id": "30b7fb04318e4a2c8ddb7164a7c97a63",
       "version_major": 2,
       "version_minor": 0
      },
      "text/plain": [
       "[1/7]  14%|#4         [00:00<?]"
      ]
     },
     "metadata": {},
     "output_type": "display_data"
    },
    {
     "data": {
      "application/vnd.jupyter.widget-view+json": {
       "model_id": "9662aa1cefe84f07b580024832780cf0",
       "version_major": 2,
       "version_minor": 0
      },
      "text/plain": [
       "[1/7]  14%|#4         [00:00<?]"
      ]
     },
     "metadata": {},
     "output_type": "display_data"
    },
    {
     "data": {
      "application/vnd.jupyter.widget-view+json": {
       "model_id": "e9e65417c6f3495e91d36341810d653c",
       "version_major": 2,
       "version_minor": 0
      },
      "text/plain": [
       "[1/7]  14%|#4         [00:00<?]"
      ]
     },
     "metadata": {},
     "output_type": "display_data"
    },
    {
     "data": {
      "application/vnd.jupyter.widget-view+json": {
       "model_id": "d1cb9cd0ccdd40259f6948d36d548afd",
       "version_major": 2,
       "version_minor": 0
      },
      "text/plain": [
       "[1/7]  14%|#4         [00:00<?]"
      ]
     },
     "metadata": {},
     "output_type": "display_data"
    },
    {
     "data": {
      "application/vnd.jupyter.widget-view+json": {
       "model_id": "dce89ec77284446d82a53e896a371096",
       "version_major": 2,
       "version_minor": 0
      },
      "text/plain": [
       "[1/7]  14%|#4         [00:00<?]"
      ]
     },
     "metadata": {},
     "output_type": "display_data"
    },
    {
     "data": {
      "application/vnd.jupyter.widget-view+json": {
       "model_id": "62c85676b9064e6486a3cf11956aaaa7",
       "version_major": 2,
       "version_minor": 0
      },
      "text/plain": [
       "[1/7]  14%|#4         [00:00<?]"
      ]
     },
     "metadata": {},
     "output_type": "display_data"
    },
    {
     "data": {
      "application/vnd.jupyter.widget-view+json": {
       "model_id": "0216978ffa584b03b2cfb45abddafa2b",
       "version_major": 2,
       "version_minor": 0
      },
      "text/plain": [
       "[1/7]  14%|#4         [00:00<?]"
      ]
     },
     "metadata": {},
     "output_type": "display_data"
    },
    {
     "data": {
      "application/vnd.jupyter.widget-view+json": {
       "model_id": "347f855d95df416a8f84bb70213dc328",
       "version_major": 2,
       "version_minor": 0
      },
      "text/plain": [
       "[1/7]  14%|#4         [00:00<?]"
      ]
     },
     "metadata": {},
     "output_type": "display_data"
    },
    {
     "data": {
      "application/vnd.jupyter.widget-view+json": {
       "model_id": "d147ba90e1c84c0086c053a335005f5e",
       "version_major": 2,
       "version_minor": 0
      },
      "text/plain": [
       "[1/7]  14%|#4         [00:00<?]"
      ]
     },
     "metadata": {},
     "output_type": "display_data"
    },
    {
     "data": {
      "application/vnd.jupyter.widget-view+json": {
       "model_id": "877ea5bcf516485dafc2f00a4932e5e8",
       "version_major": 2,
       "version_minor": 0
      },
      "text/plain": [
       "[1/7]  14%|#4         [00:00<?]"
      ]
     },
     "metadata": {},
     "output_type": "display_data"
    },
    {
     "data": {
      "application/vnd.jupyter.widget-view+json": {
       "model_id": "b4e776f8ec264d359a9b044dd387f639",
       "version_major": 2,
       "version_minor": 0
      },
      "text/plain": [
       "[1/7]  14%|#4         [00:00<?]"
      ]
     },
     "metadata": {},
     "output_type": "display_data"
    },
    {
     "data": {
      "application/vnd.jupyter.widget-view+json": {
       "model_id": "3ca8944303d548ca88dd280c72a884ed",
       "version_major": 2,
       "version_minor": 0
      },
      "text/plain": [
       "[1/7]  14%|#4         [00:00<?]"
      ]
     },
     "metadata": {},
     "output_type": "display_data"
    },
    {
     "data": {
      "application/vnd.jupyter.widget-view+json": {
       "model_id": "97267ace14f74b65b6d9ad11dc13735c",
       "version_major": 2,
       "version_minor": 0
      },
      "text/plain": [
       "[1/7]  14%|#4         [00:00<?]"
      ]
     },
     "metadata": {},
     "output_type": "display_data"
    },
    {
     "data": {
      "application/vnd.jupyter.widget-view+json": {
       "model_id": "58d43ea2910949e8a8a8a37df1c84d0b",
       "version_major": 2,
       "version_minor": 0
      },
      "text/plain": [
       "[1/7]  14%|#4         [00:00<?]"
      ]
     },
     "metadata": {},
     "output_type": "display_data"
    },
    {
     "data": {
      "application/vnd.jupyter.widget-view+json": {
       "model_id": "645d4b77cba44abab27590289d5b0e72",
       "version_major": 2,
       "version_minor": 0
      },
      "text/plain": [
       "[1/7]  14%|#4         [00:00<?]"
      ]
     },
     "metadata": {},
     "output_type": "display_data"
    },
    {
     "data": {
      "application/vnd.jupyter.widget-view+json": {
       "model_id": "504e6aec03ff4c12aede586e5d11c895",
       "version_major": 2,
       "version_minor": 0
      },
      "text/plain": [
       "[1/7]  14%|#4         [00:00<?]"
      ]
     },
     "metadata": {},
     "output_type": "display_data"
    },
    {
     "data": {
      "application/vnd.jupyter.widget-view+json": {
       "model_id": "6d52aed7559143a5a0b4242bc83a9140",
       "version_major": 2,
       "version_minor": 0
      },
      "text/plain": [
       "[1/7]  14%|#4         [00:00<?]"
      ]
     },
     "metadata": {},
     "output_type": "display_data"
    },
    {
     "data": {
      "application/vnd.jupyter.widget-view+json": {
       "model_id": "d46436e30365447ab9cf5c35758f4345",
       "version_major": 2,
       "version_minor": 0
      },
      "text/plain": [
       "[1/7]  14%|#4         [00:00<?]"
      ]
     },
     "metadata": {},
     "output_type": "display_data"
    },
    {
     "data": {
      "application/vnd.jupyter.widget-view+json": {
       "model_id": "74ab41b336a84a7aa8552539c2766606",
       "version_major": 2,
       "version_minor": 0
      },
      "text/plain": [
       "[1/7]  14%|#4         [00:00<?]"
      ]
     },
     "metadata": {},
     "output_type": "display_data"
    },
    {
     "data": {
      "application/vnd.jupyter.widget-view+json": {
       "model_id": "75d8d0d59ff64e1bb6060451823d82b6",
       "version_major": 2,
       "version_minor": 0
      },
      "text/plain": [
       "[1/7]  14%|#4         [00:00<?]"
      ]
     },
     "metadata": {},
     "output_type": "display_data"
    },
    {
     "data": {
      "application/vnd.jupyter.widget-view+json": {
       "model_id": "648f42f389094161a68f2c37b65f299b",
       "version_major": 2,
       "version_minor": 0
      },
      "text/plain": [
       "[1/7]  14%|#4         [00:00<?]"
      ]
     },
     "metadata": {},
     "output_type": "display_data"
    },
    {
     "data": {
      "application/vnd.jupyter.widget-view+json": {
       "model_id": "7cceed0de47f4b9f9f20f48e448762b9",
       "version_major": 2,
       "version_minor": 0
      },
      "text/plain": [
       "[1/7]  14%|#4         [00:00<?]"
      ]
     },
     "metadata": {},
     "output_type": "display_data"
    },
    {
     "data": {
      "application/vnd.jupyter.widget-view+json": {
       "model_id": "f3a3eff765ac4066bf9c32bb47a7bbec",
       "version_major": 2,
       "version_minor": 0
      },
      "text/plain": [
       "[1/7]  14%|#4         [00:00<?]"
      ]
     },
     "metadata": {},
     "output_type": "display_data"
    },
    {
     "data": {
      "application/vnd.jupyter.widget-view+json": {
       "model_id": "8c53093283944807821ae715435adca9",
       "version_major": 2,
       "version_minor": 0
      },
      "text/plain": [
       "[1/7]  14%|#4         [00:00<?]"
      ]
     },
     "metadata": {},
     "output_type": "display_data"
    },
    {
     "data": {
      "application/vnd.jupyter.widget-view+json": {
       "model_id": "cff50c3363194ae2af6363e5424fcddb",
       "version_major": 2,
       "version_minor": 0
      },
      "text/plain": [
       "[1/7]  14%|#4         [00:00<?]"
      ]
     },
     "metadata": {},
     "output_type": "display_data"
    },
    {
     "data": {
      "application/vnd.jupyter.widget-view+json": {
       "model_id": "a9af11f4873c48d5b2796a7fd7f92afb",
       "version_major": 2,
       "version_minor": 0
      },
      "text/plain": [
       "[1/7]  14%|#4         [00:00<?]"
      ]
     },
     "metadata": {},
     "output_type": "display_data"
    },
    {
     "data": {
      "application/vnd.jupyter.widget-view+json": {
       "model_id": "d5975dbff5a047a1a22c30654d78d093",
       "version_major": 2,
       "version_minor": 0
      },
      "text/plain": [
       "[1/7]  14%|#4         [00:00<?]"
      ]
     },
     "metadata": {},
     "output_type": "display_data"
    },
    {
     "data": {
      "application/vnd.jupyter.widget-view+json": {
       "model_id": "3b4371f6924e4c6498cb14d2559a2c3b",
       "version_major": 2,
       "version_minor": 0
      },
      "text/plain": [
       "[1/7]  14%|#4         [00:00<?]"
      ]
     },
     "metadata": {},
     "output_type": "display_data"
    },
    {
     "data": {
      "application/vnd.jupyter.widget-view+json": {
       "model_id": "b8abdc6ec9d3442d8b18869b7cf60373",
       "version_major": 2,
       "version_minor": 0
      },
      "text/plain": [
       "[1/7]  14%|#4         [00:00<?]"
      ]
     },
     "metadata": {},
     "output_type": "display_data"
    },
    {
     "data": {
      "application/vnd.jupyter.widget-view+json": {
       "model_id": "152358065dc84a29b2d7fa8648218025",
       "version_major": 2,
       "version_minor": 0
      },
      "text/plain": [
       "[1/7]  14%|#4         [00:00<?]"
      ]
     },
     "metadata": {},
     "output_type": "display_data"
    },
    {
     "data": {
      "application/vnd.jupyter.widget-view+json": {
       "model_id": "e248f94bddde47d09397f8627470681a",
       "version_major": 2,
       "version_minor": 0
      },
      "text/plain": [
       "[1/7]  14%|#4         [00:00<?]"
      ]
     },
     "metadata": {},
     "output_type": "display_data"
    },
    {
     "data": {
      "application/vnd.jupyter.widget-view+json": {
       "model_id": "8cb781ca41694cac9d7d0fa0ab3f482b",
       "version_major": 2,
       "version_minor": 0
      },
      "text/plain": [
       "[1/7]  14%|#4         [00:00<?]"
      ]
     },
     "metadata": {},
     "output_type": "display_data"
    },
    {
     "data": {
      "application/vnd.jupyter.widget-view+json": {
       "model_id": "bfb62a1e68964ac3822563ac9d6285ff",
       "version_major": 2,
       "version_minor": 0
      },
      "text/plain": [
       "[1/7]  14%|#4         [00:00<?]"
      ]
     },
     "metadata": {},
     "output_type": "display_data"
    },
    {
     "data": {
      "application/vnd.jupyter.widget-view+json": {
       "model_id": "6db7899213bf4a97b0df249666c2d213",
       "version_major": 2,
       "version_minor": 0
      },
      "text/plain": [
       "[1/7]  14%|#4         [00:00<?]"
      ]
     },
     "metadata": {},
     "output_type": "display_data"
    },
    {
     "data": {
      "application/vnd.jupyter.widget-view+json": {
       "model_id": "e35360b8adac432fa5f27bb16decdb1a",
       "version_major": 2,
       "version_minor": 0
      },
      "text/plain": [
       "[1/7]  14%|#4         [00:00<?]"
      ]
     },
     "metadata": {},
     "output_type": "display_data"
    },
    {
     "data": {
      "application/vnd.jupyter.widget-view+json": {
       "model_id": "ce1fa4fc6de04dcd916d8871e6f875a4",
       "version_major": 2,
       "version_minor": 0
      },
      "text/plain": [
       "[1/7]  14%|#4         [00:00<?]"
      ]
     },
     "metadata": {},
     "output_type": "display_data"
    },
    {
     "data": {
      "application/vnd.jupyter.widget-view+json": {
       "model_id": "4eb89a46a4864c8bbaac83d57b72ce09",
       "version_major": 2,
       "version_minor": 0
      },
      "text/plain": [
       "[1/7]  14%|#4         [00:00<?]"
      ]
     },
     "metadata": {},
     "output_type": "display_data"
    },
    {
     "data": {
      "application/vnd.jupyter.widget-view+json": {
       "model_id": "1d31339355494bcca9d088b89fb7abc6",
       "version_major": 2,
       "version_minor": 0
      },
      "text/plain": [
       "[1/7]  14%|#4         [00:00<?]"
      ]
     },
     "metadata": {},
     "output_type": "display_data"
    },
    {
     "data": {
      "application/vnd.jupyter.widget-view+json": {
       "model_id": "708ebe0eaa5f49c19a29026b2ee7e2c9",
       "version_major": 2,
       "version_minor": 0
      },
      "text/plain": [
       "[1/7]  14%|#4         [00:00<?]"
      ]
     },
     "metadata": {},
     "output_type": "display_data"
    },
    {
     "data": {
      "application/vnd.jupyter.widget-view+json": {
       "model_id": "55862ced77904188b538d371e4fd7cd7",
       "version_major": 2,
       "version_minor": 0
      },
      "text/plain": [
       "[1/7]  14%|#4         [00:00<?]"
      ]
     },
     "metadata": {},
     "output_type": "display_data"
    },
    {
     "data": {
      "application/vnd.jupyter.widget-view+json": {
       "model_id": "55f89a7b830449e8b09813e26174065a",
       "version_major": 2,
       "version_minor": 0
      },
      "text/plain": [
       "[1/7]  14%|#4         [00:00<?]"
      ]
     },
     "metadata": {},
     "output_type": "display_data"
    },
    {
     "data": {
      "application/vnd.jupyter.widget-view+json": {
       "model_id": "e6dd7f2915d9479aab0521c7a4c4e647",
       "version_major": 2,
       "version_minor": 0
      },
      "text/plain": [
       "[1/7]  14%|#4         [00:00<?]"
      ]
     },
     "metadata": {},
     "output_type": "display_data"
    },
    {
     "data": {
      "application/vnd.jupyter.widget-view+json": {
       "model_id": "7f26173ff7a84ea5b78d825d026efe48",
       "version_major": 2,
       "version_minor": 0
      },
      "text/plain": [
       "[1/7]  14%|#4         [00:00<?]"
      ]
     },
     "metadata": {},
     "output_type": "display_data"
    },
    {
     "data": {
      "application/vnd.jupyter.widget-view+json": {
       "model_id": "0ef1d7ebe4ca476286fa26951a5f4d3d",
       "version_major": 2,
       "version_minor": 0
      },
      "text/plain": [
       "[1/7]  14%|#4         [00:00<?]"
      ]
     },
     "metadata": {},
     "output_type": "display_data"
    },
    {
     "data": {
      "application/vnd.jupyter.widget-view+json": {
       "model_id": "037fc29f982542159f07feadf90a92dd",
       "version_major": 2,
       "version_minor": 0
      },
      "text/plain": [
       "[1/7]  14%|#4         [00:00<?]"
      ]
     },
     "metadata": {},
     "output_type": "display_data"
    },
    {
     "data": {
      "application/vnd.jupyter.widget-view+json": {
       "model_id": "0d98c0d2704741868fa83c6566af4c05",
       "version_major": 2,
       "version_minor": 0
      },
      "text/plain": [
       "[1/7]  14%|#4         [00:00<?]"
      ]
     },
     "metadata": {},
     "output_type": "display_data"
    },
    {
     "data": {
      "application/vnd.jupyter.widget-view+json": {
       "model_id": "bb315c04dae840e0a10c76d26946c788",
       "version_major": 2,
       "version_minor": 0
      },
      "text/plain": [
       "[1/7]  14%|#4         [00:00<?]"
      ]
     },
     "metadata": {},
     "output_type": "display_data"
    },
    {
     "data": {
      "application/vnd.jupyter.widget-view+json": {
       "model_id": "d447898abb4f4fadab72e77b32acfd6f",
       "version_major": 2,
       "version_minor": 0
      },
      "text/plain": [
       "[1/7]  14%|#4         [00:00<?]"
      ]
     },
     "metadata": {},
     "output_type": "display_data"
    },
    {
     "data": {
      "application/vnd.jupyter.widget-view+json": {
       "model_id": "7e358bb0038e4e6b8f2dacfadd3c31a3",
       "version_major": 2,
       "version_minor": 0
      },
      "text/plain": [
       "[1/7]  14%|#4         [00:00<?]"
      ]
     },
     "metadata": {},
     "output_type": "display_data"
    },
    {
     "data": {
      "application/vnd.jupyter.widget-view+json": {
       "model_id": "fa61839b15b34946bc55bab4083e4c3e",
       "version_major": 2,
       "version_minor": 0
      },
      "text/plain": [
       "[1/7]  14%|#4         [00:00<?]"
      ]
     },
     "metadata": {},
     "output_type": "display_data"
    },
    {
     "data": {
      "application/vnd.jupyter.widget-view+json": {
       "model_id": "eef482d2eeb944b3ae71e76df753422f",
       "version_major": 2,
       "version_minor": 0
      },
      "text/plain": [
       "[1/7]  14%|#4         [00:00<?]"
      ]
     },
     "metadata": {},
     "output_type": "display_data"
    },
    {
     "data": {
      "application/vnd.jupyter.widget-view+json": {
       "model_id": "64d58891f4b04ce5985ddccc488f2a74",
       "version_major": 2,
       "version_minor": 0
      },
      "text/plain": [
       "[1/7]  14%|#4         [00:00<?]"
      ]
     },
     "metadata": {},
     "output_type": "display_data"
    },
    {
     "data": {
      "application/vnd.jupyter.widget-view+json": {
       "model_id": "3267c5b8b120472ba03814350080f96b",
       "version_major": 2,
       "version_minor": 0
      },
      "text/plain": [
       "[1/7]  14%|#4         [00:00<?]"
      ]
     },
     "metadata": {},
     "output_type": "display_data"
    },
    {
     "data": {
      "application/vnd.jupyter.widget-view+json": {
       "model_id": "9064ef27c1d24064b9a2e97bff9265d2",
       "version_major": 2,
       "version_minor": 0
      },
      "text/plain": [
       "[1/7]  14%|#4         [00:00<?]"
      ]
     },
     "metadata": {},
     "output_type": "display_data"
    },
    {
     "data": {
      "application/vnd.jupyter.widget-view+json": {
       "model_id": "5b05cfb220f847fb819b92f8ba467efb",
       "version_major": 2,
       "version_minor": 0
      },
      "text/plain": [
       "[1/7]  14%|#4         [00:00<?]"
      ]
     },
     "metadata": {},
     "output_type": "display_data"
    },
    {
     "data": {
      "application/vnd.jupyter.widget-view+json": {
       "model_id": "2888c9c2a33f4ed99b27e7482703f421",
       "version_major": 2,
       "version_minor": 0
      },
      "text/plain": [
       "[1/7]  14%|#4         [00:00<?]"
      ]
     },
     "metadata": {},
     "output_type": "display_data"
    },
    {
     "data": {
      "application/vnd.jupyter.widget-view+json": {
       "model_id": "4e6d99a0c95d48299cbadfd35ac8682d",
       "version_major": 2,
       "version_minor": 0
      },
      "text/plain": [
       "[1/7]  14%|#4         [00:00<?]"
      ]
     },
     "metadata": {},
     "output_type": "display_data"
    },
    {
     "data": {
      "application/vnd.jupyter.widget-view+json": {
       "model_id": "7f5190a7cc1849b4929f7c6496fdf066",
       "version_major": 2,
       "version_minor": 0
      },
      "text/plain": [
       "[1/7]  14%|#4         [00:00<?]"
      ]
     },
     "metadata": {},
     "output_type": "display_data"
    },
    {
     "data": {
      "application/vnd.jupyter.widget-view+json": {
       "model_id": "ac2331b55c2a430bb4163a84bdd450a0",
       "version_major": 2,
       "version_minor": 0
      },
      "text/plain": [
       "[1/7]  14%|#4         [00:00<?]"
      ]
     },
     "metadata": {},
     "output_type": "display_data"
    },
    {
     "data": {
      "application/vnd.jupyter.widget-view+json": {
       "model_id": "0d5c532b01e44551b6632077485961b5",
       "version_major": 2,
       "version_minor": 0
      },
      "text/plain": [
       "[1/7]  14%|#4         [00:00<?]"
      ]
     },
     "metadata": {},
     "output_type": "display_data"
    },
    {
     "data": {
      "application/vnd.jupyter.widget-view+json": {
       "model_id": "3429837c82ec4df3b2c4dcd183b4dd68",
       "version_major": 2,
       "version_minor": 0
      },
      "text/plain": [
       "[1/7]  14%|#4         [00:00<?]"
      ]
     },
     "metadata": {},
     "output_type": "display_data"
    },
    {
     "data": {
      "application/vnd.jupyter.widget-view+json": {
       "model_id": "9bd063d8925c4660a375b599a1923843",
       "version_major": 2,
       "version_minor": 0
      },
      "text/plain": [
       "[1/7]  14%|#4         [00:00<?]"
      ]
     },
     "metadata": {},
     "output_type": "display_data"
    },
    {
     "data": {
      "application/vnd.jupyter.widget-view+json": {
       "model_id": "7b4a1ef097794bec9b380c18c643663f",
       "version_major": 2,
       "version_minor": 0
      },
      "text/plain": [
       "[1/7]  14%|#4         [00:00<?]"
      ]
     },
     "metadata": {},
     "output_type": "display_data"
    },
    {
     "data": {
      "application/vnd.jupyter.widget-view+json": {
       "model_id": "c9a3e54daa0746c6a16b21b3a1a50f9f",
       "version_major": 2,
       "version_minor": 0
      },
      "text/plain": [
       "[1/7]  14%|#4         [00:00<?]"
      ]
     },
     "metadata": {},
     "output_type": "display_data"
    },
    {
     "data": {
      "application/vnd.jupyter.widget-view+json": {
       "model_id": "647c6e4f4825473e9813a3ad1f08d9c7",
       "version_major": 2,
       "version_minor": 0
      },
      "text/plain": [
       "[1/7]  14%|#4         [00:00<?]"
      ]
     },
     "metadata": {},
     "output_type": "display_data"
    },
    {
     "data": {
      "application/vnd.jupyter.widget-view+json": {
       "model_id": "8b989f15048e4319a12f3c7939bc3b6c",
       "version_major": 2,
       "version_minor": 0
      },
      "text/plain": [
       "[1/7]  14%|#4         [00:00<?]"
      ]
     },
     "metadata": {},
     "output_type": "display_data"
    },
    {
     "data": {
      "application/vnd.jupyter.widget-view+json": {
       "model_id": "b98aec6a51c64d5cafacc74e4392da1c",
       "version_major": 2,
       "version_minor": 0
      },
      "text/plain": [
       "[1/7]  14%|#4         [00:00<?]"
      ]
     },
     "metadata": {},
     "output_type": "display_data"
    },
    {
     "data": {
      "application/vnd.jupyter.widget-view+json": {
       "model_id": "52183a5037784f6abcd5c7d8c6a81175",
       "version_major": 2,
       "version_minor": 0
      },
      "text/plain": [
       "[1/7]  14%|#4         [00:00<?]"
      ]
     },
     "metadata": {},
     "output_type": "display_data"
    },
    {
     "data": {
      "application/vnd.jupyter.widget-view+json": {
       "model_id": "d91f6821582a44d3af9a2277914603f9",
       "version_major": 2,
       "version_minor": 0
      },
      "text/plain": [
       "[1/7]  14%|#4         [00:00<?]"
      ]
     },
     "metadata": {},
     "output_type": "display_data"
    },
    {
     "data": {
      "application/vnd.jupyter.widget-view+json": {
       "model_id": "66dbd43142ab4292924f48e64e12d5df",
       "version_major": 2,
       "version_minor": 0
      },
      "text/plain": [
       "[1/7]  14%|#4         [00:00<?]"
      ]
     },
     "metadata": {},
     "output_type": "display_data"
    },
    {
     "name": "stdout",
     "output_type": "stream",
     "text": [
      "Results - Epoch: 216 - Test Likelihood: 1.37 - Loss: 1.41\n"
     ]
    },
    {
     "data": {
      "application/vnd.jupyter.widget-view+json": {
       "model_id": "210c12f301744be0a8bc82af01940ba1",
       "version_major": 2,
       "version_minor": 0
      },
      "text/plain": [
       "[1/7]  14%|#4         [00:00<?]"
      ]
     },
     "metadata": {},
     "output_type": "display_data"
    },
    {
     "data": {
      "application/vnd.jupyter.widget-view+json": {
       "model_id": "0685ee319d60481ba663ed64c21a1623",
       "version_major": 2,
       "version_minor": 0
      },
      "text/plain": [
       "[1/7]  14%|#4         [00:00<?]"
      ]
     },
     "metadata": {},
     "output_type": "display_data"
    },
    {
     "data": {
      "application/vnd.jupyter.widget-view+json": {
       "model_id": "e892ca82ce46448bbba302a82565b4c6",
       "version_major": 2,
       "version_minor": 0
      },
      "text/plain": [
       "[1/7]  14%|#4         [00:00<?]"
      ]
     },
     "metadata": {},
     "output_type": "display_data"
    },
    {
     "data": {
      "application/vnd.jupyter.widget-view+json": {
       "model_id": "653885c2741b49e19a28310784751c38",
       "version_major": 2,
       "version_minor": 0
      },
      "text/plain": [
       "[1/7]  14%|#4         [00:00<?]"
      ]
     },
     "metadata": {},
     "output_type": "display_data"
    },
    {
     "data": {
      "application/vnd.jupyter.widget-view+json": {
       "model_id": "7be7091ca44e4188993a47158fc04ff2",
       "version_major": 2,
       "version_minor": 0
      },
      "text/plain": [
       "[1/7]  14%|#4         [00:00<?]"
      ]
     },
     "metadata": {},
     "output_type": "display_data"
    },
    {
     "data": {
      "application/vnd.jupyter.widget-view+json": {
       "model_id": "337189587cb14bd3a073106edcb8e5b9",
       "version_major": 2,
       "version_minor": 0
      },
      "text/plain": [
       "[1/7]  14%|#4         [00:00<?]"
      ]
     },
     "metadata": {},
     "output_type": "display_data"
    },
    {
     "data": {
      "application/vnd.jupyter.widget-view+json": {
       "model_id": "5daa8ea3dbc24eb1aa8e027a473c4aba",
       "version_major": 2,
       "version_minor": 0
      },
      "text/plain": [
       "[1/7]  14%|#4         [00:00<?]"
      ]
     },
     "metadata": {},
     "output_type": "display_data"
    },
    {
     "data": {
      "application/vnd.jupyter.widget-view+json": {
       "model_id": "f42dc08b2c264bdba6ff9cd299eba8cd",
       "version_major": 2,
       "version_minor": 0
      },
      "text/plain": [
       "[1/7]  14%|#4         [00:00<?]"
      ]
     },
     "metadata": {},
     "output_type": "display_data"
    },
    {
     "data": {
      "application/vnd.jupyter.widget-view+json": {
       "model_id": "fbc0b306b71f448d871038b909fe5112",
       "version_major": 2,
       "version_minor": 0
      },
      "text/plain": [
       "[1/7]  14%|#4         [00:00<?]"
      ]
     },
     "metadata": {},
     "output_type": "display_data"
    },
    {
     "data": {
      "application/vnd.jupyter.widget-view+json": {
       "model_id": "807086a7497d43de9f7404cb670b1a65",
       "version_major": 2,
       "version_minor": 0
      },
      "text/plain": [
       "[1/7]  14%|#4         [00:00<?]"
      ]
     },
     "metadata": {},
     "output_type": "display_data"
    },
    {
     "data": {
      "application/vnd.jupyter.widget-view+json": {
       "model_id": "d8bc637837574860993bbfaeb1935af2",
       "version_major": 2,
       "version_minor": 0
      },
      "text/plain": [
       "[1/7]  14%|#4         [00:00<?]"
      ]
     },
     "metadata": {},
     "output_type": "display_data"
    },
    {
     "data": {
      "application/vnd.jupyter.widget-view+json": {
       "model_id": "07c04ecd906344f6a44699c5c8ef0367",
       "version_major": 2,
       "version_minor": 0
      },
      "text/plain": [
       "[1/7]  14%|#4         [00:00<?]"
      ]
     },
     "metadata": {},
     "output_type": "display_data"
    },
    {
     "data": {
      "application/vnd.jupyter.widget-view+json": {
       "model_id": "d3f9aa0b9e984a50b5610504baeb91df",
       "version_major": 2,
       "version_minor": 0
      },
      "text/plain": [
       "[1/7]  14%|#4         [00:00<?]"
      ]
     },
     "metadata": {},
     "output_type": "display_data"
    },
    {
     "data": {
      "application/vnd.jupyter.widget-view+json": {
       "model_id": "5c587464d7ec4ddcb5dbd7d76b8e9e28",
       "version_major": 2,
       "version_minor": 0
      },
      "text/plain": [
       "[1/7]  14%|#4         [00:00<?]"
      ]
     },
     "metadata": {},
     "output_type": "display_data"
    },
    {
     "data": {
      "application/vnd.jupyter.widget-view+json": {
       "model_id": "7a0e7e7eee70454bb09687ba7efc4c32",
       "version_major": 2,
       "version_minor": 0
      },
      "text/plain": [
       "[1/7]  14%|#4         [00:00<?]"
      ]
     },
     "metadata": {},
     "output_type": "display_data"
    },
    {
     "data": {
      "application/vnd.jupyter.widget-view+json": {
       "model_id": "cd47ba510afc40a38f9d86487f7a0b94",
       "version_major": 2,
       "version_minor": 0
      },
      "text/plain": [
       "[1/7]  14%|#4         [00:00<?]"
      ]
     },
     "metadata": {},
     "output_type": "display_data"
    },
    {
     "data": {
      "application/vnd.jupyter.widget-view+json": {
       "model_id": "b8631bddd73d412f89f3ecd14d0d6667",
       "version_major": 2,
       "version_minor": 0
      },
      "text/plain": [
       "[1/7]  14%|#4         [00:00<?]"
      ]
     },
     "metadata": {},
     "output_type": "display_data"
    },
    {
     "data": {
      "application/vnd.jupyter.widget-view+json": {
       "model_id": "de4adf40d6a74a508a869a48818a4753",
       "version_major": 2,
       "version_minor": 0
      },
      "text/plain": [
       "[1/7]  14%|#4         [00:00<?]"
      ]
     },
     "metadata": {},
     "output_type": "display_data"
    },
    {
     "data": {
      "application/vnd.jupyter.widget-view+json": {
       "model_id": "d05fea86893f45199a71403516ee4f12",
       "version_major": 2,
       "version_minor": 0
      },
      "text/plain": [
       "[1/7]  14%|#4         [00:00<?]"
      ]
     },
     "metadata": {},
     "output_type": "display_data"
    },
    {
     "data": {
      "application/vnd.jupyter.widget-view+json": {
       "model_id": "caf2a2a17111468da1c840ac32d27dd1",
       "version_major": 2,
       "version_minor": 0
      },
      "text/plain": [
       "[1/7]  14%|#4         [00:00<?]"
      ]
     },
     "metadata": {},
     "output_type": "display_data"
    },
    {
     "data": {
      "application/vnd.jupyter.widget-view+json": {
       "model_id": "b1142c172f384d2ba08f83984d087fd2",
       "version_major": 2,
       "version_minor": 0
      },
      "text/plain": [
       "[1/7]  14%|#4         [00:00<?]"
      ]
     },
     "metadata": {},
     "output_type": "display_data"
    },
    {
     "data": {
      "application/vnd.jupyter.widget-view+json": {
       "model_id": "9d3ca4a4a32e4a2ca9da2f154cb9e996",
       "version_major": 2,
       "version_minor": 0
      },
      "text/plain": [
       "[1/7]  14%|#4         [00:00<?]"
      ]
     },
     "metadata": {},
     "output_type": "display_data"
    },
    {
     "data": {
      "application/vnd.jupyter.widget-view+json": {
       "model_id": "933325ae338a4be9ba8a1f74de23ccfb",
       "version_major": 2,
       "version_minor": 0
      },
      "text/plain": [
       "[1/7]  14%|#4         [00:00<?]"
      ]
     },
     "metadata": {},
     "output_type": "display_data"
    },
    {
     "data": {
      "application/vnd.jupyter.widget-view+json": {
       "model_id": "528a352c725649ea8fd8645edcce6d4f",
       "version_major": 2,
       "version_minor": 0
      },
      "text/plain": [
       "[1/7]  14%|#4         [00:00<?]"
      ]
     },
     "metadata": {},
     "output_type": "display_data"
    },
    {
     "data": {
      "application/vnd.jupyter.widget-view+json": {
       "model_id": "d59b8076597a428cb7797e2827b11f81",
       "version_major": 2,
       "version_minor": 0
      },
      "text/plain": [
       "[1/7]  14%|#4         [00:00<?]"
      ]
     },
     "metadata": {},
     "output_type": "display_data"
    },
    {
     "data": {
      "application/vnd.jupyter.widget-view+json": {
       "model_id": "243fd4a2fe794f9abc8b60639662dce0",
       "version_major": 2,
       "version_minor": 0
      },
      "text/plain": [
       "[1/7]  14%|#4         [00:00<?]"
      ]
     },
     "metadata": {},
     "output_type": "display_data"
    },
    {
     "data": {
      "application/vnd.jupyter.widget-view+json": {
       "model_id": "7dd4053f4d6c44b1a1de7cd59fe809b8",
       "version_major": 2,
       "version_minor": 0
      },
      "text/plain": [
       "[1/7]  14%|#4         [00:00<?]"
      ]
     },
     "metadata": {},
     "output_type": "display_data"
    },
    {
     "data": {
      "application/vnd.jupyter.widget-view+json": {
       "model_id": "3ab489bfd30a474582217612bfc8f64f",
       "version_major": 2,
       "version_minor": 0
      },
      "text/plain": [
       "[1/7]  14%|#4         [00:00<?]"
      ]
     },
     "metadata": {},
     "output_type": "display_data"
    },
    {
     "data": {
      "application/vnd.jupyter.widget-view+json": {
       "model_id": "f8ec6cda30764387a74893324d3444ee",
       "version_major": 2,
       "version_minor": 0
      },
      "text/plain": [
       "[1/7]  14%|#4         [00:00<?]"
      ]
     },
     "metadata": {},
     "output_type": "display_data"
    },
    {
     "data": {
      "application/vnd.jupyter.widget-view+json": {
       "model_id": "c5029054b7d34c278d55fe30ca00fa50",
       "version_major": 2,
       "version_minor": 0
      },
      "text/plain": [
       "[1/7]  14%|#4         [00:00<?]"
      ]
     },
     "metadata": {},
     "output_type": "display_data"
    },
    {
     "data": {
      "application/vnd.jupyter.widget-view+json": {
       "model_id": "815ccb09482648ff8993d8a07ad33267",
       "version_major": 2,
       "version_minor": 0
      },
      "text/plain": [
       "[1/7]  14%|#4         [00:00<?]"
      ]
     },
     "metadata": {},
     "output_type": "display_data"
    },
    {
     "data": {
      "application/vnd.jupyter.widget-view+json": {
       "model_id": "9e50fdd9e490417296e43894b41c3ffb",
       "version_major": 2,
       "version_minor": 0
      },
      "text/plain": [
       "[1/7]  14%|#4         [00:00<?]"
      ]
     },
     "metadata": {},
     "output_type": "display_data"
    },
    {
     "data": {
      "application/vnd.jupyter.widget-view+json": {
       "model_id": "e5f28dcd855d4f1a8268559a11dd105a",
       "version_major": 2,
       "version_minor": 0
      },
      "text/plain": [
       "[1/7]  14%|#4         [00:00<?]"
      ]
     },
     "metadata": {},
     "output_type": "display_data"
    },
    {
     "data": {
      "application/vnd.jupyter.widget-view+json": {
       "model_id": "f352b5e720d647cab57f093c1867fc4f",
       "version_major": 2,
       "version_minor": 0
      },
      "text/plain": [
       "[1/7]  14%|#4         [00:00<?]"
      ]
     },
     "metadata": {},
     "output_type": "display_data"
    },
    {
     "data": {
      "application/vnd.jupyter.widget-view+json": {
       "model_id": "539d05fa47174e588f4cf072eb827942",
       "version_major": 2,
       "version_minor": 0
      },
      "text/plain": [
       "[1/7]  14%|#4         [00:00<?]"
      ]
     },
     "metadata": {},
     "output_type": "display_data"
    },
    {
     "data": {
      "application/vnd.jupyter.widget-view+json": {
       "model_id": "744a786343ba4357955555bccad967b4",
       "version_major": 2,
       "version_minor": 0
      },
      "text/plain": [
       "[1/7]  14%|#4         [00:00<?]"
      ]
     },
     "metadata": {},
     "output_type": "display_data"
    },
    {
     "data": {
      "application/vnd.jupyter.widget-view+json": {
       "model_id": "1b0c5e01bb364a9b99099157e662f672",
       "version_major": 2,
       "version_minor": 0
      },
      "text/plain": [
       "[1/7]  14%|#4         [00:00<?]"
      ]
     },
     "metadata": {},
     "output_type": "display_data"
    },
    {
     "data": {
      "application/vnd.jupyter.widget-view+json": {
       "model_id": "ccd3539f78e64385966e2b73c6d27a50",
       "version_major": 2,
       "version_minor": 0
      },
      "text/plain": [
       "[1/7]  14%|#4         [00:00<?]"
      ]
     },
     "metadata": {},
     "output_type": "display_data"
    },
    {
     "data": {
      "application/vnd.jupyter.widget-view+json": {
       "model_id": "1e3254db1b75463f858ef470ab35dfb4",
       "version_major": 2,
       "version_minor": 0
      },
      "text/plain": [
       "[1/7]  14%|#4         [00:00<?]"
      ]
     },
     "metadata": {},
     "output_type": "display_data"
    },
    {
     "data": {
      "application/vnd.jupyter.widget-view+json": {
       "model_id": "9b201cdb94e7465fba590e6fa27d7c7d",
       "version_major": 2,
       "version_minor": 0
      },
      "text/plain": [
       "[1/7]  14%|#4         [00:00<?]"
      ]
     },
     "metadata": {},
     "output_type": "display_data"
    },
    {
     "data": {
      "application/vnd.jupyter.widget-view+json": {
       "model_id": "4f5470138aad4a78bdbc69cdcab21b4d",
       "version_major": 2,
       "version_minor": 0
      },
      "text/plain": [
       "[1/7]  14%|#4         [00:00<?]"
      ]
     },
     "metadata": {},
     "output_type": "display_data"
    },
    {
     "data": {
      "application/vnd.jupyter.widget-view+json": {
       "model_id": "3454e3c9f90b45f19468ca70c2697da5",
       "version_major": 2,
       "version_minor": 0
      },
      "text/plain": [
       "[1/7]  14%|#4         [00:00<?]"
      ]
     },
     "metadata": {},
     "output_type": "display_data"
    },
    {
     "data": {
      "application/vnd.jupyter.widget-view+json": {
       "model_id": "7ddaf2854b7e4c4fb1f0210017374a33",
       "version_major": 2,
       "version_minor": 0
      },
      "text/plain": [
       "[1/7]  14%|#4         [00:00<?]"
      ]
     },
     "metadata": {},
     "output_type": "display_data"
    },
    {
     "data": {
      "application/vnd.jupyter.widget-view+json": {
       "model_id": "6e19fff0171640a3bdd043e10e841953",
       "version_major": 2,
       "version_minor": 0
      },
      "text/plain": [
       "[1/7]  14%|#4         [00:00<?]"
      ]
     },
     "metadata": {},
     "output_type": "display_data"
    },
    {
     "data": {
      "application/vnd.jupyter.widget-view+json": {
       "model_id": "a0acbe3a549c498e9ce3a3f66bf77504",
       "version_major": 2,
       "version_minor": 0
      },
      "text/plain": [
       "[1/7]  14%|#4         [00:00<?]"
      ]
     },
     "metadata": {},
     "output_type": "display_data"
    },
    {
     "data": {
      "application/vnd.jupyter.widget-view+json": {
       "model_id": "52782ad5e90844b3ab9af63f5e9707f9",
       "version_major": 2,
       "version_minor": 0
      },
      "text/plain": [
       "[1/7]  14%|#4         [00:00<?]"
      ]
     },
     "metadata": {},
     "output_type": "display_data"
    },
    {
     "data": {
      "application/vnd.jupyter.widget-view+json": {
       "model_id": "1e432a91b9c4465795df5f9cd925dcc9",
       "version_major": 2,
       "version_minor": 0
      },
      "text/plain": [
       "[1/7]  14%|#4         [00:00<?]"
      ]
     },
     "metadata": {},
     "output_type": "display_data"
    },
    {
     "data": {
      "application/vnd.jupyter.widget-view+json": {
       "model_id": "ac56ab69241748859463cb73dc335709",
       "version_major": 2,
       "version_minor": 0
      },
      "text/plain": [
       "[1/7]  14%|#4         [00:00<?]"
      ]
     },
     "metadata": {},
     "output_type": "display_data"
    },
    {
     "data": {
      "application/vnd.jupyter.widget-view+json": {
       "model_id": "54a6acaf8090421b95c32e32b039b923",
       "version_major": 2,
       "version_minor": 0
      },
      "text/plain": [
       "[1/7]  14%|#4         [00:00<?]"
      ]
     },
     "metadata": {},
     "output_type": "display_data"
    },
    {
     "data": {
      "application/vnd.jupyter.widget-view+json": {
       "model_id": "7f1b8a7aa80c4f898e93121869c33ae5",
       "version_major": 2,
       "version_minor": 0
      },
      "text/plain": [
       "[1/7]  14%|#4         [00:00<?]"
      ]
     },
     "metadata": {},
     "output_type": "display_data"
    },
    {
     "data": {
      "application/vnd.jupyter.widget-view+json": {
       "model_id": "977b58d6b7a341e4b7a3de7e558e792e",
       "version_major": 2,
       "version_minor": 0
      },
      "text/plain": [
       "[1/7]  14%|#4         [00:00<?]"
      ]
     },
     "metadata": {},
     "output_type": "display_data"
    },
    {
     "data": {
      "application/vnd.jupyter.widget-view+json": {
       "model_id": "5d59db5a70a0431b9dda8017177b4cd6",
       "version_major": 2,
       "version_minor": 0
      },
      "text/plain": [
       "[1/7]  14%|#4         [00:00<?]"
      ]
     },
     "metadata": {},
     "output_type": "display_data"
    },
    {
     "data": {
      "application/vnd.jupyter.widget-view+json": {
       "model_id": "6e213d9320824d118ff2634fe1d0bed4",
       "version_major": 2,
       "version_minor": 0
      },
      "text/plain": [
       "[1/7]  14%|#4         [00:00<?]"
      ]
     },
     "metadata": {},
     "output_type": "display_data"
    },
    {
     "data": {
      "application/vnd.jupyter.widget-view+json": {
       "model_id": "8e7d5316f52d4bf49614d25756cf60b9",
       "version_major": 2,
       "version_minor": 0
      },
      "text/plain": [
       "[1/7]  14%|#4         [00:00<?]"
      ]
     },
     "metadata": {},
     "output_type": "display_data"
    },
    {
     "data": {
      "application/vnd.jupyter.widget-view+json": {
       "model_id": "9d3aca475d2440cdadfb35e5fbed28f9",
       "version_major": 2,
       "version_minor": 0
      },
      "text/plain": [
       "[1/7]  14%|#4         [00:00<?]"
      ]
     },
     "metadata": {},
     "output_type": "display_data"
    },
    {
     "data": {
      "application/vnd.jupyter.widget-view+json": {
       "model_id": "e4907c8f2ef44eb7a2960d31b562f176",
       "version_major": 2,
       "version_minor": 0
      },
      "text/plain": [
       "[1/7]  14%|#4         [00:00<?]"
      ]
     },
     "metadata": {},
     "output_type": "display_data"
    },
    {
     "data": {
      "application/vnd.jupyter.widget-view+json": {
       "model_id": "2904acaabcf64d7b92b19f8594598eb6",
       "version_major": 2,
       "version_minor": 0
      },
      "text/plain": [
       "[1/7]  14%|#4         [00:00<?]"
      ]
     },
     "metadata": {},
     "output_type": "display_data"
    },
    {
     "data": {
      "application/vnd.jupyter.widget-view+json": {
       "model_id": "4944f6bcb97745418685422337a9887a",
       "version_major": 2,
       "version_minor": 0
      },
      "text/plain": [
       "[1/7]  14%|#4         [00:00<?]"
      ]
     },
     "metadata": {},
     "output_type": "display_data"
    },
    {
     "data": {
      "application/vnd.jupyter.widget-view+json": {
       "model_id": "e1ec79b2b35746849b82b83c0f339a2b",
       "version_major": 2,
       "version_minor": 0
      },
      "text/plain": [
       "[1/7]  14%|#4         [00:00<?]"
      ]
     },
     "metadata": {},
     "output_type": "display_data"
    },
    {
     "data": {
      "application/vnd.jupyter.widget-view+json": {
       "model_id": "a8125378f1a442fab2ad978096a1dd19",
       "version_major": 2,
       "version_minor": 0
      },
      "text/plain": [
       "[1/7]  14%|#4         [00:00<?]"
      ]
     },
     "metadata": {},
     "output_type": "display_data"
    },
    {
     "data": {
      "application/vnd.jupyter.widget-view+json": {
       "model_id": "114cc709df7f42ca831442c7b2cc16c8",
       "version_major": 2,
       "version_minor": 0
      },
      "text/plain": [
       "[1/7]  14%|#4         [00:00<?]"
      ]
     },
     "metadata": {},
     "output_type": "display_data"
    },
    {
     "data": {
      "application/vnd.jupyter.widget-view+json": {
       "model_id": "cb5d3c87a0a14ba29f1f93965d9ae399",
       "version_major": 2,
       "version_minor": 0
      },
      "text/plain": [
       "[1/7]  14%|#4         [00:00<?]"
      ]
     },
     "metadata": {},
     "output_type": "display_data"
    },
    {
     "data": {
      "application/vnd.jupyter.widget-view+json": {
       "model_id": "15a1c1987e4b4fadb5769fcc8019c6db",
       "version_major": 2,
       "version_minor": 0
      },
      "text/plain": [
       "[1/7]  14%|#4         [00:00<?]"
      ]
     },
     "metadata": {},
     "output_type": "display_data"
    },
    {
     "data": {
      "application/vnd.jupyter.widget-view+json": {
       "model_id": "d7e2fc6cecdd4d739db3ae90b406cc81",
       "version_major": 2,
       "version_minor": 0
      },
      "text/plain": [
       "[1/7]  14%|#4         [00:00<?]"
      ]
     },
     "metadata": {},
     "output_type": "display_data"
    },
    {
     "data": {
      "application/vnd.jupyter.widget-view+json": {
       "model_id": "48e6d4b086e44152b5a9c021a8804e80",
       "version_major": 2,
       "version_minor": 0
      },
      "text/plain": [
       "[1/7]  14%|#4         [00:00<?]"
      ]
     },
     "metadata": {},
     "output_type": "display_data"
    },
    {
     "data": {
      "application/vnd.jupyter.widget-view+json": {
       "model_id": "bc5af3cd9f604f6b897f748b143ccb7e",
       "version_major": 2,
       "version_minor": 0
      },
      "text/plain": [
       "[1/7]  14%|#4         [00:00<?]"
      ]
     },
     "metadata": {},
     "output_type": "display_data"
    },
    {
     "data": {
      "application/vnd.jupyter.widget-view+json": {
       "model_id": "3327d7be8c84434fb2dda7bb350f631b",
       "version_major": 2,
       "version_minor": 0
      },
      "text/plain": [
       "[1/7]  14%|#4         [00:00<?]"
      ]
     },
     "metadata": {},
     "output_type": "display_data"
    },
    {
     "data": {
      "application/vnd.jupyter.widget-view+json": {
       "model_id": "7c84e0c39d134bf3abfec3cf04296807",
       "version_major": 2,
       "version_minor": 0
      },
      "text/plain": [
       "[1/7]  14%|#4         [00:00<?]"
      ]
     },
     "metadata": {},
     "output_type": "display_data"
    },
    {
     "data": {
      "application/vnd.jupyter.widget-view+json": {
       "model_id": "29ead9d6c61842c6ba82f50ce4bda6bf",
       "version_major": 2,
       "version_minor": 0
      },
      "text/plain": [
       "[1/7]  14%|#4         [00:00<?]"
      ]
     },
     "metadata": {},
     "output_type": "display_data"
    },
    {
     "data": {
      "application/vnd.jupyter.widget-view+json": {
       "model_id": "969210f032b94490976e76e8a2800102",
       "version_major": 2,
       "version_minor": 0
      },
      "text/plain": [
       "[1/7]  14%|#4         [00:00<?]"
      ]
     },
     "metadata": {},
     "output_type": "display_data"
    },
    {
     "data": {
      "application/vnd.jupyter.widget-view+json": {
       "model_id": "b7da28e606074fa592e8764232d10052",
       "version_major": 2,
       "version_minor": 0
      },
      "text/plain": [
       "[1/7]  14%|#4         [00:00<?]"
      ]
     },
     "metadata": {},
     "output_type": "display_data"
    },
    {
     "data": {
      "application/vnd.jupyter.widget-view+json": {
       "model_id": "09f84afaee12442eba0545526025d19d",
       "version_major": 2,
       "version_minor": 0
      },
      "text/plain": [
       "[1/7]  14%|#4         [00:00<?]"
      ]
     },
     "metadata": {},
     "output_type": "display_data"
    },
    {
     "name": "stdout",
     "output_type": "stream",
     "text": [
      "Results - Epoch: 288 - Test Likelihood: 1.19 - Loss: 1.25\n"
     ]
    },
    {
     "data": {
      "application/vnd.jupyter.widget-view+json": {
       "model_id": "2d505864a90a4441a3d9ab62946d9233",
       "version_major": 2,
       "version_minor": 0
      },
      "text/plain": [
       "[1/7]  14%|#4         [00:00<?]"
      ]
     },
     "metadata": {},
     "output_type": "display_data"
    },
    {
     "data": {
      "application/vnd.jupyter.widget-view+json": {
       "model_id": "cef166e8fd6c461887cbecaa276e081e",
       "version_major": 2,
       "version_minor": 0
      },
      "text/plain": [
       "[1/7]  14%|#4         [00:00<?]"
      ]
     },
     "metadata": {},
     "output_type": "display_data"
    },
    {
     "data": {
      "application/vnd.jupyter.widget-view+json": {
       "model_id": "7d5e0643d5b24dd9b51930024536f09a",
       "version_major": 2,
       "version_minor": 0
      },
      "text/plain": [
       "[1/7]  14%|#4         [00:00<?]"
      ]
     },
     "metadata": {},
     "output_type": "display_data"
    },
    {
     "data": {
      "application/vnd.jupyter.widget-view+json": {
       "model_id": "11c661fed10f4f75b5e2afb07ab9690c",
       "version_major": 2,
       "version_minor": 0
      },
      "text/plain": [
       "[1/7]  14%|#4         [00:00<?]"
      ]
     },
     "metadata": {},
     "output_type": "display_data"
    },
    {
     "data": {
      "application/vnd.jupyter.widget-view+json": {
       "model_id": "60aef0784c164e8eab5286c124305789",
       "version_major": 2,
       "version_minor": 0
      },
      "text/plain": [
       "[1/7]  14%|#4         [00:00<?]"
      ]
     },
     "metadata": {},
     "output_type": "display_data"
    },
    {
     "data": {
      "application/vnd.jupyter.widget-view+json": {
       "model_id": "0fdf0be48e774dd08ce7bd4943b30fe5",
       "version_major": 2,
       "version_minor": 0
      },
      "text/plain": [
       "[1/7]  14%|#4         [00:00<?]"
      ]
     },
     "metadata": {},
     "output_type": "display_data"
    },
    {
     "data": {
      "application/vnd.jupyter.widget-view+json": {
       "model_id": "513b9924e242434294fba903fef5ce94",
       "version_major": 2,
       "version_minor": 0
      },
      "text/plain": [
       "[1/7]  14%|#4         [00:00<?]"
      ]
     },
     "metadata": {},
     "output_type": "display_data"
    },
    {
     "data": {
      "application/vnd.jupyter.widget-view+json": {
       "model_id": "87f9923853d343f0b7152cf83b5d3973",
       "version_major": 2,
       "version_minor": 0
      },
      "text/plain": [
       "[1/7]  14%|#4         [00:00<?]"
      ]
     },
     "metadata": {},
     "output_type": "display_data"
    },
    {
     "data": {
      "application/vnd.jupyter.widget-view+json": {
       "model_id": "a12b3158f8f14b33b4527866aed022b3",
       "version_major": 2,
       "version_minor": 0
      },
      "text/plain": [
       "[1/7]  14%|#4         [00:00<?]"
      ]
     },
     "metadata": {},
     "output_type": "display_data"
    },
    {
     "data": {
      "application/vnd.jupyter.widget-view+json": {
       "model_id": "a9497ac1795b44dcaa6a52a3c16d3bc3",
       "version_major": 2,
       "version_minor": 0
      },
      "text/plain": [
       "[1/7]  14%|#4         [00:00<?]"
      ]
     },
     "metadata": {},
     "output_type": "display_data"
    },
    {
     "data": {
      "application/vnd.jupyter.widget-view+json": {
       "model_id": "d46c27a0ce1b4c5cb86ae7e423cbf6db",
       "version_major": 2,
       "version_minor": 0
      },
      "text/plain": [
       "[1/7]  14%|#4         [00:00<?]"
      ]
     },
     "metadata": {},
     "output_type": "display_data"
    },
    {
     "data": {
      "application/vnd.jupyter.widget-view+json": {
       "model_id": "401933d0be774e0697db080717595e16",
       "version_major": 2,
       "version_minor": 0
      },
      "text/plain": [
       "[1/7]  14%|#4         [00:00<?]"
      ]
     },
     "metadata": {},
     "output_type": "display_data"
    },
    {
     "data": {
      "application/vnd.jupyter.widget-view+json": {
       "model_id": "0ce94bb8d0684f12881c653208a24a98",
       "version_major": 2,
       "version_minor": 0
      },
      "text/plain": [
       "[1/7]  14%|#4         [00:00<?]"
      ]
     },
     "metadata": {},
     "output_type": "display_data"
    },
    {
     "data": {
      "application/vnd.jupyter.widget-view+json": {
       "model_id": "2d9a3f1f71bb4ccbb27e79413ea5e9f2",
       "version_major": 2,
       "version_minor": 0
      },
      "text/plain": [
       "[1/7]  14%|#4         [00:00<?]"
      ]
     },
     "metadata": {},
     "output_type": "display_data"
    },
    {
     "data": {
      "application/vnd.jupyter.widget-view+json": {
       "model_id": "5f0f5efe3ecf4156845e416050d7b2a6",
       "version_major": 2,
       "version_minor": 0
      },
      "text/plain": [
       "[1/7]  14%|#4         [00:00<?]"
      ]
     },
     "metadata": {},
     "output_type": "display_data"
    },
    {
     "data": {
      "application/vnd.jupyter.widget-view+json": {
       "model_id": "079c8ca6ca4e41f1b2684a66fa5a3ec2",
       "version_major": 2,
       "version_minor": 0
      },
      "text/plain": [
       "[1/7]  14%|#4         [00:00<?]"
      ]
     },
     "metadata": {},
     "output_type": "display_data"
    },
    {
     "data": {
      "application/vnd.jupyter.widget-view+json": {
       "model_id": "e7e99c7adee2409c95c838e9c4e29526",
       "version_major": 2,
       "version_minor": 0
      },
      "text/plain": [
       "[1/7]  14%|#4         [00:00<?]"
      ]
     },
     "metadata": {},
     "output_type": "display_data"
    },
    {
     "data": {
      "application/vnd.jupyter.widget-view+json": {
       "model_id": "1f82de91b5d742738253cf3c5a4996c3",
       "version_major": 2,
       "version_minor": 0
      },
      "text/plain": [
       "[1/7]  14%|#4         [00:00<?]"
      ]
     },
     "metadata": {},
     "output_type": "display_data"
    },
    {
     "data": {
      "application/vnd.jupyter.widget-view+json": {
       "model_id": "543ccee988e54f339a7fe97c8ef472ea",
       "version_major": 2,
       "version_minor": 0
      },
      "text/plain": [
       "[1/7]  14%|#4         [00:00<?]"
      ]
     },
     "metadata": {},
     "output_type": "display_data"
    },
    {
     "data": {
      "application/vnd.jupyter.widget-view+json": {
       "model_id": "4ed1b1d9c53a4c979d9ef8655aa31a84",
       "version_major": 2,
       "version_minor": 0
      },
      "text/plain": [
       "[1/7]  14%|#4         [00:00<?]"
      ]
     },
     "metadata": {},
     "output_type": "display_data"
    },
    {
     "data": {
      "application/vnd.jupyter.widget-view+json": {
       "model_id": "83e4990d6e024a36a73fcfae57e491b0",
       "version_major": 2,
       "version_minor": 0
      },
      "text/plain": [
       "[1/7]  14%|#4         [00:00<?]"
      ]
     },
     "metadata": {},
     "output_type": "display_data"
    },
    {
     "data": {
      "application/vnd.jupyter.widget-view+json": {
       "model_id": "536e5fb864eb46db9024bf7abc05609e",
       "version_major": 2,
       "version_minor": 0
      },
      "text/plain": [
       "[1/7]  14%|#4         [00:00<?]"
      ]
     },
     "metadata": {},
     "output_type": "display_data"
    },
    {
     "data": {
      "application/vnd.jupyter.widget-view+json": {
       "model_id": "e1669be3fcfd430a9f8dc1ce105c7c9d",
       "version_major": 2,
       "version_minor": 0
      },
      "text/plain": [
       "[1/7]  14%|#4         [00:00<?]"
      ]
     },
     "metadata": {},
     "output_type": "display_data"
    },
    {
     "data": {
      "application/vnd.jupyter.widget-view+json": {
       "model_id": "8fb53528bbaf4a35b82a9089927bf18a",
       "version_major": 2,
       "version_minor": 0
      },
      "text/plain": [
       "[1/7]  14%|#4         [00:00<?]"
      ]
     },
     "metadata": {},
     "output_type": "display_data"
    },
    {
     "data": {
      "application/vnd.jupyter.widget-view+json": {
       "model_id": "38d4b2b1b7b84338be1774716d834b03",
       "version_major": 2,
       "version_minor": 0
      },
      "text/plain": [
       "[1/7]  14%|#4         [00:00<?]"
      ]
     },
     "metadata": {},
     "output_type": "display_data"
    },
    {
     "data": {
      "application/vnd.jupyter.widget-view+json": {
       "model_id": "f830f38d55594bdd814908d1f6ed90f9",
       "version_major": 2,
       "version_minor": 0
      },
      "text/plain": [
       "[1/7]  14%|#4         [00:00<?]"
      ]
     },
     "metadata": {},
     "output_type": "display_data"
    },
    {
     "data": {
      "application/vnd.jupyter.widget-view+json": {
       "model_id": "ebe0d66f08c841fc895a6570681e9cef",
       "version_major": 2,
       "version_minor": 0
      },
      "text/plain": [
       "[1/7]  14%|#4         [00:00<?]"
      ]
     },
     "metadata": {},
     "output_type": "display_data"
    },
    {
     "data": {
      "application/vnd.jupyter.widget-view+json": {
       "model_id": "18d59b32f97040fcbc297e6bd9e94474",
       "version_major": 2,
       "version_minor": 0
      },
      "text/plain": [
       "[1/7]  14%|#4         [00:00<?]"
      ]
     },
     "metadata": {},
     "output_type": "display_data"
    },
    {
     "data": {
      "application/vnd.jupyter.widget-view+json": {
       "model_id": "71cedf506ebc4954a601948ff241b77d",
       "version_major": 2,
       "version_minor": 0
      },
      "text/plain": [
       "[1/7]  14%|#4         [00:00<?]"
      ]
     },
     "metadata": {},
     "output_type": "display_data"
    },
    {
     "data": {
      "application/vnd.jupyter.widget-view+json": {
       "model_id": "6eab30dcf4d34477af2ab7875f9c2896",
       "version_major": 2,
       "version_minor": 0
      },
      "text/plain": [
       "[1/7]  14%|#4         [00:00<?]"
      ]
     },
     "metadata": {},
     "output_type": "display_data"
    },
    {
     "data": {
      "application/vnd.jupyter.widget-view+json": {
       "model_id": "dd8070a2d70546758f14e5038caf6545",
       "version_major": 2,
       "version_minor": 0
      },
      "text/plain": [
       "[1/7]  14%|#4         [00:00<?]"
      ]
     },
     "metadata": {},
     "output_type": "display_data"
    },
    {
     "data": {
      "application/vnd.jupyter.widget-view+json": {
       "model_id": "18dc9fb3dbc04bebb72de2f484586b48",
       "version_major": 2,
       "version_minor": 0
      },
      "text/plain": [
       "[1/7]  14%|#4         [00:00<?]"
      ]
     },
     "metadata": {},
     "output_type": "display_data"
    },
    {
     "data": {
      "application/vnd.jupyter.widget-view+json": {
       "model_id": "ef5df0bf96364b3ab3e981eba98691fd",
       "version_major": 2,
       "version_minor": 0
      },
      "text/plain": [
       "[1/7]  14%|#4         [00:00<?]"
      ]
     },
     "metadata": {},
     "output_type": "display_data"
    },
    {
     "data": {
      "application/vnd.jupyter.widget-view+json": {
       "model_id": "05d0967132e0483cade8f7bb1f42e366",
       "version_major": 2,
       "version_minor": 0
      },
      "text/plain": [
       "[1/7]  14%|#4         [00:00<?]"
      ]
     },
     "metadata": {},
     "output_type": "display_data"
    },
    {
     "data": {
      "application/vnd.jupyter.widget-view+json": {
       "model_id": "6715bf61eb3646aa83094a04b3761f3d",
       "version_major": 2,
       "version_minor": 0
      },
      "text/plain": [
       "[1/7]  14%|#4         [00:00<?]"
      ]
     },
     "metadata": {},
     "output_type": "display_data"
    },
    {
     "data": {
      "application/vnd.jupyter.widget-view+json": {
       "model_id": "2b94ed83881443d6b1b7e25e3c428e0e",
       "version_major": 2,
       "version_minor": 0
      },
      "text/plain": [
       "[1/7]  14%|#4         [00:00<?]"
      ]
     },
     "metadata": {},
     "output_type": "display_data"
    },
    {
     "data": {
      "application/vnd.jupyter.widget-view+json": {
       "model_id": "a63235e270e649a2bdcce6cdc41ae354",
       "version_major": 2,
       "version_minor": 0
      },
      "text/plain": [
       "[1/7]  14%|#4         [00:00<?]"
      ]
     },
     "metadata": {},
     "output_type": "display_data"
    },
    {
     "data": {
      "application/vnd.jupyter.widget-view+json": {
       "model_id": "93407237561e4b20b2a9ddb282aaf24d",
       "version_major": 2,
       "version_minor": 0
      },
      "text/plain": [
       "[1/7]  14%|#4         [00:00<?]"
      ]
     },
     "metadata": {},
     "output_type": "display_data"
    },
    {
     "data": {
      "application/vnd.jupyter.widget-view+json": {
       "model_id": "4c9e51f7f8c7427298108517d99f52dd",
       "version_major": 2,
       "version_minor": 0
      },
      "text/plain": [
       "[1/7]  14%|#4         [00:00<?]"
      ]
     },
     "metadata": {},
     "output_type": "display_data"
    },
    {
     "data": {
      "application/vnd.jupyter.widget-view+json": {
       "model_id": "e0d0b48e308a46b9bcae594964b9ae6a",
       "version_major": 2,
       "version_minor": 0
      },
      "text/plain": [
       "[1/7]  14%|#4         [00:00<?]"
      ]
     },
     "metadata": {},
     "output_type": "display_data"
    },
    {
     "data": {
      "application/vnd.jupyter.widget-view+json": {
       "model_id": "bf64641a7c1a43ca8fa7ed4f71699da6",
       "version_major": 2,
       "version_minor": 0
      },
      "text/plain": [
       "[1/7]  14%|#4         [00:00<?]"
      ]
     },
     "metadata": {},
     "output_type": "display_data"
    },
    {
     "data": {
      "application/vnd.jupyter.widget-view+json": {
       "model_id": "0394d97278d84beb8da0b88ce0a866e0",
       "version_major": 2,
       "version_minor": 0
      },
      "text/plain": [
       "[1/7]  14%|#4         [00:00<?]"
      ]
     },
     "metadata": {},
     "output_type": "display_data"
    },
    {
     "data": {
      "application/vnd.jupyter.widget-view+json": {
       "model_id": "2a77d7db5cee447da2dd15d08517afd3",
       "version_major": 2,
       "version_minor": 0
      },
      "text/plain": [
       "[1/7]  14%|#4         [00:00<?]"
      ]
     },
     "metadata": {},
     "output_type": "display_data"
    },
    {
     "data": {
      "application/vnd.jupyter.widget-view+json": {
       "model_id": "002cf89d76f040ce866d540bbe9ac301",
       "version_major": 2,
       "version_minor": 0
      },
      "text/plain": [
       "[1/7]  14%|#4         [00:00<?]"
      ]
     },
     "metadata": {},
     "output_type": "display_data"
    },
    {
     "data": {
      "application/vnd.jupyter.widget-view+json": {
       "model_id": "57c26176ef2447539759bc96cf9eed0b",
       "version_major": 2,
       "version_minor": 0
      },
      "text/plain": [
       "[1/7]  14%|#4         [00:00<?]"
      ]
     },
     "metadata": {},
     "output_type": "display_data"
    },
    {
     "data": {
      "application/vnd.jupyter.widget-view+json": {
       "model_id": "68a55c51082548efa20ce3d4fc0582bd",
       "version_major": 2,
       "version_minor": 0
      },
      "text/plain": [
       "[1/7]  14%|#4         [00:00<?]"
      ]
     },
     "metadata": {},
     "output_type": "display_data"
    },
    {
     "data": {
      "application/vnd.jupyter.widget-view+json": {
       "model_id": "e8824b942322465fbc1fb122798b7717",
       "version_major": 2,
       "version_minor": 0
      },
      "text/plain": [
       "[1/7]  14%|#4         [00:00<?]"
      ]
     },
     "metadata": {},
     "output_type": "display_data"
    },
    {
     "data": {
      "application/vnd.jupyter.widget-view+json": {
       "model_id": "c2eed23268e3401ebe08d477d3ecb429",
       "version_major": 2,
       "version_minor": 0
      },
      "text/plain": [
       "[1/7]  14%|#4         [00:00<?]"
      ]
     },
     "metadata": {},
     "output_type": "display_data"
    },
    {
     "data": {
      "application/vnd.jupyter.widget-view+json": {
       "model_id": "f3cf3877af3f4a469a304fdc3dfd36d9",
       "version_major": 2,
       "version_minor": 0
      },
      "text/plain": [
       "[1/7]  14%|#4         [00:00<?]"
      ]
     },
     "metadata": {},
     "output_type": "display_data"
    },
    {
     "data": {
      "application/vnd.jupyter.widget-view+json": {
       "model_id": "8902f9e2278a49b5ace5c7f0eac00e21",
       "version_major": 2,
       "version_minor": 0
      },
      "text/plain": [
       "[1/7]  14%|#4         [00:00<?]"
      ]
     },
     "metadata": {},
     "output_type": "display_data"
    },
    {
     "data": {
      "application/vnd.jupyter.widget-view+json": {
       "model_id": "8d58e7a6914b489094a7ea47c926adcd",
       "version_major": 2,
       "version_minor": 0
      },
      "text/plain": [
       "[1/7]  14%|#4         [00:00<?]"
      ]
     },
     "metadata": {},
     "output_type": "display_data"
    },
    {
     "data": {
      "application/vnd.jupyter.widget-view+json": {
       "model_id": "3457821f0a1e4c6a893a765fae97b202",
       "version_major": 2,
       "version_minor": 0
      },
      "text/plain": [
       "[1/7]  14%|#4         [00:00<?]"
      ]
     },
     "metadata": {},
     "output_type": "display_data"
    },
    {
     "data": {
      "application/vnd.jupyter.widget-view+json": {
       "model_id": "321aa7e067b147e9abb92d0749283f6f",
       "version_major": 2,
       "version_minor": 0
      },
      "text/plain": [
       "[1/7]  14%|#4         [00:00<?]"
      ]
     },
     "metadata": {},
     "output_type": "display_data"
    },
    {
     "data": {
      "application/vnd.jupyter.widget-view+json": {
       "model_id": "a85949a96f6e49d3bd3171aebf8a142f",
       "version_major": 2,
       "version_minor": 0
      },
      "text/plain": [
       "[1/7]  14%|#4         [00:00<?]"
      ]
     },
     "metadata": {},
     "output_type": "display_data"
    },
    {
     "data": {
      "application/vnd.jupyter.widget-view+json": {
       "model_id": "d42c323d11ec4ac7b90fa67a5d258824",
       "version_major": 2,
       "version_minor": 0
      },
      "text/plain": [
       "[1/7]  14%|#4         [00:00<?]"
      ]
     },
     "metadata": {},
     "output_type": "display_data"
    },
    {
     "data": {
      "application/vnd.jupyter.widget-view+json": {
       "model_id": "94697db0aaea47c3bb31650f5a284068",
       "version_major": 2,
       "version_minor": 0
      },
      "text/plain": [
       "[1/7]  14%|#4         [00:00<?]"
      ]
     },
     "metadata": {},
     "output_type": "display_data"
    },
    {
     "data": {
      "application/vnd.jupyter.widget-view+json": {
       "model_id": "e08b4e9e3fbc4e6f8c18f7cb6484fec1",
       "version_major": 2,
       "version_minor": 0
      },
      "text/plain": [
       "[1/7]  14%|#4         [00:00<?]"
      ]
     },
     "metadata": {},
     "output_type": "display_data"
    },
    {
     "data": {
      "application/vnd.jupyter.widget-view+json": {
       "model_id": "84f851198e6d4918996dff0cec80bc3e",
       "version_major": 2,
       "version_minor": 0
      },
      "text/plain": [
       "[1/7]  14%|#4         [00:00<?]"
      ]
     },
     "metadata": {},
     "output_type": "display_data"
    },
    {
     "data": {
      "application/vnd.jupyter.widget-view+json": {
       "model_id": "7b43e2957681442486d53bc6aa36e4eb",
       "version_major": 2,
       "version_minor": 0
      },
      "text/plain": [
       "[1/7]  14%|#4         [00:00<?]"
      ]
     },
     "metadata": {},
     "output_type": "display_data"
    },
    {
     "data": {
      "application/vnd.jupyter.widget-view+json": {
       "model_id": "a00aa02aa45e40c196dd3e3ea489bc21",
       "version_major": 2,
       "version_minor": 0
      },
      "text/plain": [
       "[1/7]  14%|#4         [00:00<?]"
      ]
     },
     "metadata": {},
     "output_type": "display_data"
    },
    {
     "data": {
      "application/vnd.jupyter.widget-view+json": {
       "model_id": "791b2a9f9454460899a352815eaff22c",
       "version_major": 2,
       "version_minor": 0
      },
      "text/plain": [
       "[1/7]  14%|#4         [00:00<?]"
      ]
     },
     "metadata": {},
     "output_type": "display_data"
    },
    {
     "data": {
      "application/vnd.jupyter.widget-view+json": {
       "model_id": "f4c2a6d990a24663acead5a1e001e3de",
       "version_major": 2,
       "version_minor": 0
      },
      "text/plain": [
       "[1/7]  14%|#4         [00:00<?]"
      ]
     },
     "metadata": {},
     "output_type": "display_data"
    },
    {
     "data": {
      "application/vnd.jupyter.widget-view+json": {
       "model_id": "73a10d3b914949bc9003b58aa06504e4",
       "version_major": 2,
       "version_minor": 0
      },
      "text/plain": [
       "[1/7]  14%|#4         [00:00<?]"
      ]
     },
     "metadata": {},
     "output_type": "display_data"
    },
    {
     "data": {
      "application/vnd.jupyter.widget-view+json": {
       "model_id": "c521e77e993346d1a111beb037c3594b",
       "version_major": 2,
       "version_minor": 0
      },
      "text/plain": [
       "[1/7]  14%|#4         [00:00<?]"
      ]
     },
     "metadata": {},
     "output_type": "display_data"
    },
    {
     "data": {
      "application/vnd.jupyter.widget-view+json": {
       "model_id": "e966a02b8e01490aba9b1d37123e7947",
       "version_major": 2,
       "version_minor": 0
      },
      "text/plain": [
       "[1/7]  14%|#4         [00:00<?]"
      ]
     },
     "metadata": {},
     "output_type": "display_data"
    },
    {
     "data": {
      "application/vnd.jupyter.widget-view+json": {
       "model_id": "5a2af8fba5874673898881c32f96838c",
       "version_major": 2,
       "version_minor": 0
      },
      "text/plain": [
       "[1/7]  14%|#4         [00:00<?]"
      ]
     },
     "metadata": {},
     "output_type": "display_data"
    },
    {
     "data": {
      "application/vnd.jupyter.widget-view+json": {
       "model_id": "6b1f66a158ba4a76a065c761152d5a1a",
       "version_major": 2,
       "version_minor": 0
      },
      "text/plain": [
       "[1/7]  14%|#4         [00:00<?]"
      ]
     },
     "metadata": {},
     "output_type": "display_data"
    },
    {
     "data": {
      "application/vnd.jupyter.widget-view+json": {
       "model_id": "8fca636696a24e6e965db4459e965776",
       "version_major": 2,
       "version_minor": 0
      },
      "text/plain": [
       "[1/7]  14%|#4         [00:00<?]"
      ]
     },
     "metadata": {},
     "output_type": "display_data"
    },
    {
     "data": {
      "application/vnd.jupyter.widget-view+json": {
       "model_id": "9790d87106eb4bb1a1f1812f9ab9b922",
       "version_major": 2,
       "version_minor": 0
      },
      "text/plain": [
       "[1/7]  14%|#4         [00:00<?]"
      ]
     },
     "metadata": {},
     "output_type": "display_data"
    },
    {
     "data": {
      "application/vnd.jupyter.widget-view+json": {
       "model_id": "c261c55418654b6faf2d5b7a6de544d3",
       "version_major": 2,
       "version_minor": 0
      },
      "text/plain": [
       "[1/7]  14%|#4         [00:00<?]"
      ]
     },
     "metadata": {},
     "output_type": "display_data"
    },
    {
     "data": {
      "application/vnd.jupyter.widget-view+json": {
       "model_id": "6a976b828a344afab28a54e631672acf",
       "version_major": 2,
       "version_minor": 0
      },
      "text/plain": [
       "[1/7]  14%|#4         [00:00<?]"
      ]
     },
     "metadata": {},
     "output_type": "display_data"
    },
    {
     "data": {
      "application/vnd.jupyter.widget-view+json": {
       "model_id": "8cd85d56e75b44959b41c0c9009b9a2a",
       "version_major": 2,
       "version_minor": 0
      },
      "text/plain": [
       "[1/7]  14%|#4         [00:00<?]"
      ]
     },
     "metadata": {},
     "output_type": "display_data"
    },
    {
     "name": "stdout",
     "output_type": "stream",
     "text": [
      "Results - Epoch: 360 - Test Likelihood: 1.10 - Loss: 1.15\n"
     ]
    },
    {
     "data": {
      "application/vnd.jupyter.widget-view+json": {
       "model_id": "e26b5cfe731d4cf5a2c6cf3ffca321db",
       "version_major": 2,
       "version_minor": 0
      },
      "text/plain": [
       "[1/7]  14%|#4         [00:00<?]"
      ]
     },
     "metadata": {},
     "output_type": "display_data"
    },
    {
     "data": {
      "application/vnd.jupyter.widget-view+json": {
       "model_id": "9e1d47738708484b9a20460490f14a34",
       "version_major": 2,
       "version_minor": 0
      },
      "text/plain": [
       "[1/7]  14%|#4         [00:00<?]"
      ]
     },
     "metadata": {},
     "output_type": "display_data"
    },
    {
     "data": {
      "application/vnd.jupyter.widget-view+json": {
       "model_id": "91aa451902904042b7ec98cb987f4374",
       "version_major": 2,
       "version_minor": 0
      },
      "text/plain": [
       "[1/7]  14%|#4         [00:00<?]"
      ]
     },
     "metadata": {},
     "output_type": "display_data"
    },
    {
     "data": {
      "application/vnd.jupyter.widget-view+json": {
       "model_id": "777f7ff445c74f96b3367b62de70c273",
       "version_major": 2,
       "version_minor": 0
      },
      "text/plain": [
       "[1/7]  14%|#4         [00:00<?]"
      ]
     },
     "metadata": {},
     "output_type": "display_data"
    },
    {
     "data": {
      "application/vnd.jupyter.widget-view+json": {
       "model_id": "efdd16b7f83f466194c5cf3dfe04b3c2",
       "version_major": 2,
       "version_minor": 0
      },
      "text/plain": [
       "[1/7]  14%|#4         [00:00<?]"
      ]
     },
     "metadata": {},
     "output_type": "display_data"
    },
    {
     "data": {
      "application/vnd.jupyter.widget-view+json": {
       "model_id": "012b565828a54da0877b2dcac5d5dd81",
       "version_major": 2,
       "version_minor": 0
      },
      "text/plain": [
       "[1/7]  14%|#4         [00:00<?]"
      ]
     },
     "metadata": {},
     "output_type": "display_data"
    },
    {
     "data": {
      "application/vnd.jupyter.widget-view+json": {
       "model_id": "99586acad4a948868dc1d5c342e8fd56",
       "version_major": 2,
       "version_minor": 0
      },
      "text/plain": [
       "[1/7]  14%|#4         [00:00<?]"
      ]
     },
     "metadata": {},
     "output_type": "display_data"
    },
    {
     "data": {
      "application/vnd.jupyter.widget-view+json": {
       "model_id": "66ed1662dbd844aea063a070ddaded65",
       "version_major": 2,
       "version_minor": 0
      },
      "text/plain": [
       "[1/7]  14%|#4         [00:00<?]"
      ]
     },
     "metadata": {},
     "output_type": "display_data"
    },
    {
     "data": {
      "application/vnd.jupyter.widget-view+json": {
       "model_id": "7766225389c24a25a8db1550674bcba4",
       "version_major": 2,
       "version_minor": 0
      },
      "text/plain": [
       "[1/7]  14%|#4         [00:00<?]"
      ]
     },
     "metadata": {},
     "output_type": "display_data"
    },
    {
     "data": {
      "application/vnd.jupyter.widget-view+json": {
       "model_id": "98a8935d382445c591781b4049ef4e35",
       "version_major": 2,
       "version_minor": 0
      },
      "text/plain": [
       "[1/7]  14%|#4         [00:00<?]"
      ]
     },
     "metadata": {},
     "output_type": "display_data"
    },
    {
     "data": {
      "application/vnd.jupyter.widget-view+json": {
       "model_id": "1346583fe187477d876715ff327599b5",
       "version_major": 2,
       "version_minor": 0
      },
      "text/plain": [
       "[1/7]  14%|#4         [00:00<?]"
      ]
     },
     "metadata": {},
     "output_type": "display_data"
    },
    {
     "data": {
      "application/vnd.jupyter.widget-view+json": {
       "model_id": "400b00dcdefc470f899af3e3eb5ffe0f",
       "version_major": 2,
       "version_minor": 0
      },
      "text/plain": [
       "[1/7]  14%|#4         [00:00<?]"
      ]
     },
     "metadata": {},
     "output_type": "display_data"
    },
    {
     "data": {
      "application/vnd.jupyter.widget-view+json": {
       "model_id": "91b7062a36f64904954649c16500ed67",
       "version_major": 2,
       "version_minor": 0
      },
      "text/plain": [
       "[1/7]  14%|#4         [00:00<?]"
      ]
     },
     "metadata": {},
     "output_type": "display_data"
    },
    {
     "data": {
      "application/vnd.jupyter.widget-view+json": {
       "model_id": "5c5f67a04a4c4862b59b8a40c0a6a105",
       "version_major": 2,
       "version_minor": 0
      },
      "text/plain": [
       "[1/7]  14%|#4         [00:00<?]"
      ]
     },
     "metadata": {},
     "output_type": "display_data"
    },
    {
     "data": {
      "application/vnd.jupyter.widget-view+json": {
       "model_id": "40a6ca203a1548c4a68b4899f5cdfe26",
       "version_major": 2,
       "version_minor": 0
      },
      "text/plain": [
       "[1/7]  14%|#4         [00:00<?]"
      ]
     },
     "metadata": {},
     "output_type": "display_data"
    },
    {
     "data": {
      "application/vnd.jupyter.widget-view+json": {
       "model_id": "cac7bb85a3034d08b4987c2411ba462a",
       "version_major": 2,
       "version_minor": 0
      },
      "text/plain": [
       "[1/7]  14%|#4         [00:00<?]"
      ]
     },
     "metadata": {},
     "output_type": "display_data"
    },
    {
     "data": {
      "application/vnd.jupyter.widget-view+json": {
       "model_id": "fbbf36e6e90d4a40bbe69d4bcb992f52",
       "version_major": 2,
       "version_minor": 0
      },
      "text/plain": [
       "[1/7]  14%|#4         [00:00<?]"
      ]
     },
     "metadata": {},
     "output_type": "display_data"
    },
    {
     "data": {
      "application/vnd.jupyter.widget-view+json": {
       "model_id": "cc53409614f84beab6b44af27bcf2806",
       "version_major": 2,
       "version_minor": 0
      },
      "text/plain": [
       "[1/7]  14%|#4         [00:00<?]"
      ]
     },
     "metadata": {},
     "output_type": "display_data"
    },
    {
     "data": {
      "application/vnd.jupyter.widget-view+json": {
       "model_id": "df464b9c48cb4085905d17982cd08768",
       "version_major": 2,
       "version_minor": 0
      },
      "text/plain": [
       "[1/7]  14%|#4         [00:00<?]"
      ]
     },
     "metadata": {},
     "output_type": "display_data"
    },
    {
     "data": {
      "application/vnd.jupyter.widget-view+json": {
       "model_id": "0f6afa0082da41a98a17c5d03035b125",
       "version_major": 2,
       "version_minor": 0
      },
      "text/plain": [
       "[1/7]  14%|#4         [00:00<?]"
      ]
     },
     "metadata": {},
     "output_type": "display_data"
    },
    {
     "data": {
      "application/vnd.jupyter.widget-view+json": {
       "model_id": "4c8ba042e8d04c05bebd9df7768ed83a",
       "version_major": 2,
       "version_minor": 0
      },
      "text/plain": [
       "[1/7]  14%|#4         [00:00<?]"
      ]
     },
     "metadata": {},
     "output_type": "display_data"
    },
    {
     "data": {
      "application/vnd.jupyter.widget-view+json": {
       "model_id": "a537884c69fb4235b6519e26d357ecfb",
       "version_major": 2,
       "version_minor": 0
      },
      "text/plain": [
       "[1/7]  14%|#4         [00:00<?]"
      ]
     },
     "metadata": {},
     "output_type": "display_data"
    },
    {
     "data": {
      "application/vnd.jupyter.widget-view+json": {
       "model_id": "3f49569b8ab14adc8ba049dc87787263",
       "version_major": 2,
       "version_minor": 0
      },
      "text/plain": [
       "[1/7]  14%|#4         [00:00<?]"
      ]
     },
     "metadata": {},
     "output_type": "display_data"
    },
    {
     "data": {
      "application/vnd.jupyter.widget-view+json": {
       "model_id": "1be68952648442ada6d01edcb0e3d426",
       "version_major": 2,
       "version_minor": 0
      },
      "text/plain": [
       "[1/7]  14%|#4         [00:00<?]"
      ]
     },
     "metadata": {},
     "output_type": "display_data"
    },
    {
     "data": {
      "application/vnd.jupyter.widget-view+json": {
       "model_id": "b4d632149e4c4cfca3b98c76d686e4df",
       "version_major": 2,
       "version_minor": 0
      },
      "text/plain": [
       "[1/7]  14%|#4         [00:00<?]"
      ]
     },
     "metadata": {},
     "output_type": "display_data"
    },
    {
     "data": {
      "application/vnd.jupyter.widget-view+json": {
       "model_id": "387a7eafd7b640cba3d40a9e724fb22f",
       "version_major": 2,
       "version_minor": 0
      },
      "text/plain": [
       "[1/7]  14%|#4         [00:00<?]"
      ]
     },
     "metadata": {},
     "output_type": "display_data"
    },
    {
     "data": {
      "application/vnd.jupyter.widget-view+json": {
       "model_id": "c1d3ca4b588b46a8aa0b59c4a1a4e3c6",
       "version_major": 2,
       "version_minor": 0
      },
      "text/plain": [
       "[1/7]  14%|#4         [00:00<?]"
      ]
     },
     "metadata": {},
     "output_type": "display_data"
    },
    {
     "data": {
      "application/vnd.jupyter.widget-view+json": {
       "model_id": "f7a6954037dc480e8df2ddbc1743ef17",
       "version_major": 2,
       "version_minor": 0
      },
      "text/plain": [
       "[1/7]  14%|#4         [00:00<?]"
      ]
     },
     "metadata": {},
     "output_type": "display_data"
    },
    {
     "data": {
      "application/vnd.jupyter.widget-view+json": {
       "model_id": "908add2ea23141a38d13928c8cd94b13",
       "version_major": 2,
       "version_minor": 0
      },
      "text/plain": [
       "[1/7]  14%|#4         [00:00<?]"
      ]
     },
     "metadata": {},
     "output_type": "display_data"
    },
    {
     "data": {
      "application/vnd.jupyter.widget-view+json": {
       "model_id": "5c5c924a839e4a3cbae6c03939be7b40",
       "version_major": 2,
       "version_minor": 0
      },
      "text/plain": [
       "[1/7]  14%|#4         [00:00<?]"
      ]
     },
     "metadata": {},
     "output_type": "display_data"
    },
    {
     "data": {
      "application/vnd.jupyter.widget-view+json": {
       "model_id": "5e13269fd38b4f01a8455ea22d31dd14",
       "version_major": 2,
       "version_minor": 0
      },
      "text/plain": [
       "[1/7]  14%|#4         [00:00<?]"
      ]
     },
     "metadata": {},
     "output_type": "display_data"
    },
    {
     "data": {
      "application/vnd.jupyter.widget-view+json": {
       "model_id": "394b0df6ebd54383b712efd580ad9e37",
       "version_major": 2,
       "version_minor": 0
      },
      "text/plain": [
       "[1/7]  14%|#4         [00:00<?]"
      ]
     },
     "metadata": {},
     "output_type": "display_data"
    },
    {
     "data": {
      "application/vnd.jupyter.widget-view+json": {
       "model_id": "32b0f8812c754b33a999dd464b4e6ab3",
       "version_major": 2,
       "version_minor": 0
      },
      "text/plain": [
       "[1/7]  14%|#4         [00:00<?]"
      ]
     },
     "metadata": {},
     "output_type": "display_data"
    },
    {
     "data": {
      "application/vnd.jupyter.widget-view+json": {
       "model_id": "5cd6dbed3aa94cff9085a7ea2bb935e7",
       "version_major": 2,
       "version_minor": 0
      },
      "text/plain": [
       "[1/7]  14%|#4         [00:00<?]"
      ]
     },
     "metadata": {},
     "output_type": "display_data"
    },
    {
     "data": {
      "application/vnd.jupyter.widget-view+json": {
       "model_id": "076f27c5ff814718bcc8fba3e5ff8ddb",
       "version_major": 2,
       "version_minor": 0
      },
      "text/plain": [
       "[1/7]  14%|#4         [00:00<?]"
      ]
     },
     "metadata": {},
     "output_type": "display_data"
    },
    {
     "data": {
      "application/vnd.jupyter.widget-view+json": {
       "model_id": "930ba3f9e66e4c83b5f6a7c674daec73",
       "version_major": 2,
       "version_minor": 0
      },
      "text/plain": [
       "[1/7]  14%|#4         [00:00<?]"
      ]
     },
     "metadata": {},
     "output_type": "display_data"
    },
    {
     "data": {
      "application/vnd.jupyter.widget-view+json": {
       "model_id": "a644bc7ea0534473aec4d0cf9a93c9bb",
       "version_major": 2,
       "version_minor": 0
      },
      "text/plain": [
       "[1/7]  14%|#4         [00:00<?]"
      ]
     },
     "metadata": {},
     "output_type": "display_data"
    },
    {
     "data": {
      "application/vnd.jupyter.widget-view+json": {
       "model_id": "e27330900d744df08948b875612c5652",
       "version_major": 2,
       "version_minor": 0
      },
      "text/plain": [
       "[1/7]  14%|#4         [00:00<?]"
      ]
     },
     "metadata": {},
     "output_type": "display_data"
    },
    {
     "data": {
      "application/vnd.jupyter.widget-view+json": {
       "model_id": "514383720d4d4d8eb117da5633f96b40",
       "version_major": 2,
       "version_minor": 0
      },
      "text/plain": [
       "[1/7]  14%|#4         [00:00<?]"
      ]
     },
     "metadata": {},
     "output_type": "display_data"
    },
    {
     "data": {
      "application/vnd.jupyter.widget-view+json": {
       "model_id": "105d56bbf6344cb9964d4c7602da2a8c",
       "version_major": 2,
       "version_minor": 0
      },
      "text/plain": [
       "[1/7]  14%|#4         [00:00<?]"
      ]
     },
     "metadata": {},
     "output_type": "display_data"
    },
    {
     "data": {
      "application/vnd.jupyter.widget-view+json": {
       "model_id": "41f0291fc0134d59b663d1446b68c09e",
       "version_major": 2,
       "version_minor": 0
      },
      "text/plain": [
       "[1/7]  14%|#4         [00:00<?]"
      ]
     },
     "metadata": {},
     "output_type": "display_data"
    },
    {
     "data": {
      "application/vnd.jupyter.widget-view+json": {
       "model_id": "4e193aa63e684a7b96dd10b6a88d0d9b",
       "version_major": 2,
       "version_minor": 0
      },
      "text/plain": [
       "[1/7]  14%|#4         [00:00<?]"
      ]
     },
     "metadata": {},
     "output_type": "display_data"
    },
    {
     "data": {
      "application/vnd.jupyter.widget-view+json": {
       "model_id": "5c798a5fffde4a2dac4bb66c7b7a04c6",
       "version_major": 2,
       "version_minor": 0
      },
      "text/plain": [
       "[1/7]  14%|#4         [00:00<?]"
      ]
     },
     "metadata": {},
     "output_type": "display_data"
    },
    {
     "data": {
      "application/vnd.jupyter.widget-view+json": {
       "model_id": "3e0ccb00976a4c20bd654a2f8177fd6e",
       "version_major": 2,
       "version_minor": 0
      },
      "text/plain": [
       "[1/7]  14%|#4         [00:00<?]"
      ]
     },
     "metadata": {},
     "output_type": "display_data"
    },
    {
     "data": {
      "application/vnd.jupyter.widget-view+json": {
       "model_id": "303d81dc3ddf4161a0da3cf6bdebd16e",
       "version_major": 2,
       "version_minor": 0
      },
      "text/plain": [
       "[1/7]  14%|#4         [00:00<?]"
      ]
     },
     "metadata": {},
     "output_type": "display_data"
    },
    {
     "data": {
      "application/vnd.jupyter.widget-view+json": {
       "model_id": "4b7a9225c6eb4a2c865be7e4c1432133",
       "version_major": 2,
       "version_minor": 0
      },
      "text/plain": [
       "[1/7]  14%|#4         [00:00<?]"
      ]
     },
     "metadata": {},
     "output_type": "display_data"
    },
    {
     "data": {
      "application/vnd.jupyter.widget-view+json": {
       "model_id": "5a2bbd5dc7a540239084de8b15d9866c",
       "version_major": 2,
       "version_minor": 0
      },
      "text/plain": [
       "[1/7]  14%|#4         [00:00<?]"
      ]
     },
     "metadata": {},
     "output_type": "display_data"
    },
    {
     "data": {
      "application/vnd.jupyter.widget-view+json": {
       "model_id": "030751916d184387a2a7556d40cea3a5",
       "version_major": 2,
       "version_minor": 0
      },
      "text/plain": [
       "[1/7]  14%|#4         [00:00<?]"
      ]
     },
     "metadata": {},
     "output_type": "display_data"
    },
    {
     "data": {
      "application/vnd.jupyter.widget-view+json": {
       "model_id": "a40d81d7228c454b97f6556e3f899b87",
       "version_major": 2,
       "version_minor": 0
      },
      "text/plain": [
       "[1/7]  14%|#4         [00:00<?]"
      ]
     },
     "metadata": {},
     "output_type": "display_data"
    },
    {
     "data": {
      "application/vnd.jupyter.widget-view+json": {
       "model_id": "06a82e01fd3a4d99b037a605de0e565e",
       "version_major": 2,
       "version_minor": 0
      },
      "text/plain": [
       "[1/7]  14%|#4         [00:00<?]"
      ]
     },
     "metadata": {},
     "output_type": "display_data"
    },
    {
     "data": {
      "application/vnd.jupyter.widget-view+json": {
       "model_id": "fb24c903bbba44219f390b90daad3ac0",
       "version_major": 2,
       "version_minor": 0
      },
      "text/plain": [
       "[1/7]  14%|#4         [00:00<?]"
      ]
     },
     "metadata": {},
     "output_type": "display_data"
    },
    {
     "data": {
      "application/vnd.jupyter.widget-view+json": {
       "model_id": "232a68c9a9be44cc8652340e682c63a5",
       "version_major": 2,
       "version_minor": 0
      },
      "text/plain": [
       "[1/7]  14%|#4         [00:00<?]"
      ]
     },
     "metadata": {},
     "output_type": "display_data"
    },
    {
     "data": {
      "application/vnd.jupyter.widget-view+json": {
       "model_id": "66e91ea1352b4aa58adab5011a82232f",
       "version_major": 2,
       "version_minor": 0
      },
      "text/plain": [
       "[1/7]  14%|#4         [00:00<?]"
      ]
     },
     "metadata": {},
     "output_type": "display_data"
    },
    {
     "data": {
      "application/vnd.jupyter.widget-view+json": {
       "model_id": "fe54ace28a3842fda78f308f5865e202",
       "version_major": 2,
       "version_minor": 0
      },
      "text/plain": [
       "[1/7]  14%|#4         [00:00<?]"
      ]
     },
     "metadata": {},
     "output_type": "display_data"
    },
    {
     "data": {
      "application/vnd.jupyter.widget-view+json": {
       "model_id": "1c512a8740c14cefaa8d50a95bc62fa8",
       "version_major": 2,
       "version_minor": 0
      },
      "text/plain": [
       "[1/7]  14%|#4         [00:00<?]"
      ]
     },
     "metadata": {},
     "output_type": "display_data"
    },
    {
     "data": {
      "application/vnd.jupyter.widget-view+json": {
       "model_id": "125b772ef5214527890de81141af85e6",
       "version_major": 2,
       "version_minor": 0
      },
      "text/plain": [
       "[1/7]  14%|#4         [00:00<?]"
      ]
     },
     "metadata": {},
     "output_type": "display_data"
    },
    {
     "data": {
      "application/vnd.jupyter.widget-view+json": {
       "model_id": "96505ed212bd419bb41101f068933cf6",
       "version_major": 2,
       "version_minor": 0
      },
      "text/plain": [
       "[1/7]  14%|#4         [00:00<?]"
      ]
     },
     "metadata": {},
     "output_type": "display_data"
    },
    {
     "data": {
      "application/vnd.jupyter.widget-view+json": {
       "model_id": "9f9cd80f53564b61979ac78ce0c41c3e",
       "version_major": 2,
       "version_minor": 0
      },
      "text/plain": [
       "[1/7]  14%|#4         [00:00<?]"
      ]
     },
     "metadata": {},
     "output_type": "display_data"
    },
    {
     "data": {
      "application/vnd.jupyter.widget-view+json": {
       "model_id": "6960dc893fe649cd8369f85a94e3ac21",
       "version_major": 2,
       "version_minor": 0
      },
      "text/plain": [
       "[1/7]  14%|#4         [00:00<?]"
      ]
     },
     "metadata": {},
     "output_type": "display_data"
    },
    {
     "data": {
      "application/vnd.jupyter.widget-view+json": {
       "model_id": "09d6a2e1d1cf4f0b9a11a59b9e90fba5",
       "version_major": 2,
       "version_minor": 0
      },
      "text/plain": [
       "[1/7]  14%|#4         [00:00<?]"
      ]
     },
     "metadata": {},
     "output_type": "display_data"
    },
    {
     "data": {
      "application/vnd.jupyter.widget-view+json": {
       "model_id": "f715ec25df9f42d198197db0128ce873",
       "version_major": 2,
       "version_minor": 0
      },
      "text/plain": [
       "[1/7]  14%|#4         [00:00<?]"
      ]
     },
     "metadata": {},
     "output_type": "display_data"
    },
    {
     "data": {
      "application/vnd.jupyter.widget-view+json": {
       "model_id": "00e6087e158e48deb4350b6b8fed5a32",
       "version_major": 2,
       "version_minor": 0
      },
      "text/plain": [
       "[1/7]  14%|#4         [00:00<?]"
      ]
     },
     "metadata": {},
     "output_type": "display_data"
    },
    {
     "name": "stderr",
     "output_type": "stream",
     "text": [
      "Engine run is terminating due to exception: \n"
     ]
    },
    {
     "ename": "KeyboardInterrupt",
     "evalue": "",
     "output_type": "error",
     "traceback": [
      "\u001b[0;31m---------------------------------------------------------------------------\u001b[0m",
      "\u001b[0;31mKeyboardInterrupt\u001b[0m                         Traceback (most recent call last)",
      "Cell \u001b[0;32mIn[6], line 1\u001b[0m\n\u001b[0;32m----> 1\u001b[0m \u001b[43mtrainer\u001b[49m\u001b[38;5;241;43m.\u001b[39;49m\u001b[43mrun\u001b[49m\u001b[43m(\u001b[49m\u001b[43mdl_train\u001b[49m\u001b[43m,\u001b[49m\u001b[43m \u001b[49m\u001b[43mmax_epochs\u001b[49m\u001b[38;5;241;43m=\u001b[39;49m\u001b[43mepochs\u001b[49m\u001b[43m)\u001b[49m\n",
      "File \u001b[0;32m~/.conda/envs/xuelong-torch/lib/python3.12/site-packages/ignite/engine/engine.py:889\u001b[0m, in \u001b[0;36mEngine.run\u001b[0;34m(self, data, max_epochs, epoch_length)\u001b[0m\n\u001b[1;32m    886\u001b[0m     \u001b[38;5;28mself\u001b[39m\u001b[38;5;241m.\u001b[39mstate\u001b[38;5;241m.\u001b[39mdataloader \u001b[38;5;241m=\u001b[39m data\n\u001b[1;32m    888\u001b[0m \u001b[38;5;28;01mif\u001b[39;00m \u001b[38;5;28mself\u001b[39m\u001b[38;5;241m.\u001b[39minterrupt_resume_enabled:\n\u001b[0;32m--> 889\u001b[0m     \u001b[38;5;28;01mreturn\u001b[39;00m \u001b[38;5;28;43mself\u001b[39;49m\u001b[38;5;241;43m.\u001b[39;49m\u001b[43m_internal_run\u001b[49m\u001b[43m(\u001b[49m\u001b[43m)\u001b[49m\n\u001b[1;32m    890\u001b[0m \u001b[38;5;28;01melse\u001b[39;00m:\n\u001b[1;32m    891\u001b[0m     \u001b[38;5;28;01mreturn\u001b[39;00m \u001b[38;5;28mself\u001b[39m\u001b[38;5;241m.\u001b[39m_internal_run_legacy()\n",
      "File \u001b[0;32m~/.conda/envs/xuelong-torch/lib/python3.12/site-packages/ignite/engine/engine.py:932\u001b[0m, in \u001b[0;36mEngine._internal_run\u001b[0;34m(self)\u001b[0m\n\u001b[1;32m    930\u001b[0m     \u001b[38;5;28mself\u001b[39m\u001b[38;5;241m.\u001b[39m_internal_run_generator \u001b[38;5;241m=\u001b[39m \u001b[38;5;28mself\u001b[39m\u001b[38;5;241m.\u001b[39m_internal_run_as_gen()\n\u001b[1;32m    931\u001b[0m \u001b[38;5;28;01mtry\u001b[39;00m:\n\u001b[0;32m--> 932\u001b[0m     \u001b[38;5;28;01mreturn\u001b[39;00m \u001b[38;5;28;43mnext\u001b[39;49m\u001b[43m(\u001b[49m\u001b[38;5;28;43mself\u001b[39;49m\u001b[38;5;241;43m.\u001b[39;49m\u001b[43m_internal_run_generator\u001b[49m\u001b[43m)\u001b[49m\n\u001b[1;32m    933\u001b[0m \u001b[38;5;28;01mexcept\u001b[39;00m \u001b[38;5;167;01mStopIteration\u001b[39;00m \u001b[38;5;28;01mas\u001b[39;00m out:\n\u001b[1;32m    934\u001b[0m     \u001b[38;5;28mself\u001b[39m\u001b[38;5;241m.\u001b[39m_internal_run_generator \u001b[38;5;241m=\u001b[39m \u001b[38;5;28;01mNone\u001b[39;00m\n",
      "File \u001b[0;32m~/.conda/envs/xuelong-torch/lib/python3.12/site-packages/ignite/engine/engine.py:990\u001b[0m, in \u001b[0;36mEngine._internal_run_as_gen\u001b[0;34m(self)\u001b[0m\n\u001b[1;32m    988\u001b[0m     \u001b[38;5;28mself\u001b[39m\u001b[38;5;241m.\u001b[39m_dataloader_iter \u001b[38;5;241m=\u001b[39m \u001b[38;5;28;01mNone\u001b[39;00m\n\u001b[1;32m    989\u001b[0m     \u001b[38;5;28mself\u001b[39m\u001b[38;5;241m.\u001b[39mlogger\u001b[38;5;241m.\u001b[39merror(\u001b[38;5;124mf\u001b[39m\u001b[38;5;124m\"\u001b[39m\u001b[38;5;124mEngine run is terminating due to exception: \u001b[39m\u001b[38;5;132;01m{\u001b[39;00me\u001b[38;5;132;01m}\u001b[39;00m\u001b[38;5;124m\"\u001b[39m)\n\u001b[0;32m--> 990\u001b[0m     \u001b[38;5;28;43mself\u001b[39;49m\u001b[38;5;241;43m.\u001b[39;49m\u001b[43m_handle_exception\u001b[49m\u001b[43m(\u001b[49m\u001b[43me\u001b[49m\u001b[43m)\u001b[49m\n\u001b[1;32m    992\u001b[0m \u001b[38;5;28mself\u001b[39m\u001b[38;5;241m.\u001b[39m_dataloader_iter \u001b[38;5;241m=\u001b[39m \u001b[38;5;28;01mNone\u001b[39;00m\n\u001b[1;32m    993\u001b[0m \u001b[38;5;28;01mreturn\u001b[39;00m \u001b[38;5;28mself\u001b[39m\u001b[38;5;241m.\u001b[39mstate\n",
      "File \u001b[0;32m~/.conda/envs/xuelong-torch/lib/python3.12/site-packages/ignite/engine/engine.py:644\u001b[0m, in \u001b[0;36mEngine._handle_exception\u001b[0;34m(self, e)\u001b[0m\n\u001b[1;32m    642\u001b[0m     \u001b[38;5;28mself\u001b[39m\u001b[38;5;241m.\u001b[39m_fire_event(Events\u001b[38;5;241m.\u001b[39mEXCEPTION_RAISED, e)\n\u001b[1;32m    643\u001b[0m \u001b[38;5;28;01melse\u001b[39;00m:\n\u001b[0;32m--> 644\u001b[0m     \u001b[38;5;28;01mraise\u001b[39;00m e\n",
      "File \u001b[0;32m~/.conda/envs/xuelong-torch/lib/python3.12/site-packages/ignite/engine/engine.py:956\u001b[0m, in \u001b[0;36mEngine._internal_run_as_gen\u001b[0;34m(self)\u001b[0m\n\u001b[1;32m    953\u001b[0m \u001b[38;5;28;01mif\u001b[39;00m \u001b[38;5;28mself\u001b[39m\u001b[38;5;241m.\u001b[39m_dataloader_iter \u001b[38;5;129;01mis\u001b[39;00m \u001b[38;5;28;01mNone\u001b[39;00m:\n\u001b[1;32m    954\u001b[0m     \u001b[38;5;28mself\u001b[39m\u001b[38;5;241m.\u001b[39m_setup_engine()\n\u001b[0;32m--> 956\u001b[0m epoch_time_taken \u001b[38;5;241m+\u001b[39m\u001b[38;5;241m=\u001b[39m \u001b[38;5;28;01myield from\u001b[39;00m \u001b[38;5;28mself\u001b[39m\u001b[38;5;241m.\u001b[39m_run_once_on_dataset_as_gen()\n\u001b[1;32m    958\u001b[0m \u001b[38;5;66;03m# time is available for handlers but must be updated after fire\u001b[39;00m\n\u001b[1;32m    959\u001b[0m \u001b[38;5;28mself\u001b[39m\u001b[38;5;241m.\u001b[39mstate\u001b[38;5;241m.\u001b[39mtimes[Events\u001b[38;5;241m.\u001b[39mEPOCH_COMPLETED\u001b[38;5;241m.\u001b[39mname] \u001b[38;5;241m=\u001b[39m epoch_time_taken\n",
      "File \u001b[0;32m~/.conda/envs/xuelong-torch/lib/python3.12/site-packages/ignite/engine/engine.py:1077\u001b[0m, in \u001b[0;36mEngine._run_once_on_dataset_as_gen\u001b[0;34m(self)\u001b[0m\n\u001b[1;32m   1074\u001b[0m \u001b[38;5;28mself\u001b[39m\u001b[38;5;241m.\u001b[39m_fire_event(Events\u001b[38;5;241m.\u001b[39mITERATION_STARTED)\n\u001b[1;32m   1075\u001b[0m \u001b[38;5;28;01myield from\u001b[39;00m \u001b[38;5;28mself\u001b[39m\u001b[38;5;241m.\u001b[39m_maybe_terminate_or_interrupt()\n\u001b[0;32m-> 1077\u001b[0m \u001b[38;5;28mself\u001b[39m\u001b[38;5;241m.\u001b[39mstate\u001b[38;5;241m.\u001b[39moutput \u001b[38;5;241m=\u001b[39m \u001b[38;5;28;43mself\u001b[39;49m\u001b[38;5;241;43m.\u001b[39;49m\u001b[43m_process_function\u001b[49m\u001b[43m(\u001b[49m\u001b[38;5;28;43mself\u001b[39;49m\u001b[43m,\u001b[49m\u001b[43m \u001b[49m\u001b[38;5;28;43mself\u001b[39;49m\u001b[38;5;241;43m.\u001b[39;49m\u001b[43mstate\u001b[49m\u001b[38;5;241;43m.\u001b[39;49m\u001b[43mbatch\u001b[49m\u001b[43m)\u001b[49m\n\u001b[1;32m   1078\u001b[0m \u001b[38;5;28mself\u001b[39m\u001b[38;5;241m.\u001b[39m_fire_event(Events\u001b[38;5;241m.\u001b[39mITERATION_COMPLETED)\n\u001b[1;32m   1079\u001b[0m \u001b[38;5;28;01myield from\u001b[39;00m \u001b[38;5;28mself\u001b[39m\u001b[38;5;241m.\u001b[39m_maybe_terminate_or_interrupt()\n",
      "Cell \u001b[0;32mIn[5], line 107\u001b[0m, in \u001b[0;36mstep\u001b[0;34m(engine, batch)\u001b[0m\n\u001b[1;32m    104\u001b[0m     x \u001b[38;5;241m=\u001b[39m x\u001b[38;5;241m.\u001b[39mcuda()\n\u001b[1;32m    105\u001b[0m     y \u001b[38;5;241m=\u001b[39m y\u001b[38;5;241m.\u001b[39mcuda()\n\u001b[0;32m--> 107\u001b[0m y_pred \u001b[38;5;241m=\u001b[39m \u001b[43mmodel\u001b[49m\u001b[43m(\u001b[49m\u001b[43mx\u001b[49m\u001b[43m)\u001b[49m\n\u001b[1;32m    109\u001b[0m \u001b[38;5;28;01mif\u001b[39;00m \u001b[38;5;129;01mnot\u001b[39;00m DUE:\n\u001b[1;32m    110\u001b[0m     y_pred\u001b[38;5;241m.\u001b[39msqueeze_()\n",
      "File \u001b[0;32m~/.conda/envs/xuelong-torch/lib/python3.12/site-packages/gpytorch/module.py:31\u001b[0m, in \u001b[0;36mModule.__call__\u001b[0;34m(self, *inputs, **kwargs)\u001b[0m\n\u001b[1;32m     30\u001b[0m \u001b[38;5;28;01mdef\u001b[39;00m \u001b[38;5;21m__call__\u001b[39m(\u001b[38;5;28mself\u001b[39m, \u001b[38;5;241m*\u001b[39minputs, \u001b[38;5;241m*\u001b[39m\u001b[38;5;241m*\u001b[39mkwargs) \u001b[38;5;241m-\u001b[39m\u001b[38;5;241m>\u001b[39m Union[Tensor, Distribution, LinearOperator]:\n\u001b[0;32m---> 31\u001b[0m     outputs \u001b[38;5;241m=\u001b[39m \u001b[38;5;28;43mself\u001b[39;49m\u001b[38;5;241;43m.\u001b[39;49m\u001b[43mforward\u001b[49m\u001b[43m(\u001b[49m\u001b[38;5;241;43m*\u001b[39;49m\u001b[43minputs\u001b[49m\u001b[43m,\u001b[49m\u001b[43m \u001b[49m\u001b[38;5;241;43m*\u001b[39;49m\u001b[38;5;241;43m*\u001b[39;49m\u001b[43mkwargs\u001b[49m\u001b[43m)\u001b[49m\n\u001b[1;32m     32\u001b[0m     \u001b[38;5;28;01mif\u001b[39;00m \u001b[38;5;28misinstance\u001b[39m(outputs, \u001b[38;5;28mlist\u001b[39m):\n\u001b[1;32m     33\u001b[0m         \u001b[38;5;28;01mreturn\u001b[39;00m [_validate_module_outputs(output) \u001b[38;5;28;01mfor\u001b[39;00m output \u001b[38;5;129;01min\u001b[39;00m outputs]\n",
      "File \u001b[0;32m~/DUE/due/dkl.py:180\u001b[0m, in \u001b[0;36mDKL.forward\u001b[0;34m(self, x)\u001b[0m\n\u001b[1;32m    178\u001b[0m \u001b[38;5;28;01mdef\u001b[39;00m \u001b[38;5;21mforward\u001b[39m(\u001b[38;5;28mself\u001b[39m, x):\n\u001b[1;32m    179\u001b[0m     features \u001b[38;5;241m=\u001b[39m \u001b[38;5;28mself\u001b[39m\u001b[38;5;241m.\u001b[39mfeature_extractor(x)\n\u001b[0;32m--> 180\u001b[0m     \u001b[38;5;28;01mreturn\u001b[39;00m \u001b[38;5;28;43mself\u001b[39;49m\u001b[38;5;241;43m.\u001b[39;49m\u001b[43mgp\u001b[49m\u001b[43m(\u001b[49m\u001b[43mfeatures\u001b[49m\u001b[43m)\u001b[49m\n",
      "File \u001b[0;32m~/.conda/envs/xuelong-torch/lib/python3.12/site-packages/gpytorch/models/approximate_gp.py:114\u001b[0m, in \u001b[0;36mApproximateGP.__call__\u001b[0;34m(self, inputs, prior, **kwargs)\u001b[0m\n\u001b[1;32m    112\u001b[0m \u001b[38;5;28;01mif\u001b[39;00m inputs \u001b[38;5;129;01mis\u001b[39;00m \u001b[38;5;129;01mnot\u001b[39;00m \u001b[38;5;28;01mNone\u001b[39;00m \u001b[38;5;129;01mand\u001b[39;00m inputs\u001b[38;5;241m.\u001b[39mdim() \u001b[38;5;241m==\u001b[39m \u001b[38;5;241m1\u001b[39m:\n\u001b[1;32m    113\u001b[0m     inputs \u001b[38;5;241m=\u001b[39m inputs\u001b[38;5;241m.\u001b[39munsqueeze(\u001b[38;5;241m-\u001b[39m\u001b[38;5;241m1\u001b[39m)\n\u001b[0;32m--> 114\u001b[0m \u001b[38;5;28;01mreturn\u001b[39;00m \u001b[38;5;28;43mself\u001b[39;49m\u001b[38;5;241;43m.\u001b[39;49m\u001b[43mvariational_strategy\u001b[49m\u001b[43m(\u001b[49m\u001b[43minputs\u001b[49m\u001b[43m,\u001b[49m\u001b[43m \u001b[49m\u001b[43mprior\u001b[49m\u001b[38;5;241;43m=\u001b[39;49m\u001b[43mprior\u001b[49m\u001b[43m,\u001b[49m\u001b[43m \u001b[49m\u001b[38;5;241;43m*\u001b[39;49m\u001b[38;5;241;43m*\u001b[39;49m\u001b[43mkwargs\u001b[49m\u001b[43m)\u001b[49m\n",
      "File \u001b[0;32m~/.conda/envs/xuelong-torch/lib/python3.12/site-packages/gpytorch/variational/variational_strategy.py:272\u001b[0m, in \u001b[0;36mVariationalStrategy.__call__\u001b[0;34m(self, x, prior, **kwargs)\u001b[0m\n\u001b[1;32m    269\u001b[0m         \u001b[38;5;66;03m# Mark that we have updated the variational strategy\u001b[39;00m\n\u001b[1;32m    270\u001b[0m         \u001b[38;5;28mself\u001b[39m\u001b[38;5;241m.\u001b[39mupdated_strategy\u001b[38;5;241m.\u001b[39mfill_(\u001b[38;5;28;01mTrue\u001b[39;00m)\n\u001b[0;32m--> 272\u001b[0m \u001b[38;5;28;01mreturn\u001b[39;00m \u001b[38;5;28;43msuper\u001b[39;49m\u001b[43m(\u001b[49m\u001b[43m)\u001b[49m\u001b[38;5;241;43m.\u001b[39;49m\u001b[38;5;21;43m__call__\u001b[39;49m\u001b[43m(\u001b[49m\u001b[43mx\u001b[49m\u001b[43m,\u001b[49m\u001b[43m \u001b[49m\u001b[43mprior\u001b[49m\u001b[38;5;241;43m=\u001b[39;49m\u001b[43mprior\u001b[49m\u001b[43m,\u001b[49m\u001b[43m \u001b[49m\u001b[38;5;241;43m*\u001b[39;49m\u001b[38;5;241;43m*\u001b[39;49m\u001b[43mkwargs\u001b[49m\u001b[43m)\u001b[49m\n",
      "File \u001b[0;32m~/.conda/envs/xuelong-torch/lib/python3.12/site-packages/gpytorch/variational/_variational_strategy.py:347\u001b[0m, in \u001b[0;36m_VariationalStrategy.__call__\u001b[0;34m(self, x, prior, **kwargs)\u001b[0m\n\u001b[1;32m    345\u001b[0m \u001b[38;5;66;03m# Get q(f)\u001b[39;00m\n\u001b[1;32m    346\u001b[0m \u001b[38;5;28;01mif\u001b[39;00m \u001b[38;5;28misinstance\u001b[39m(variational_dist_u, MultivariateNormal):\n\u001b[0;32m--> 347\u001b[0m     \u001b[38;5;28;01mreturn\u001b[39;00m \u001b[38;5;28;43msuper\u001b[39;49m\u001b[43m(\u001b[49m\u001b[43m)\u001b[49m\u001b[38;5;241;43m.\u001b[39;49m\u001b[38;5;21;43m__call__\u001b[39;49m\u001b[43m(\u001b[49m\n\u001b[1;32m    348\u001b[0m \u001b[43m        \u001b[49m\u001b[43mx\u001b[49m\u001b[43m,\u001b[49m\n\u001b[1;32m    349\u001b[0m \u001b[43m        \u001b[49m\u001b[43minducing_points\u001b[49m\u001b[43m,\u001b[49m\n\u001b[1;32m    350\u001b[0m \u001b[43m        \u001b[49m\u001b[43minducing_values\u001b[49m\u001b[38;5;241;43m=\u001b[39;49m\u001b[43mvariational_dist_u\u001b[49m\u001b[38;5;241;43m.\u001b[39;49m\u001b[43mmean\u001b[49m\u001b[43m,\u001b[49m\n\u001b[1;32m    351\u001b[0m \u001b[43m        \u001b[49m\u001b[43mvariational_inducing_covar\u001b[49m\u001b[38;5;241;43m=\u001b[39;49m\u001b[43mvariational_dist_u\u001b[49m\u001b[38;5;241;43m.\u001b[39;49m\u001b[43mlazy_covariance_matrix\u001b[49m\u001b[43m,\u001b[49m\n\u001b[1;32m    352\u001b[0m \u001b[43m        \u001b[49m\u001b[38;5;241;43m*\u001b[39;49m\u001b[38;5;241;43m*\u001b[39;49m\u001b[43mkwargs\u001b[49m\u001b[43m,\u001b[49m\n\u001b[1;32m    353\u001b[0m \u001b[43m    \u001b[49m\u001b[43m)\u001b[49m\n\u001b[1;32m    354\u001b[0m \u001b[38;5;28;01melif\u001b[39;00m \u001b[38;5;28misinstance\u001b[39m(variational_dist_u, Delta):\n\u001b[1;32m    355\u001b[0m     \u001b[38;5;28;01mreturn\u001b[39;00m \u001b[38;5;28msuper\u001b[39m()\u001b[38;5;241m.\u001b[39m\u001b[38;5;21m__call__\u001b[39m(\n\u001b[1;32m    356\u001b[0m         x, inducing_points, inducing_values\u001b[38;5;241m=\u001b[39mvariational_dist_u\u001b[38;5;241m.\u001b[39mmean, variational_inducing_covar\u001b[38;5;241m=\u001b[39m\u001b[38;5;28;01mNone\u001b[39;00m, \u001b[38;5;241m*\u001b[39m\u001b[38;5;241m*\u001b[39mkwargs\n\u001b[1;32m    357\u001b[0m     )\n",
      "File \u001b[0;32m~/.conda/envs/xuelong-torch/lib/python3.12/site-packages/gpytorch/module.py:31\u001b[0m, in \u001b[0;36mModule.__call__\u001b[0;34m(self, *inputs, **kwargs)\u001b[0m\n\u001b[1;32m     30\u001b[0m \u001b[38;5;28;01mdef\u001b[39;00m \u001b[38;5;21m__call__\u001b[39m(\u001b[38;5;28mself\u001b[39m, \u001b[38;5;241m*\u001b[39minputs, \u001b[38;5;241m*\u001b[39m\u001b[38;5;241m*\u001b[39mkwargs) \u001b[38;5;241m-\u001b[39m\u001b[38;5;241m>\u001b[39m Union[Tensor, Distribution, LinearOperator]:\n\u001b[0;32m---> 31\u001b[0m     outputs \u001b[38;5;241m=\u001b[39m \u001b[38;5;28;43mself\u001b[39;49m\u001b[38;5;241;43m.\u001b[39;49m\u001b[43mforward\u001b[49m\u001b[43m(\u001b[49m\u001b[38;5;241;43m*\u001b[39;49m\u001b[43minputs\u001b[49m\u001b[43m,\u001b[49m\u001b[43m \u001b[49m\u001b[38;5;241;43m*\u001b[39;49m\u001b[38;5;241;43m*\u001b[39;49m\u001b[43mkwargs\u001b[49m\u001b[43m)\u001b[49m\n\u001b[1;32m     32\u001b[0m     \u001b[38;5;28;01mif\u001b[39;00m \u001b[38;5;28misinstance\u001b[39m(outputs, \u001b[38;5;28mlist\u001b[39m):\n\u001b[1;32m     33\u001b[0m         \u001b[38;5;28;01mreturn\u001b[39;00m [_validate_module_outputs(output) \u001b[38;5;28;01mfor\u001b[39;00m output \u001b[38;5;129;01min\u001b[39;00m outputs]\n",
      "File \u001b[0;32m~/.conda/envs/xuelong-torch/lib/python3.12/site-packages/gpytorch/variational/variational_strategy.py:196\u001b[0m, in \u001b[0;36mVariationalStrategy.forward\u001b[0;34m(self, x, inducing_points, inducing_values, variational_inducing_covar, **kwargs)\u001b[0m\n\u001b[1;32m    194\u001b[0m num_induc \u001b[38;5;241m=\u001b[39m inducing_points\u001b[38;5;241m.\u001b[39msize(\u001b[38;5;241m-\u001b[39m\u001b[38;5;241m2\u001b[39m)\n\u001b[1;32m    195\u001b[0m test_mean \u001b[38;5;241m=\u001b[39m full_output\u001b[38;5;241m.\u001b[39mmean[\u001b[38;5;241m.\u001b[39m\u001b[38;5;241m.\u001b[39m\u001b[38;5;241m.\u001b[39m, num_induc:]\n\u001b[0;32m--> 196\u001b[0m induc_induc_covar \u001b[38;5;241m=\u001b[39m \u001b[43mfull_covar\u001b[49m\u001b[43m[\u001b[49m\u001b[38;5;241;43m.\u001b[39;49m\u001b[38;5;241;43m.\u001b[39;49m\u001b[38;5;241;43m.\u001b[39;49m\u001b[43m,\u001b[49m\u001b[43m \u001b[49m\u001b[43m:\u001b[49m\u001b[43mnum_induc\u001b[49m\u001b[43m,\u001b[49m\u001b[43m \u001b[49m\u001b[43m:\u001b[49m\u001b[43mnum_induc\u001b[49m\u001b[43m]\u001b[49m\u001b[38;5;241;43m.\u001b[39;49m\u001b[43madd_jitter\u001b[49m\u001b[43m(\u001b[49m\u001b[38;5;28;43mself\u001b[39;49m\u001b[38;5;241;43m.\u001b[39;49m\u001b[43mjitter_val\u001b[49m\u001b[43m)\u001b[49m\n\u001b[1;32m    197\u001b[0m induc_data_covar \u001b[38;5;241m=\u001b[39m full_covar[\u001b[38;5;241m.\u001b[39m\u001b[38;5;241m.\u001b[39m\u001b[38;5;241m.\u001b[39m, :num_induc, num_induc:]\u001b[38;5;241m.\u001b[39mto_dense()\n\u001b[1;32m    198\u001b[0m data_data_covar \u001b[38;5;241m=\u001b[39m full_covar[\u001b[38;5;241m.\u001b[39m\u001b[38;5;241m.\u001b[39m\u001b[38;5;241m.\u001b[39m, num_induc:, num_induc:]\n",
      "File \u001b[0;32m~/.conda/envs/xuelong-torch/lib/python3.12/site-packages/linear_operator/operators/_linear_operator.py:1009\u001b[0m, in \u001b[0;36mLinearOperator.add_jitter\u001b[0;34m(self, jitter_val)\u001b[0m\n\u001b[1;32m    996\u001b[0m \u001b[38;5;28;01mdef\u001b[39;00m \u001b[38;5;21madd_jitter\u001b[39m(\n\u001b[1;32m    997\u001b[0m     \u001b[38;5;28mself\u001b[39m: Float[LinearOperator, \u001b[38;5;124m\"\u001b[39m\u001b[38;5;124m*batch N N\u001b[39m\u001b[38;5;124m\"\u001b[39m], jitter_val: \u001b[38;5;28mfloat\u001b[39m \u001b[38;5;241m=\u001b[39m \u001b[38;5;241m1e-3\u001b[39m\n\u001b[1;32m    998\u001b[0m ) \u001b[38;5;241m-\u001b[39m\u001b[38;5;241m>\u001b[39m Float[LinearOperator, \u001b[38;5;124m\"\u001b[39m\u001b[38;5;124m*batch N N\u001b[39m\u001b[38;5;124m\"\u001b[39m]:\n\u001b[1;32m    999\u001b[0m \u001b[38;5;250m    \u001b[39m\u001b[38;5;124mr\u001b[39m\u001b[38;5;124;03m\"\"\"\u001b[39;00m\n\u001b[1;32m   1000\u001b[0m \u001b[38;5;124;03m    Adds jitter (i.e., a small diagonal component) to the matrix this\u001b[39;00m\n\u001b[1;32m   1001\u001b[0m \u001b[38;5;124;03m    LinearOperator represents.\u001b[39;00m\n\u001b[0;32m   (...)\u001b[0m\n\u001b[1;32m   1007\u001b[0m \u001b[38;5;124;03m        and :math:`\\alpha` is :attr:`jitter_val`.\u001b[39;00m\n\u001b[1;32m   1008\u001b[0m \u001b[38;5;124;03m    \"\"\"\u001b[39;00m\n\u001b[0;32m-> 1009\u001b[0m     diag \u001b[38;5;241m=\u001b[39m \u001b[43mtorch\u001b[49m\u001b[38;5;241;43m.\u001b[39;49m\u001b[43mtensor\u001b[49m\u001b[43m(\u001b[49m\u001b[43mjitter_val\u001b[49m\u001b[43m,\u001b[49m\u001b[43m \u001b[49m\u001b[43mdtype\u001b[49m\u001b[38;5;241;43m=\u001b[39;49m\u001b[38;5;28;43mself\u001b[39;49m\u001b[38;5;241;43m.\u001b[39;49m\u001b[43mdtype\u001b[49m\u001b[43m,\u001b[49m\u001b[43m \u001b[49m\u001b[43mdevice\u001b[49m\u001b[38;5;241;43m=\u001b[39;49m\u001b[38;5;28;43mself\u001b[39;49m\u001b[38;5;241;43m.\u001b[39;49m\u001b[43mdevice\u001b[49m\u001b[43m)\u001b[49m\n\u001b[1;32m   1010\u001b[0m     \u001b[38;5;28;01mreturn\u001b[39;00m \u001b[38;5;28mself\u001b[39m\u001b[38;5;241m.\u001b[39madd_diagonal(diag)\n",
      "\u001b[0;31mKeyboardInterrupt\u001b[0m: "
     ]
    }
   ],
   "source": [
    "trainer.run(dl_train, max_epochs=epochs)"
   ]
  },
  {
   "cell_type": "code",
   "execution_count": null,
   "metadata": {},
   "outputs": [],
   "source": [
    "model.eval()\n",
    "if DUE:\n",
    "    likelihood.eval()\n",
    "\n",
    "x_lin = np.linspace(-domain, domain, 100)\n",
    "            \n",
    "with torch.no_grad(), gpytorch.settings.num_likelihood_samples(64):\n",
    "    xx = torch.tensor(x_lin[..., None]).float()\n",
    "    if torch.cuda.is_available():\n",
    "        xx = xx.cuda()\n",
    "    pred = model(xx)\n",
    "\n",
    "    if DUE:\n",
    "        ol = likelihood(pred)\n",
    "        output = ol.mean.cpu()\n",
    "        output_std = ol.stddev.cpu()\n",
    "    else:\n",
    "        output = pred[0].squeeze().cpu()\n",
    "        output_var = pred[1].diagonal()\n",
    "        output_std = output_var.sqrt().cpu()"
   ]
  },
  {
   "cell_type": "code",
   "execution_count": null,
   "metadata": {},
   "outputs": [
    {
     "data": {
      "text/plain": [
       "[<matplotlib.lines.Line2D at 0x7f9edaafd8e0>]"
      ]
     },
     "execution_count": 8,
     "metadata": {},
     "output_type": "execute_result"
    },
    {
     "data": {
      "image/png": "[encoded data removed]",
      "text/plain": [
       "<Figure size 640x480 with 1 Axes>"
      ]
     },
     "metadata": {},
     "output_type": "display_data"
    }
   ],
   "source": [
    "plt.xlim(-domain, domain)\n",
    "plt.ylim(-10, 10)\n",
    "plt.fill_between(x_lin, output - output_std, output + output_std, alpha=0.2, color='b')\n",
    "plt.fill_between(x_lin, output - 2 * output_std, output + 2 * output_std, alpha=0.2, color='b')\n",
    "\n",
    "plt.scatter([], [])\n",
    "plt.scatter([], [])\n",
    "X_vis, y_vis = make_data(n_samples=300)\n",
    "\n",
    "plt.scatter(X_vis.squeeze(), y_vis, facecolors='none', edgecolors='g', linewidth=2)\n",
    "plt.plot(x_lin, output, alpha=0.5)"
   ]
  },
  {
   "cell_type": "code",
   "execution_count": null,
   "metadata": {},
   "outputs": [
    {
     "data": {
      "text/plain": [
       "<matplotlib.collections.PathCollection at 0x7f9eda983230>"
      ]
     },
     "execution_count": 9,
     "metadata": {},
     "output_type": "execute_result"
    },
    {
     "data": {
      "image/png": "[encoded data removed]",
      "text/plain": [
       "<Figure size 640x480 with 1 Axes>"
      ]
     },
     "metadata": {},
     "output_type": "display_data"
    }
   ],
   "source": [
    "plt.xlim(-domain, domain)\n",
    "\n",
    "for i in range(12):\n",
    "    plt.plot(x_lin, ol.rsample().cpu(), alpha=0.3, color='b')\n",
    "    \n",
    "plt.scatter([], [])\n",
    "plt.scatter([], [])\n",
    "X_vis, y_vis = make_data(n_samples=200)\n",
    "plt.scatter(X_vis.squeeze(), y_vis, s=50)"
   ]
  },
  {
   "cell_type": "code",
   "execution_count": null,
   "metadata": {},
   "outputs": [
    {
     "name": "stdout",
     "output_type": "stream",
     "text": [
      "Iter 1/100 - Loss: 0.838   lengthscale: 0.693   noise: 0.693\n",
      "Iter 2/100 - Loss: 0.786   lengthscale: 0.744   noise: 0.644\n",
      "Iter 3/100 - Loss: 0.745   lengthscale: 0.728   noise: 0.598\n",
      "Iter 4/100 - Loss: 0.705   lengthscale: 0.698   noise: 0.554\n",
      "Iter 5/100 - Loss: 0.661   lengthscale: 0.698   noise: 0.513\n",
      "Iter 6/100 - Loss: 0.619   lengthscale: 0.715   noise: 0.474\n",
      "Iter 7/100 - Loss: 0.582   lengthscale: 0.742   noise: 0.437\n",
      "Iter 8/100 - Loss: 0.530   lengthscale: 0.770   noise: 0.402\n",
      "Iter 9/100 - Loss: 0.497   lengthscale: 0.782   noise: 0.370\n",
      "Iter 10/100 - Loss: 0.446   lengthscale: 0.793   noise: 0.340\n",
      "Iter 11/100 - Loss: 0.399   lengthscale: 0.800   noise: 0.312\n",
      "Iter 12/100 - Loss: 0.360   lengthscale: 0.811   noise: 0.285\n",
      "Iter 13/100 - Loss: 0.313   lengthscale: 0.809   noise: 0.261\n",
      "Iter 14/100 - Loss: 0.270   lengthscale: 0.797   noise: 0.238\n",
      "Iter 15/100 - Loss: 0.225   lengthscale: 0.784   noise: 0.218\n",
      "Iter 16/100 - Loss: 0.182   lengthscale: 0.784   noise: 0.198\n",
      "Iter 17/100 - Loss: 0.130   lengthscale: 0.785   noise: 0.181\n",
      "Iter 18/100 - Loss: 0.086   lengthscale: 0.793   noise: 0.164\n",
      "Iter 19/100 - Loss: 0.034   lengthscale: 0.800   noise: 0.149\n",
      "Iter 20/100 - Loss: -0.006   lengthscale: 0.799   noise: 0.136\n",
      "Iter 21/100 - Loss: -0.059   lengthscale: 0.804   noise: 0.123\n",
      "Iter 22/100 - Loss: -0.090   lengthscale: 0.811   noise: 0.112\n",
      "Iter 23/100 - Loss: -0.152   lengthscale: 0.828   noise: 0.101\n",
      "Iter 24/100 - Loss: -0.197   lengthscale: 0.847   noise: 0.092\n",
      "Iter 25/100 - Loss: -0.242   lengthscale: 0.860   noise: 0.083\n",
      "Iter 26/100 - Loss: -0.286   lengthscale: 0.862   noise: 0.075\n",
      "Iter 27/100 - Loss: -0.336   lengthscale: 0.847   noise: 0.068\n",
      "Iter 28/100 - Loss: -0.385   lengthscale: 0.821   noise: 0.061\n",
      "Iter 29/100 - Loss: -0.439   lengthscale: 0.806   noise: 0.055\n",
      "Iter 30/100 - Loss: -0.488   lengthscale: 0.778   noise: 0.050\n",
      "Iter 31/100 - Loss: -0.527   lengthscale: 0.762   noise: 0.045\n",
      "Iter 32/100 - Loss: -0.571   lengthscale: 0.758   noise: 0.041\n",
      "Iter 33/100 - Loss: -0.626   lengthscale: 0.765   noise: 0.037\n",
      "Iter 34/100 - Loss: -0.677   lengthscale: 0.773   noise: 0.033\n",
      "Iter 35/100 - Loss: -0.713   lengthscale: 0.780   noise: 0.030\n",
      "Iter 36/100 - Loss: -0.769   lengthscale: 0.787   noise: 0.027\n",
      "Iter 37/100 - Loss: -0.807   lengthscale: 0.791   noise: 0.024\n",
      "Iter 38/100 - Loss: -0.866   lengthscale: 0.815   noise: 0.022\n",
      "Iter 39/100 - Loss: -0.899   lengthscale: 0.833   noise: 0.020\n",
      "Iter 40/100 - Loss: -0.979   lengthscale: 0.870   noise: 0.018\n",
      "Iter 41/100 - Loss: -1.018   lengthscale: 0.865   noise: 0.016\n",
      "Iter 42/100 - Loss: -1.017   lengthscale: 0.838   noise: 0.015\n",
      "Iter 43/100 - Loss: -1.054   lengthscale: 0.820   noise: 0.013\n",
      "Iter 44/100 - Loss: -1.115   lengthscale: 0.792   noise: 0.012\n",
      "Iter 45/100 - Loss: -1.130   lengthscale: 0.755   noise: 0.011\n",
      "Iter 46/100 - Loss: -1.154   lengthscale: 0.716   noise: 0.010\n",
      "Iter 47/100 - Loss: -1.183   lengthscale: 0.685   noise: 0.009\n",
      "Iter 48/100 - Loss: -1.215   lengthscale: 0.654   noise: 0.008\n",
      "Iter 49/100 - Loss: -1.236   lengthscale: 0.627   noise: 0.007\n",
      "Iter 50/100 - Loss: -1.254   lengthscale: 0.604   noise: 0.007\n",
      "Iter 51/100 - Loss: -1.264   lengthscale: 0.593   noise: 0.006\n",
      "Iter 52/100 - Loss: -1.267   lengthscale: 0.593   noise: 0.006\n",
      "Iter 53/100 - Loss: -1.293   lengthscale: 0.598   noise: 0.005\n",
      "Iter 54/100 - Loss: -1.312   lengthscale: 0.609   noise: 0.005\n",
      "Iter 55/100 - Loss: -1.295   lengthscale: 0.620   noise: 0.004\n",
      "Iter 56/100 - Loss: -1.354   lengthscale: 0.641   noise: 0.004\n",
      "Iter 57/100 - Loss: -1.354   lengthscale: 0.663   noise: 0.004\n",
      "Iter 58/100 - Loss: -1.357   lengthscale: 0.691   noise: 0.004\n",
      "Iter 59/100 - Loss: -1.401   lengthscale: 0.723   noise: 0.003\n",
      "Iter 60/100 - Loss: -1.365   lengthscale: 0.753   noise: 0.003\n",
      "Iter 61/100 - Loss: -1.348   lengthscale: 0.782   noise: 0.003\n",
      "Iter 62/100 - Loss: -1.370   lengthscale: 0.790   noise: 0.003\n",
      "Iter 63/100 - Loss: -1.357   lengthscale: 0.802   noise: 0.003\n",
      "Iter 64/100 - Loss: -1.380   lengthscale: 0.818   noise: 0.003\n",
      "Iter 65/100 - Loss: -1.406   lengthscale: 0.835   noise: 0.002\n",
      "Iter 66/100 - Loss: -1.364   lengthscale: 0.833   noise: 0.002\n",
      "Iter 67/100 - Loss: -1.369   lengthscale: 0.813   noise: 0.002\n",
      "Iter 68/100 - Loss: -1.329   lengthscale: 0.793   noise: 0.002\n",
      "Iter 69/100 - Loss: -1.355   lengthscale: 0.772   noise: 0.002\n",
      "Iter 70/100 - Loss: -1.322   lengthscale: 0.748   noise: 0.002\n",
      "Iter 71/100 - Loss: -1.372   lengthscale: 0.728   noise: 0.002\n",
      "Iter 72/100 - Loss: -1.340   lengthscale: 0.713   noise: 0.002\n",
      "Iter 73/100 - Loss: -1.345   lengthscale: 0.694   noise: 0.002\n",
      "Iter 74/100 - Loss: -1.308   lengthscale: 0.682   noise: 0.002\n",
      "Iter 75/100 - Loss: -1.322   lengthscale: 0.679   noise: 0.002\n",
      "Iter 76/100 - Loss: -1.239   lengthscale: 0.651   noise: 0.002\n",
      "Iter 77/100 - Loss: -1.275   lengthscale: 0.626   noise: 0.002\n",
      "Iter 78/100 - Loss: -1.267   lengthscale: 0.595   noise: 0.002\n",
      "Iter 79/100 - Loss: -1.212   lengthscale: 0.572   noise: 0.002\n",
      "Iter 80/100 - Loss: -1.214   lengthscale: 0.549   noise: 0.002\n",
      "Iter 81/100 - Loss: -1.259   lengthscale: 0.536   noise: 0.002\n",
      "Iter 82/100 - Loss: -1.279   lengthscale: 0.528   noise: 0.002\n",
      "Iter 83/100 - Loss: -1.240   lengthscale: 0.525   noise: 0.002\n",
      "Iter 84/100 - Loss: -1.216   lengthscale: 0.522   noise: 0.002\n",
      "Iter 85/100 - Loss: -1.242   lengthscale: 0.534   noise: 0.003\n",
      "Iter 86/100 - Loss: -1.270   lengthscale: 0.553   noise: 0.003\n",
      "Iter 87/100 - Loss: -1.317   lengthscale: 0.562   noise: 0.003\n",
      "Iter 88/100 - Loss: -1.315   lengthscale: 0.571   noise: 0.003\n",
      "Iter 89/100 - Loss: -1.308   lengthscale: 0.578   noise: 0.003\n",
      "Iter 90/100 - Loss: -1.339   lengthscale: 0.583   noise: 0.003\n",
      "Iter 91/100 - Loss: -1.313   lengthscale: 0.593   noise: 0.003\n",
      "Iter 92/100 - Loss: -1.330   lengthscale: 0.605   noise: 0.003\n",
      "Iter 93/100 - Loss: -1.298   lengthscale: 0.611   noise: 0.003\n",
      "Iter 94/100 - Loss: -1.312   lengthscale: 0.609   noise: 0.003\n",
      "Iter 95/100 - Loss: -1.314   lengthscale: 0.612   noise: 0.003\n",
      "Iter 96/100 - Loss: -1.294   lengthscale: 0.609   noise: 0.003\n",
      "Iter 97/100 - Loss: -1.310   lengthscale: 0.609   noise: 0.003\n",
      "Iter 98/100 - Loss: -1.261   lengthscale: 0.611   noise: 0.003\n",
      "Iter 99/100 - Loss: -1.309   lengthscale: 0.620   noise: 0.003\n",
      "Iter 100/100 - Loss: -1.308   lengthscale: 0.631   noise: 0.003\n"
     ]
    }
   ],
   "source": [
    "# Inspired by https://docs.gpytorch.ai/en/stable/examples/01_Exact_GPs/Simple_GP_Regression.html\n",
    "# only works on 1,000 samples\n",
    "\n",
    "train_x, train_y = torch.tensor(x).float(), torch.tensor(y).float()\n",
    "\n",
    "class ExactGPModel(gpytorch.models.ExactGP):\n",
    "    def __init__(self, train_x, train_y, likelihood):\n",
    "        super(ExactGPModel, self).__init__(train_x, train_y, likelihood)\n",
    "        self.mean_module = gpytorch.means.ConstantMean()\n",
    "        self.covar_module = gpytorch.kernels.ScaleKernel(gpytorch.kernels.RBFKernel())\n",
    "\n",
    "    def forward(self, x):\n",
    "        mean_x = self.mean_module(x)\n",
    "        covar_x = self.covar_module(x)\n",
    "        return gpytorch.distributions.MultivariateNormal(mean_x, covar_x)\n",
    "\n",
    "likelihood = GaussianLikelihood()\n",
    "exact_gp = ExactGPModel(train_x, train_y, likelihood)\n",
    "\n",
    "exact_gp.train()\n",
    "likelihood.train()\n",
    "\n",
    "optimizer = torch.optim.Adam(exact_gp.parameters(), lr=0.1)\n",
    "\n",
    "mll = gpytorch.mlls.ExactMarginalLogLikelihood(likelihood, exact_gp)\n",
    "\n",
    "training_iter = 100\n",
    "\n",
    "for i in range(training_iter):\n",
    "    optimizer.zero_grad()\n",
    "    output = exact_gp(train_x)\n",
    "    loss = -mll(output, train_y)\n",
    "    loss.backward()\n",
    "    print('Iter %d/%d - Loss: %.3f   lengthscale: %.3f   noise: %.3f' % (\n",
    "        i + 1, training_iter, loss.item(),\n",
    "        exact_gp.covar_module.base_kernel.lengthscale.item(),\n",
    "        exact_gp.likelihood.noise.item()\n",
    "    ))\n",
    "    optimizer.step()"
   ]
  },
  {
   "cell_type": "code",
   "execution_count": null,
   "metadata": {},
   "outputs": [
    {
     "data": {
      "text/plain": [
       "[<matplotlib.lines.Line2D at 0x7f9eda9adc40>]"
      ]
     },
     "execution_count": 11,
     "metadata": {},
     "output_type": "execute_result"
    },
    {
     "data": {
      "image/png": "[encoded data removed]",
      "text/plain": [
       "<Figure size 640x480 with 1 Axes>"
      ]
     },
     "metadata": {},
     "output_type": "display_data"
    }
   ],
   "source": [
    "exact_gp.eval()\n",
    "likelihood.eval()\n",
    "\n",
    "with torch.no_grad(), gpytorch.settings.fast_pred_var():\n",
    "    test_x = torch.linspace(-domain, domain, 100)\n",
    "    observed_pred = likelihood(exact_gp(test_x))\n",
    "    output = observed_pred.mean\n",
    "    output_std = observed_pred.stddev\n",
    "\n",
    "plt.xlim(-domain, domain)\n",
    "plt.fill_between(x_lin, output - output_std, output + output_std, alpha=0.2, color='b')\n",
    "plt.fill_between(x_lin, output - 2 * output_std, output + 2 * output_std, alpha=0.2, color='b')\n",
    "\n",
    "plt.scatter([], [])\n",
    "plt.scatter([], [])\n",
    "X_vis, y_vis = make_data(n_samples=300)\n",
    "\n",
    "plt.scatter(X_vis.squeeze(), y_vis, facecolors='none', edgecolors='g', linewidth=2)\n",
    "plt.plot(x_lin, output, alpha=0.5)"
   ]
  }
 ],
 "metadata": {
  "kernelspec": {
   "display_name": "Python 3",
   "language": "python",
   "name": "python3"
  },
  "language_info": {
   "codemirror_mode": {
    "name": "ipython",
    "version": 3
   },
   "file_extension": ".py",
   "mimetype": "text/x-python",
   "name": "python",
   "nbconvert_exporter": "python",
   "pygments_lexer": "ipython3",
   "version": "undefined.undefined.undefined"
  }
 },
 "nbformat": 4,
 "nbformat_minor": 4
}
